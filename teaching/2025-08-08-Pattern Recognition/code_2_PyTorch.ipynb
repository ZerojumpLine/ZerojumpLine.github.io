{
 "cells": [
  {
   "cell_type": "markdown",
   "metadata": {
    "id": "ZCL3lahukMnQ"
   },
   "source": [
    "# PyTorch\n",
    "Adapted from https://uvadlc.github.io/\n",
    "\n",
    "Consider to download this Jupyter Notebook and run locally, or test it with Colab.\n",
    "<br>\n",
    "\n",
    "[![Download](https://img.shields.io/badge/Download-jupyter-blue)](https://github.com/ZerojumpLine/ZerojumpLine.github.io/blob/master/teaching/2025-08-08-Pattern%20Recognition/code_2_PyTorch.ipynb)\n",
    "[![Open In Colab](https://colab.research.google.com/assets/colab-badge.svg)](https://colab.research.google.com/drive/1OW057UmjjmILQtD8EhEtvx-V2iKws5WTe)"
   ]
  },
  {
   "cell_type": "markdown",
   "metadata": {
    "id": "xDrs_8elkMnR"
   },
   "source": [
    "The following notebook is meant to give a short introduction to PyTorch basics, and get you setup for writing your own neural networks. "
   ]
  },
  {
   "cell_type": "markdown",
   "metadata": {},
   "source": [
    "# Install required packages"
   ]
  },
  {
   "cell_type": "code",
   "execution_count": 1,
   "metadata": {
    "scrolled": true
   },
   "outputs": [
    {
     "name": "stdout",
     "output_type": "stream",
     "text": [
      "Requirement already satisfied: numpy in /opt/anaconda3/lib/python3.12/site-packages (1.26.4)\n",
      "Requirement already satisfied: torch in /opt/anaconda3/lib/python3.12/site-packages (2.8.0)\n",
      "Requirement already satisfied: filelock in /opt/anaconda3/lib/python3.12/site-packages (from torch) (3.13.1)\n",
      "Requirement already satisfied: typing-extensions>=4.10.0 in /opt/anaconda3/lib/python3.12/site-packages (from torch) (4.15.0)\n",
      "Requirement already satisfied: setuptools in /opt/anaconda3/lib/python3.12/site-packages (from torch) (75.1.0)\n",
      "Requirement already satisfied: sympy>=1.13.3 in /opt/anaconda3/lib/python3.12/site-packages (from torch) (1.14.0)\n",
      "Requirement already satisfied: networkx in /opt/anaconda3/lib/python3.12/site-packages (from torch) (3.3)\n",
      "Requirement already satisfied: jinja2 in /opt/anaconda3/lib/python3.12/site-packages (from torch) (3.1.4)\n",
      "Requirement already satisfied: fsspec in /opt/anaconda3/lib/python3.12/site-packages (from torch) (2024.6.1)\n",
      "Requirement already satisfied: mpmath<1.4,>=1.1.0 in /opt/anaconda3/lib/python3.12/site-packages (from sympy>=1.13.3->torch) (1.3.0)\n",
      "Requirement already satisfied: MarkupSafe>=2.0 in /opt/anaconda3/lib/python3.12/site-packages (from jinja2->torch) (2.1.3)\n",
      "Requirement already satisfied: matplotlib in /opt/anaconda3/lib/python3.12/site-packages (3.9.2)\n",
      "Requirement already satisfied: contourpy>=1.0.1 in /opt/anaconda3/lib/python3.12/site-packages (from matplotlib) (1.2.0)\n",
      "Requirement already satisfied: cycler>=0.10 in /opt/anaconda3/lib/python3.12/site-packages (from matplotlib) (0.11.0)\n",
      "Requirement already satisfied: fonttools>=4.22.0 in /opt/anaconda3/lib/python3.12/site-packages (from matplotlib) (4.51.0)\n",
      "Requirement already satisfied: kiwisolver>=1.3.1 in /opt/anaconda3/lib/python3.12/site-packages (from matplotlib) (1.4.4)\n",
      "Requirement already satisfied: numpy>=1.23 in /opt/anaconda3/lib/python3.12/site-packages (from matplotlib) (1.26.4)\n",
      "Requirement already satisfied: packaging>=20.0 in /opt/anaconda3/lib/python3.12/site-packages (from matplotlib) (24.1)\n",
      "Requirement already satisfied: pillow>=8 in /opt/anaconda3/lib/python3.12/site-packages (from matplotlib) (10.4.0)\n",
      "Requirement already satisfied: pyparsing>=2.3.1 in /opt/anaconda3/lib/python3.12/site-packages (from matplotlib) (3.1.2)\n",
      "Requirement already satisfied: python-dateutil>=2.7 in /opt/anaconda3/lib/python3.12/site-packages (from matplotlib) (2.9.0.post0)\n",
      "Requirement already satisfied: six>=1.5 in /opt/anaconda3/lib/python3.12/site-packages (from python-dateutil>=2.7->matplotlib) (1.16.0)\n",
      "Requirement already satisfied: seaborn in /opt/anaconda3/lib/python3.12/site-packages (0.13.2)\n",
      "Requirement already satisfied: numpy!=1.24.0,>=1.20 in /opt/anaconda3/lib/python3.12/site-packages (from seaborn) (1.26.4)\n",
      "Requirement already satisfied: pandas>=1.2 in /opt/anaconda3/lib/python3.12/site-packages (from seaborn) (2.2.2)\n",
      "Requirement already satisfied: matplotlib!=3.6.1,>=3.4 in /opt/anaconda3/lib/python3.12/site-packages (from seaborn) (3.9.2)\n",
      "Requirement already satisfied: contourpy>=1.0.1 in /opt/anaconda3/lib/python3.12/site-packages (from matplotlib!=3.6.1,>=3.4->seaborn) (1.2.0)\n",
      "Requirement already satisfied: cycler>=0.10 in /opt/anaconda3/lib/python3.12/site-packages (from matplotlib!=3.6.1,>=3.4->seaborn) (0.11.0)\n",
      "Requirement already satisfied: fonttools>=4.22.0 in /opt/anaconda3/lib/python3.12/site-packages (from matplotlib!=3.6.1,>=3.4->seaborn) (4.51.0)\n",
      "Requirement already satisfied: kiwisolver>=1.3.1 in /opt/anaconda3/lib/python3.12/site-packages (from matplotlib!=3.6.1,>=3.4->seaborn) (1.4.4)\n",
      "Requirement already satisfied: packaging>=20.0 in /opt/anaconda3/lib/python3.12/site-packages (from matplotlib!=3.6.1,>=3.4->seaborn) (24.1)\n",
      "Requirement already satisfied: pillow>=8 in /opt/anaconda3/lib/python3.12/site-packages (from matplotlib!=3.6.1,>=3.4->seaborn) (10.4.0)\n",
      "Requirement already satisfied: pyparsing>=2.3.1 in /opt/anaconda3/lib/python3.12/site-packages (from matplotlib!=3.6.1,>=3.4->seaborn) (3.1.2)\n",
      "Requirement already satisfied: python-dateutil>=2.7 in /opt/anaconda3/lib/python3.12/site-packages (from matplotlib!=3.6.1,>=3.4->seaborn) (2.9.0.post0)\n",
      "Requirement already satisfied: pytz>=2020.1 in /opt/anaconda3/lib/python3.12/site-packages (from pandas>=1.2->seaborn) (2024.1)\n",
      "Requirement already satisfied: tzdata>=2022.7 in /opt/anaconda3/lib/python3.12/site-packages (from pandas>=1.2->seaborn) (2023.3)\n",
      "Requirement already satisfied: six>=1.5 in /opt/anaconda3/lib/python3.12/site-packages (from python-dateutil>=2.7->matplotlib!=3.6.1,>=3.4->seaborn) (1.16.0)\n",
      "Requirement already satisfied: tqdm in /opt/anaconda3/lib/python3.12/site-packages (4.66.5)\n"
     ]
    }
   ],
   "source": [
    "!pip install numpy\n",
    "!pip install torch\n",
    "!pip install matplotlib\n",
    "!pip install seaborn\n",
    "!pip install tqdm"
   ]
  },
  {
   "cell_type": "code",
   "execution_count": 2,
   "metadata": {
    "id": "7Jp_2ZOWkMnS",
    "outputId": "fed3cf4d-0a7b-482c-e3ab-8aaba8e49e52"
   },
   "outputs": [
    {
     "name": "stderr",
     "output_type": "stream",
     "text": [
      "/var/folders/nl/7_2jcxd12wb5z06jvsj1v4240000gn/T/ipykernel_52275/2956802688.py:11: DeprecationWarning: `set_matplotlib_formats` is deprecated since IPython 7.23, directly use `matplotlib_inline.backend_inline.set_matplotlib_formats()`\n",
      "  set_matplotlib_formats('svg', 'pdf') # For export\n"
     ]
    }
   ],
   "source": [
    "## Standard libraries\n",
    "import os\n",
    "import math\n",
    "import numpy as np\n",
    "import time\n",
    "\n",
    "## Imports for plotting\n",
    "import matplotlib.pyplot as plt\n",
    "%matplotlib inline\n",
    "from IPython.display import set_matplotlib_formats\n",
    "set_matplotlib_formats('svg', 'pdf') # For export\n",
    "from matplotlib.colors import to_rgba\n",
    "import seaborn as sns\n",
    "sns.set()\n",
    "\n",
    "## Progress bar\n",
    "from tqdm import tqdm"
   ]
  },
  {
   "cell_type": "markdown",
   "metadata": {
    "id": "gyGADqG-kMnS"
   },
   "source": [
    "## The Basics of PyTorch\n",
    "\n",
    "We will start with reviewing the very basic concepts of PyTorch. As a prerequisite, we recommend to be familiar with the `numpy` package as most machine learning frameworks are based on very similar concepts. If you are not familiar with numpy yet, don't worry: here is a [tutorial](https://numpy.org/devdocs/user/quickstart.html) to go through.\n",
    "\n",
    "So, let's start with importing PyTorch. The package is called `torch`, based on its original framework [Torch](http://torch.ch/). As a first step, we can check its version:"
   ]
  },
  {
   "cell_type": "code",
   "execution_count": 3,
   "metadata": {
    "id": "xnN39MUxkMnS",
    "outputId": "3b4f3bb3-b51e-472c-efd9-3690993d04a0"
   },
   "outputs": [
    {
     "name": "stdout",
     "output_type": "stream",
     "text": [
      "Using torch 2.8.0\n"
     ]
    }
   ],
   "source": [
    "import torch\n",
    "print(\"Using torch\", torch.__version__)"
   ]
  },
  {
   "cell_type": "markdown",
   "metadata": {
    "id": "Zm19_uPCkMnT"
   },
   "source": [
    "As in every machine learning framework, PyTorch provides functions that are stochastic like generating random numbers. However, a very good practice is to setup your code to be reproducible with the exact same random numbers. This is why we set a seed below."
   ]
  },
  {
   "cell_type": "code",
   "execution_count": 4,
   "metadata": {
    "id": "ho5gEGr1kMnT",
    "outputId": "cd628589-d87a-4db6-f98d-9e6e35abe395"
   },
   "outputs": [
    {
     "data": {
      "text/plain": [
       "<torch._C.Generator at 0x17314fb30>"
      ]
     },
     "execution_count": 4,
     "metadata": {},
     "output_type": "execute_result"
    }
   ],
   "source": [
    "torch.manual_seed(42) # Setting the seed"
   ]
  },
  {
   "cell_type": "markdown",
   "metadata": {
    "id": "UGAsOeFIkMnT"
   },
   "source": [
    "### Tensors\n",
    "\n",
    "Tensors are the PyTorch equivalent to Numpy arrays, with the addition to also have support for GPU acceleration (more on that later).\n",
    "The name \"tensor\" is a generalization of concepts you already know. For instance, a vector is a 1-D tensor, and a matrix a 2-D tensor. When working with neural networks, we will use tensors of various shapes and number of dimensions.\n",
    "\n",
    "Most common functions you know from numpy can be used on tensors as well. Actually, since numpy arrays are so similar to tensors, we can convert most tensors to numpy arrays (and back) but we don't need it too often.\n",
    "\n",
    "#### Initialization\n",
    "\n",
    "Let's first start by looking at different ways of creating a tensor. There are many possible options, the simplest one is to call `torch.Tensor` passing the desired shape as input argument:"
   ]
  },
  {
   "cell_type": "code",
   "execution_count": 5,
   "metadata": {
    "id": "Iw7dYjyxkMnU",
    "outputId": "73ff12e9-799d-4fdd-c965-998c683f462b"
   },
   "outputs": [
    {
     "name": "stdout",
     "output_type": "stream",
     "text": [
      "tensor([[[0., 0., 0., 0.],\n",
      "         [0., 0., 0., 0.],\n",
      "         [0., 0., 0., 0.]],\n",
      "\n",
      "        [[0., 0., 0., 0.],\n",
      "         [0., 0., 0., 0.],\n",
      "         [0., 0., 0., 0.]]])\n"
     ]
    }
   ],
   "source": [
    "x = torch.Tensor(2, 3, 4)\n",
    "print(x)"
   ]
  },
  {
   "cell_type": "markdown",
   "metadata": {
    "id": "Ud36KdaqkMnU"
   },
   "source": [
    "The function `torch.Tensor` allocates memory for the desired tensor, but reuses any values that have already been in the memory. To directly assign values to the tensor during initialization, there are many alternatives including:\n",
    "\n",
    "* `torch.zeros`: Creates a tensor filled with zeros\n",
    "* `torch.ones`: Creates a tensor filled with ones\n",
    "* `torch.rand`: Creates a tensor with random values uniformly sampled between 0 and 1\n",
    "* `torch.randn`: Creates a tensor with random values sampled from a normal distribution with mean 0 and variance 1\n",
    "* `torch.arange`: Creates a tensor containing the values $N,N+1,N+2,...,M$\n",
    "* `torch.Tensor` (input list): Creates a tensor from the list elements you provide"
   ]
  },
  {
   "cell_type": "code",
   "execution_count": 6,
   "metadata": {
    "id": "pCIPOFyqkMnU",
    "outputId": "47f9e29d-c513-4022-b498-1a2b8cd25749"
   },
   "outputs": [
    {
     "name": "stdout",
     "output_type": "stream",
     "text": [
      "tensor([[1., 2.],\n",
      "        [3., 4.]])\n"
     ]
    }
   ],
   "source": [
    "# Create a tensor from a (nested) list\n",
    "x = torch.Tensor([[1, 2], [3, 4]])\n",
    "print(x)"
   ]
  },
  {
   "cell_type": "code",
   "execution_count": 7,
   "metadata": {
    "id": "6CBWfpj9kMnU",
    "outputId": "70ee9c68-c3f9-4664-b0f4-35b045cd4eb2"
   },
   "outputs": [
    {
     "name": "stdout",
     "output_type": "stream",
     "text": [
      "tensor([[[0.8823, 0.9150, 0.3829, 0.9593],\n",
      "         [0.3904, 0.6009, 0.2566, 0.7936],\n",
      "         [0.9408, 0.1332, 0.9346, 0.5936]],\n",
      "\n",
      "        [[0.8694, 0.5677, 0.7411, 0.4294],\n",
      "         [0.8854, 0.5739, 0.2666, 0.6274],\n",
      "         [0.2696, 0.4414, 0.2969, 0.8317]]])\n"
     ]
    }
   ],
   "source": [
    "# Create a tensor with random values between 0 and 1 with the shape [2, 3, 4]\n",
    "x = torch.rand(2, 3, 4)\n",
    "print(x)"
   ]
  },
  {
   "cell_type": "markdown",
   "metadata": {
    "id": "NTZZrEiikMnU"
   },
   "source": [
    "You can obtain the shape of a tensor in the same way as in numpy (`x.shape`), or using the `.size` method:"
   ]
  },
  {
   "cell_type": "code",
   "execution_count": 8,
   "metadata": {
    "id": "IXW3X-wfkMnV",
    "outputId": "c1306ccd-d0da-496b-922d-d44eeaef3e00"
   },
   "outputs": [
    {
     "name": "stdout",
     "output_type": "stream",
     "text": [
      "Shape: torch.Size([2, 3, 4])\n",
      "Size: torch.Size([2, 3, 4])\n",
      "Size: 2 3 4\n"
     ]
    }
   ],
   "source": [
    "shape = x.shape\n",
    "print(\"Shape:\", x.shape)\n",
    "\n",
    "size = x.size()\n",
    "print(\"Size:\", size)\n",
    "\n",
    "dim1, dim2, dim3 = x.size()\n",
    "print(\"Size:\", dim1, dim2, dim3)"
   ]
  },
  {
   "cell_type": "markdown",
   "metadata": {
    "id": "fnFho9oBkMnV"
   },
   "source": [
    "#### Tensor to Numpy, and Numpy to Tensor\n",
    "\n",
    "Tensors can be converted to numpy arrays, and numpy arrays back to tensors. To transform a numpy array into a tensor, we can use the function `torch.from_numpy`:"
   ]
  },
  {
   "cell_type": "code",
   "execution_count": 9,
   "metadata": {
    "id": "AJ9FoK0IkMnV",
    "outputId": "1cf967ae-6af5-4781-bc01-4bc0c507fbde"
   },
   "outputs": [
    {
     "name": "stdout",
     "output_type": "stream",
     "text": [
      "Numpy array: [[1 2]\n",
      " [3 4]]\n",
      "PyTorch tensor: tensor([[1, 2],\n",
      "        [3, 4]])\n"
     ]
    }
   ],
   "source": [
    "np_arr = np.array([[1, 2], [3, 4]])\n",
    "tensor = torch.from_numpy(np_arr)\n",
    "\n",
    "print(\"Numpy array:\", np_arr)\n",
    "print(\"PyTorch tensor:\", tensor)"
   ]
  },
  {
   "cell_type": "markdown",
   "metadata": {
    "id": "ReLQ6RJqkMnV"
   },
   "source": [
    "To transform a PyTorch tensor back to a numpy array, we can use the function `.numpy()` on tensors:"
   ]
  },
  {
   "cell_type": "code",
   "execution_count": 10,
   "metadata": {
    "id": "PpjpDPrqkMnV",
    "outputId": "cf90a81b-0c3b-4c62-ddac-b8c48829a783"
   },
   "outputs": [
    {
     "name": "stdout",
     "output_type": "stream",
     "text": [
      "PyTorch tensor: tensor([0, 1, 2, 3])\n",
      "Numpy array: [0 1 2 3]\n"
     ]
    }
   ],
   "source": [
    "tensor = torch.arange(4)\n",
    "np_arr = tensor.numpy()\n",
    "\n",
    "print(\"PyTorch tensor:\", tensor)\n",
    "print(\"Numpy array:\", np_arr)"
   ]
  },
  {
   "cell_type": "markdown",
   "metadata": {
    "id": "i7O2x2eHkMnV"
   },
   "source": [
    "The conversion of tensors to numpy require the tensor to be on the CPU, and not the GPU (more on GPU support in a later section). In case you have a tensor on GPU, you need to call `.cpu()` on the tensor beforehand. Hence, you get a line like `np_arr = tensor.cpu().numpy()`."
   ]
  },
  {
   "cell_type": "markdown",
   "metadata": {
    "id": "NGaRUQLakMnV"
   },
   "source": [
    "#### Operations\n",
    "\n",
    "Most operations that exist in numpy, also exist in PyTorch. A full list of operations can be found in the [PyTorch documentation](https://pytorch.org/docs/stable/tensors.html#), but we will review the most important ones here.\n",
    "\n",
    "The simplest operation is to add two tensors:"
   ]
  },
  {
   "cell_type": "code",
   "execution_count": 11,
   "metadata": {
    "id": "J6yyvHGDkMnV",
    "outputId": "57fe3d9f-6c64-45e3-9023-572e8c4daa00"
   },
   "outputs": [
    {
     "name": "stdout",
     "output_type": "stream",
     "text": [
      "X1 tensor([[0.1053, 0.2695, 0.3588],\n",
      "        [0.1994, 0.5472, 0.0062]])\n",
      "X2 tensor([[0.9516, 0.0753, 0.8860],\n",
      "        [0.5832, 0.3376, 0.8090]])\n",
      "Y tensor([[1.0569, 0.3448, 1.2448],\n",
      "        [0.7826, 0.8848, 0.8151]])\n"
     ]
    }
   ],
   "source": [
    "x1 = torch.rand(2, 3)\n",
    "x2 = torch.rand(2, 3)\n",
    "y = x1 + x2\n",
    "\n",
    "print(\"X1\", x1)\n",
    "print(\"X2\", x2)\n",
    "print(\"Y\", y)"
   ]
  },
  {
   "cell_type": "markdown",
   "metadata": {
    "id": "1fGYQXXqkMnW"
   },
   "source": [
    "Calling `x1 + x2` creates a new tensor containing the sum of the two inputs. However, we can also use in-place operations that are applied directly on the memory of a tensor. We therefore change the values of `x2` without the chance to re-accessing the values of `x2` before the operation. An example is shown below:"
   ]
  },
  {
   "cell_type": "code",
   "execution_count": 12,
   "metadata": {
    "id": "PVYrKthCkMnW",
    "outputId": "f46d76c0-0966-4ddd-a350-8e678c33c87e"
   },
   "outputs": [
    {
     "name": "stdout",
     "output_type": "stream",
     "text": [
      "X1 (before) tensor([[0.5779, 0.9040, 0.5547],\n",
      "        [0.3423, 0.6343, 0.3644]])\n",
      "X2 (before) tensor([[0.7104, 0.9464, 0.7890],\n",
      "        [0.2814, 0.7886, 0.5895]])\n",
      "X1 (after) tensor([[0.5779, 0.9040, 0.5547],\n",
      "        [0.3423, 0.6343, 0.3644]])\n",
      "X2 (after) tensor([[1.2884, 1.8504, 1.3437],\n",
      "        [0.6237, 1.4230, 0.9539]])\n"
     ]
    }
   ],
   "source": [
    "x1 = torch.rand(2, 3)\n",
    "x2 = torch.rand(2, 3)\n",
    "print(\"X1 (before)\", x1)\n",
    "print(\"X2 (before)\", x2)\n",
    "\n",
    "x2.add_(x1)\n",
    "print(\"X1 (after)\", x1)\n",
    "print(\"X2 (after)\", x2)"
   ]
  },
  {
   "cell_type": "markdown",
   "metadata": {
    "id": "jQJ5HQd1kMnW"
   },
   "source": [
    "In-place operations are usually marked with a underscore postfix (e.g. \"add_\" instead of \"add\").\n",
    "\n",
    "Another common operation aims at changing the shape of a tensor. A tensor of size (2,3) can be re-organized to any other shape with the same number of elements (e.g. a tensor of size (6), or (3,2), ...). In PyTorch, this operation is called `view`:"
   ]
  },
  {
   "cell_type": "code",
   "execution_count": 13,
   "metadata": {
    "id": "9TOh5XXLkMnW",
    "outputId": "a7d95453-219e-4bf7-d7a2-d1a8d3e0f813"
   },
   "outputs": [
    {
     "name": "stdout",
     "output_type": "stream",
     "text": [
      "X tensor([0, 1, 2, 3, 4, 5])\n"
     ]
    }
   ],
   "source": [
    "x = torch.arange(6)\n",
    "print(\"X\", x)"
   ]
  },
  {
   "cell_type": "code",
   "execution_count": 14,
   "metadata": {
    "id": "GE6RkarfkMnW",
    "outputId": "c72aec16-8cbb-4ec3-84a0-e0e7c7f5202e"
   },
   "outputs": [
    {
     "name": "stdout",
     "output_type": "stream",
     "text": [
      "X tensor([[0, 1, 2],\n",
      "        [3, 4, 5]])\n"
     ]
    }
   ],
   "source": [
    "x = x.view(2, 3)\n",
    "print(\"X\", x)"
   ]
  },
  {
   "cell_type": "code",
   "execution_count": 15,
   "metadata": {
    "id": "o7bv-fMJkMnW",
    "outputId": "59c428de-8449-464f-e33b-9b069f97590b"
   },
   "outputs": [
    {
     "name": "stdout",
     "output_type": "stream",
     "text": [
      "X tensor([[0, 3],\n",
      "        [1, 4],\n",
      "        [2, 5]])\n"
     ]
    }
   ],
   "source": [
    "x = x.permute(1, 0) # Swapping dimension 0 and 1\n",
    "print(\"X\", x)"
   ]
  },
  {
   "cell_type": "markdown",
   "metadata": {
    "id": "KoiWVynHkMnW"
   },
   "source": [
    "Other commonly used operations include matrix multiplications, which are essential for neural networks. Quite often, we have an input vector $\\mathbf{x}$, which is transformed using a learned weight matrix $\\mathbf{W}$. There are multiple ways and functions to perform matrix multiplication, some of which we list below:\n",
    "\n",
    "* `torch.matmul`: Performs the matrix product over two tensors, where the specific behavior depends on the dimensions. If both inputs are matrices (2-dimensional tensors), it performs the standard matrix product. For higher dimensional inputs, the function supports broadcasting (for details see the [documentation](https://pytorch.org/docs/stable/generated/torch.matmul.html?highlight=matmul#torch.matmul)). Can also be written as `a @ b`, similar to numpy.\n",
    "* `torch.mm`: Performs the matrix product over two matrices, but doesn't support broadcasting (see [documentation](https://pytorch.org/docs/stable/generated/torch.mm.html?highlight=torch%20mm#torch.mm))\n",
    "* `torch.bmm`: Performs the matrix product with a support batch dimension. If the first tensor $T$ is of shape ($b\\times n\\times m$), and the second tensor $R$ ($b\\times m\\times p$), the output $O$ is of shape ($b\\times n\\times p$), and has been calculated by performing $b$ matrix multiplications of the submatrices of $T$ and $R$: $O_i = T_i @ R_i$\n",
    "* `torch.einsum`: Performs matrix multiplications and more (i.e. sums of products) using the Einstein summation convention. Explanation of the Einstein sum can be found in assignment 1.\n",
    "\n",
    "Usually, we use `torch.matmul` or `torch.bmm`. We can try a matrix multiplication with `torch.matmul` below."
   ]
  },
  {
   "cell_type": "code",
   "execution_count": 16,
   "metadata": {
    "id": "p0-YDyI6kMnW",
    "outputId": "65f5668a-39eb-44fa-cfda-c743f0534f6f"
   },
   "outputs": [
    {
     "name": "stdout",
     "output_type": "stream",
     "text": [
      "X tensor([[0, 1, 2],\n",
      "        [3, 4, 5]])\n"
     ]
    }
   ],
   "source": [
    "x = torch.arange(6)\n",
    "x = x.view(2, 3)\n",
    "print(\"X\", x)"
   ]
  },
  {
   "cell_type": "code",
   "execution_count": 17,
   "metadata": {
    "id": "s03tpv1MkMnW",
    "outputId": "018dbd0a-a6df-4fd7-b548-564c95806aff"
   },
   "outputs": [
    {
     "name": "stdout",
     "output_type": "stream",
     "text": [
      "W tensor([[0, 1, 2],\n",
      "        [3, 4, 5],\n",
      "        [6, 7, 8]])\n"
     ]
    }
   ],
   "source": [
    "W = torch.arange(9).view(3, 3) # We can also stack multiple operations in a single line\n",
    "print(\"W\", W)"
   ]
  },
  {
   "cell_type": "code",
   "execution_count": 18,
   "metadata": {
    "id": "jZKpWQ8nkMnW",
    "outputId": "2976596f-2af8-415c-f7a0-db9bb1007d03"
   },
   "outputs": [
    {
     "name": "stdout",
     "output_type": "stream",
     "text": [
      "h tensor([[15, 18, 21],\n",
      "        [42, 54, 66]])\n"
     ]
    }
   ],
   "source": [
    "h = torch.matmul(x, W) # Verify the result by calculating it by hand too!\n",
    "print(\"h\", h)"
   ]
  },
  {
   "cell_type": "markdown",
   "metadata": {
    "id": "BPebMVLOkMnW"
   },
   "source": [
    "#### Indexing\n",
    "\n",
    "We often have the situation where we need to select a part of a tensor. Indexing works just like in numpy, so let's try it:"
   ]
  },
  {
   "cell_type": "code",
   "execution_count": 19,
   "metadata": {
    "id": "_45Fi8tbkMnW",
    "outputId": "519c07a9-92c9-491f-ea92-168ddbbaf6aa"
   },
   "outputs": [
    {
     "name": "stdout",
     "output_type": "stream",
     "text": [
      "X tensor([[ 0,  1,  2,  3],\n",
      "        [ 4,  5,  6,  7],\n",
      "        [ 8,  9, 10, 11]])\n"
     ]
    }
   ],
   "source": [
    "x = torch.arange(12).view(3, 4)\n",
    "print(\"X\", x)"
   ]
  },
  {
   "cell_type": "code",
   "execution_count": 20,
   "metadata": {
    "id": "Sl6R_5nfkMnW",
    "outputId": "93e831d6-dea9-4947-a91f-9964be7f10ba"
   },
   "outputs": [
    {
     "name": "stdout",
     "output_type": "stream",
     "text": [
      "tensor([1, 5, 9])\n"
     ]
    }
   ],
   "source": [
    "print(x[:, 1])   # Second column"
   ]
  },
  {
   "cell_type": "code",
   "execution_count": 21,
   "metadata": {
    "id": "vEuIWXNTkMnW",
    "outputId": "6fe25932-89be-4bdf-9a3c-0505110f356f"
   },
   "outputs": [
    {
     "name": "stdout",
     "output_type": "stream",
     "text": [
      "tensor([0, 1, 2, 3])\n"
     ]
    }
   ],
   "source": [
    "print(x[0])      # First row"
   ]
  },
  {
   "cell_type": "code",
   "execution_count": 22,
   "metadata": {
    "id": "2DvxpgapkMnW",
    "outputId": "c7b01ab9-1460-46cc-a4b1-82153855bab7"
   },
   "outputs": [
    {
     "name": "stdout",
     "output_type": "stream",
     "text": [
      "tensor([3, 7])\n"
     ]
    }
   ],
   "source": [
    "print(x[:2, -1]) # First two rows, last column"
   ]
  },
  {
   "cell_type": "code",
   "execution_count": 23,
   "metadata": {
    "id": "aylDCLM3kMnW",
    "outputId": "1407cf76-e675-44d9-b1f8-fc88ca44112d"
   },
   "outputs": [
    {
     "name": "stdout",
     "output_type": "stream",
     "text": [
      "tensor([[ 4,  5,  6,  7],\n",
      "        [ 8,  9, 10, 11]])\n"
     ]
    }
   ],
   "source": [
    "print(x[1:3, :]) # Middle two rows"
   ]
  },
  {
   "cell_type": "markdown",
   "metadata": {
    "id": "9JGT84x-kMnW"
   },
   "source": [
    "### Dynamic Computation Graph and Backpropagation\n",
    "\n",
    "One of the main reasons for using PyTorch in Deep Learning projects is that we can automatically get **gradients/derivatives** of functions that we define. We will mainly use PyTorch for implementing neural networks, and they are just fancy functions. If we use weight matrices in our function that we want to learn, then those are called the **parameters** or simply the **weights**.\n",
    "\n",
    "If our neural network would output a single scalar value, we would talk about taking the **derivative**, but you will see that quite often we will have **multiple** output variables (\"values\"); in that case we talk about **gradients**. It's a more general term.\n",
    "\n",
    "Given an input $\\mathbf{x}$, we define our function by **manipulating** that input, usually by matrix-multiplications with weight matrices and additions with so-called bias vectors. As we manipulate our input, we are automatically creating a **computational graph**. This graph shows how to arrive at our output from our input.\n",
    "PyTorch is a **define-by-run** framework; this means that we can just do our manipulations, and PyTorch will keep track of that graph for us. Thus, we create a dynamic computation graph along the way.\n",
    "\n",
    "So, to recap: the only thing we have to do is to compute the **output**, and then we can ask PyTorch to automatically get the **gradients**.\n",
    "\n",
    "> **Note:  Why do we want gradients?** Consider that we have defined a function, a neural net, that is supposed to compute a certain output $y$ for an input vector $\\mathbf{x}$. We then define an **error measure** that tells us how wrong our network is; how bad it is in predicting output $y$ from input $\\mathbf{x}$. Based on this error measure, we can use the gradients to **update** the weights $\\mathbf{W}$ that were responsible for the output, so that the next time we present input $\\mathbf{x}$ to our network, the output will be closer to what we want.\n",
    "\n",
    "The first thing we have to do is to specify which tensors require gradients. By default, when we create a tensor, it does not require gradients."
   ]
  },
  {
   "cell_type": "code",
   "execution_count": 24,
   "metadata": {
    "id": "5aYGHouMkMnX",
    "outputId": "a4333343-4a0e-4620-9343-226981aaed30"
   },
   "outputs": [
    {
     "name": "stdout",
     "output_type": "stream",
     "text": [
      "False\n"
     ]
    }
   ],
   "source": [
    "x = torch.ones((3,))\n",
    "print(x.requires_grad)"
   ]
  },
  {
   "cell_type": "markdown",
   "metadata": {
    "id": "pOKf353zkMni"
   },
   "source": [
    "We can change this for an existing tensor using the function `requires_grad_()` (underscore indicating that this is a in-place operation). Alternatively, when creating a tensor, you can pass the argument `requires_grad=True` to most initializers we have seen above."
   ]
  },
  {
   "cell_type": "code",
   "execution_count": 25,
   "metadata": {
    "id": "Z5zB2BPakMni",
    "outputId": "3ca33906-1e00-419c-8406-9447fec8f481"
   },
   "outputs": [
    {
     "name": "stdout",
     "output_type": "stream",
     "text": [
      "True\n"
     ]
    }
   ],
   "source": [
    "x.requires_grad_(True)\n",
    "print(x.requires_grad)"
   ]
  },
  {
   "cell_type": "markdown",
   "metadata": {
    "id": "6-3vp2XPkMni"
   },
   "source": [
    "In order to get familiar with the concept of a computation graph, we will create one for the following function:\n",
    "\n",
    "$$y = \\frac{1}{\\ell(x)}\\sum_i \\left[(x_i + 2)^2 + 3\\right],$$\n",
    "\n",
    "where we use $\\ell(x)$ to denote the number of elements in $x$. In other words, we are taking a mean here over the operation within the sum. You could imagine that $x$ are our parameters, and we want to optimize (either maximize or minimize) the output $y$. For this, we want to obtain the gradients $\\partial y / \\partial \\mathbf{x}$. For our example, we'll use $\\mathbf{x}=[0,1,2]$ as our input."
   ]
  },
  {
   "cell_type": "code",
   "execution_count": 26,
   "metadata": {
    "id": "8wl4pXdxkMni",
    "outputId": "09f8ed1b-20a1-4934-9d7b-902999966f1c"
   },
   "outputs": [
    {
     "name": "stdout",
     "output_type": "stream",
     "text": [
      "X tensor([0., 1., 2.], requires_grad=True)\n"
     ]
    }
   ],
   "source": [
    "x = torch.arange(3, dtype=torch.float32, requires_grad=True) # Only float tensors can have gradients\n",
    "print(\"X\", x)"
   ]
  },
  {
   "cell_type": "markdown",
   "metadata": {
    "id": "mJREJ8P4kMni"
   },
   "source": [
    "Now let's build the computation graph step by step. You can combine multiple operations in a single line, but we will separate them here to get a better understanding of how each operation is added to the computation graph."
   ]
  },
  {
   "cell_type": "code",
   "execution_count": 27,
   "metadata": {
    "id": "OJN_UyGVkMni",
    "outputId": "de8d305f-9800-49c9-f8b3-df8c994603d7"
   },
   "outputs": [
    {
     "name": "stdout",
     "output_type": "stream",
     "text": [
      "Y tensor(12.6667, grad_fn=<MeanBackward0>)\n"
     ]
    }
   ],
   "source": [
    "a = x + 2\n",
    "b = a ** 2\n",
    "c = b + 3\n",
    "y = c.mean()\n",
    "print(\"Y\", y)"
   ]
  },
  {
   "cell_type": "markdown",
   "metadata": {
    "id": "QX23wfePkMni"
   },
   "source": [
    "Using the statements above, we have created a computation graph that looks similar to the figure below:\n",
    "\n",
    "<center style=\"width: 100%\"><img src=\"https://github.com/phlippe/uvadlc_notebooks/blob/master/docs/tutorial_notebooks/tutorial2/pytorch_computation_graph.svg?raw=1\" width=\"200px\"></center>\n",
    "\n",
    "We calculate $a$ based on the inputs $x$ and the constant $2$, $b$ is $a$ squared, and so on. The visualization is an abstraction of the dependencies between inputs and outputs of the operations we have applied.\n",
    "Each node of the computation graph has automatically defined a function for calculating the gradients with respect to its inputs, `grad_fn`. You can see this when we printed the output tensor $y$. This is why the computation graph is usually visualized in the reverse direction (arrows point from the result to the inputs). We can perform backpropagation on the computation graph by calling the function `backward()` on the last output, which effectively calculates the gradients for each tensor that has the property `requires_grad=True`:"
   ]
  },
  {
   "cell_type": "code",
   "execution_count": 28,
   "metadata": {
    "id": "odIi1DttkMni"
   },
   "outputs": [],
   "source": [
    "y.backward()"
   ]
  },
  {
   "cell_type": "markdown",
   "metadata": {
    "id": "VytbEYTIkMni"
   },
   "source": [
    "`x.grad` will now contain the gradient $\\partial y/ \\partial \\mathcal{x}$, and this gradient indicates how a change in $\\mathbf{x}$ will affect output $y$ given the current input $\\mathbf{x}=[0,1,2]$:"
   ]
  },
  {
   "cell_type": "code",
   "execution_count": 29,
   "metadata": {
    "id": "Bq8ew6UXkMni",
    "outputId": "e8ad84fa-b759-4e69-9629-06097c3ffe18"
   },
   "outputs": [
    {
     "name": "stdout",
     "output_type": "stream",
     "text": [
      "tensor([1.3333, 2.0000, 2.6667])\n"
     ]
    }
   ],
   "source": [
    "print(x.grad)"
   ]
  },
  {
   "cell_type": "markdown",
   "metadata": {
    "id": "Zyi_cGKFkMni"
   },
   "source": [
    "We can also verify these gradients by hand. We will calculate the gradients using the chain rule, in the same way as PyTorch did it:\n",
    "\n",
    "$$\\frac{\\partial y}{\\partial x_i} = \\frac{\\partial y}{\\partial c_i}\\frac{\\partial c_i}{\\partial b_i}\\frac{\\partial b_i}{\\partial a_i}\\frac{\\partial a_i}{\\partial x_i}$$\n",
    "\n",
    "Note that we have simplified this equation to index notation, and by using the fact that all operation besides the mean do not combine the elements in the tensor. The partial derivatives are:\n",
    "\n",
    "$$\n",
    "\\frac{\\partial a_i}{\\partial x_i} = 1,\\hspace{1cm}\n",
    "\\frac{\\partial b_i}{\\partial a_i} = 2\\cdot a_i\\hspace{1cm}\n",
    "\\frac{\\partial c_i}{\\partial b_i} = 1\\hspace{1cm}\n",
    "\\frac{\\partial y}{\\partial c_i} = \\frac{1}{3}\n",
    "$$\n",
    "\n",
    "Hence, with the input being $\\mathbf{x}=[0,1,2]$, our gradients are $\\partial y/\\partial \\mathbf{x}=[4/3,2,8/3]$. The previous code cell should have printed the same result."
   ]
  },
  {
   "cell_type": "markdown",
   "metadata": {
    "id": "REKdQwlOkMnj"
   },
   "source": [
    "## Learning by example: Continuous XOR\n",
    "\n",
    "If we want to build a neural network in PyTorch, we could specify all our parameters (weight matrices, bias vectors) using `Tensors` (with `requires_grad=True`), ask PyTorch to calculate the gradients and then adjust the parameters. But things can quickly get cumbersome if we have a lot of parameters. In PyTorch, there is a package called `torch.nn` that makes building neural networks more convenient.\n",
    "\n",
    "We will introduce the libraries and all additional parts you might need to train a neural network in PyTorch, using a simple example classifier on a simple yet well known example: XOR. Given two binary inputs $x_1$ and $x_2$, the label to predict is $1$ if either $x_1$ or $x_2$ is $1$ while the other is $0$, or the label is $0$ in all other cases. The example became famous by the fact that a single neuron, i.e. a linear classifier, cannot learn this simple function.\n",
    "Hence, we will learn how to build a small neural network that can learn this function.\n",
    "To make it a little bit more interesting, we move the XOR into continuous space and introduce some gaussian noise on the binary inputs. Our desired separation of an XOR dataset could look as follows:\n",
    "\n",
    "<center style=\"width: 100%\"><img src=\"https://github.com/phlippe/uvadlc_notebooks/blob/master/docs/tutorial_notebooks/tutorial2/continuous_xor.svg?raw=1\" width=\"350px\"></center>"
   ]
  },
  {
   "cell_type": "markdown",
   "metadata": {
    "id": "DFBV2HghkMnj"
   },
   "source": [
    "### The model\n",
    "\n",
    "The package `torch.nn` defines a series of useful classes like linear networks layers, activation functions, loss functions etc. A full list can be found [here](https://pytorch.org/docs/stable/nn.html). In case you need a certain network layer, check the documentation of the package first before writing the layer yourself as the package likely contains the code for it already. We import it below:"
   ]
  },
  {
   "cell_type": "code",
   "execution_count": 30,
   "metadata": {
    "id": "Ei5s6Sg-kMnj"
   },
   "outputs": [],
   "source": [
    "import torch.nn as nn"
   ]
  },
  {
   "cell_type": "markdown",
   "metadata": {
    "id": "e0uEX_tAkMnj"
   },
   "source": [
    "Additionally to `torch.nn`, there is also `torch.nn.functional`. It contains functions that are used in network layers. This is in contrast to `torch.nn` which defines them as `nn.Modules` (more on it below), and `torch.nn` actually uses a lot of functionalities from `torch.nn.functional`. Hence, the functional package is useful in many situations, and so we import it as well here."
   ]
  },
  {
   "cell_type": "code",
   "execution_count": 31,
   "metadata": {
    "id": "k46Zun8rkMnj"
   },
   "outputs": [],
   "source": [
    "import torch.nn.functional as F"
   ]
  },
  {
   "cell_type": "markdown",
   "metadata": {
    "id": "fPttl3fZkMnj"
   },
   "source": [
    "#### nn.Module\n",
    "\n",
    "In PyTorch, a neural network is built up out of modules. Modules can contain other modules, and a neural network is considered to be a module itself as well. The basic template of a module is as follows:"
   ]
  },
  {
   "cell_type": "code",
   "execution_count": 32,
   "metadata": {
    "id": "T4BKibuHkMnj"
   },
   "outputs": [],
   "source": [
    "class MyModule(nn.Module):\n",
    "\n",
    "    def __init__(self):\n",
    "        super().__init__()\n",
    "        # Some init for my module\n",
    "\n",
    "    def forward(self, x):\n",
    "        # Function for performing the calculation of the module.\n",
    "        pass"
   ]
  },
  {
   "cell_type": "markdown",
   "metadata": {
    "id": "WHg0eoD8kMnj"
   },
   "source": [
    "The forward function is where the computation of the module is taken place, and is executed when you call the module (`nn = MyModule(); nn(x)`). In the init function, we usually create the parameters of the module, using `nn.Parameter`, or defining other modules that are used in the forward function. The backward calculation is done automatically, but could be overwritten as well if wanted.\n",
    "\n",
    "#### Simple classifier\n",
    "We can now make use of the pre-defined modules in the `torch.nn` package, and define our own small neural network. We will use a minimal network with a input layer, one hidden layer with tanh as activation function, and a output layer. In other words, our networks should look something like this:\n",
    "\n",
    "<center width=\"100%\"><img src=\"https://github.com/phlippe/uvadlc_notebooks/blob/master/docs/tutorial_notebooks/tutorial2/small_neural_network.svg?raw=1\" width=\"300px\"></center>\n",
    "\n",
    "The input neurons are shown in blue, which represent the coordinates $x_1$ and $x_2$ of a data point. The hidden neurons including a tanh activation are shown in white, and the output neuron in red.\n",
    "In PyTorch, we can define this as follows:"
   ]
  },
  {
   "cell_type": "code",
   "execution_count": 33,
   "metadata": {
    "id": "l_Db6Cc1kMnj"
   },
   "outputs": [],
   "source": [
    "class SimpleClassifier(nn.Module):\n",
    "\n",
    "    def __init__(self, num_inputs, num_hidden, num_outputs):\n",
    "        super().__init__()\n",
    "        # Initialize the modules we need to build the network\n",
    "        self.linear1 = nn.Linear(num_inputs, num_hidden)\n",
    "        self.act_fn = nn.Tanh()\n",
    "        self.linear2 = nn.Linear(num_hidden, num_outputs)\n",
    "\n",
    "    def forward(self, x):\n",
    "        # Perform the calculation of the model to determine the prediction\n",
    "        x = self.linear1(x)\n",
    "        x = self.act_fn(x)\n",
    "        x = self.linear2(x)\n",
    "        return x"
   ]
  },
  {
   "cell_type": "markdown",
   "metadata": {
    "id": "wBrA6PH5kMnk"
   },
   "source": [
    "For the examples in this notebook, we will use a tiny neural network with two input neurons and four hidden neurons. As we perform binary classification, we will use a single output neuron. Note that we do not apply a sigmoid on the output yet. This is because other functions, especially the loss, are more efficient and precise to calculate on the original outputs instead of the sigmoid output. We will discuss the detailed reason later."
   ]
  },
  {
   "cell_type": "code",
   "execution_count": 34,
   "metadata": {
    "id": "aE0UnvenkMnk",
    "outputId": "11dd085a-9e7c-4a5a-9a15-0ee63414d11b"
   },
   "outputs": [
    {
     "name": "stdout",
     "output_type": "stream",
     "text": [
      "SimpleClassifier(\n",
      "  (linear1): Linear(in_features=2, out_features=4, bias=True)\n",
      "  (act_fn): Tanh()\n",
      "  (linear2): Linear(in_features=4, out_features=1, bias=True)\n",
      ")\n"
     ]
    }
   ],
   "source": [
    "model = SimpleClassifier(num_inputs=2, num_hidden=4, num_outputs=1)\n",
    "# Printing a module shows all its submodules\n",
    "print(model)"
   ]
  },
  {
   "cell_type": "markdown",
   "metadata": {
    "id": "bM-NtATUkMnk"
   },
   "source": [
    "Printing the model lists all submodules it contains. The parameters of a module can be obtained by using its `parameters()` functions, or `named_parameters()` to get a name to each parameter object. For our small neural network, we have the following parameters:"
   ]
  },
  {
   "cell_type": "code",
   "execution_count": 35,
   "metadata": {
    "id": "Vyx5GDpQkMnk",
    "outputId": "731c5607-2cf1-4a89-a3f5-9fcdf7742942"
   },
   "outputs": [
    {
     "name": "stdout",
     "output_type": "stream",
     "text": [
      "Parameter linear1.weight, shape torch.Size([4, 2])\n",
      "Parameter linear1.bias, shape torch.Size([4])\n",
      "Parameter linear2.weight, shape torch.Size([1, 4])\n",
      "Parameter linear2.bias, shape torch.Size([1])\n"
     ]
    }
   ],
   "source": [
    "for name, param in model.named_parameters():\n",
    "    print(f\"Parameter {name}, shape {param.shape}\")"
   ]
  },
  {
   "cell_type": "markdown",
   "metadata": {
    "id": "D66zf9QHkMnk"
   },
   "source": [
    "Each linear layer has a weight matrix of the shape `[output, input]`, and a bias of the shape `[output]`. The tanh activation function does not have any parameters. Note that parameters are only registered for `nn.Module` objects that are direct object attributes, i.e. `self.a = ...`. If you define a list of modules, the parameters of those are not registered for the outer module and can cause some issues when you try to optimize your module. There are alternatives, like `nn.ModuleList`, `nn.ModuleDict` and `nn.Sequential`, that allow you to have different data structures of modules. We will use them in a few later tutorials and explain them there."
   ]
  },
  {
   "cell_type": "markdown",
   "metadata": {
    "id": "osVzWjFRkMnk"
   },
   "source": [
    "### The data\n",
    "\n",
    "PyTorch also provides a few functionalities to load the training and test data efficiently, summarized in the package `torch.utils.data`."
   ]
  },
  {
   "cell_type": "code",
   "execution_count": 36,
   "metadata": {
    "id": "Tu-cSzZMkMnk"
   },
   "outputs": [],
   "source": [
    "import torch.utils.data as data"
   ]
  },
  {
   "cell_type": "markdown",
   "metadata": {
    "id": "zcz-YB6XkMnk"
   },
   "source": [
    "The data package defines two classes which are the standard interface for handling data in PyTorch: `data.Dataset`, and `data.DataLoader`. The dataset class provides an uniform interface to access the training/test data, while the data loader makes sure to efficiently load and stack the data points from the dataset into batches during training."
   ]
  },
  {
   "cell_type": "markdown",
   "metadata": {
    "id": "8cKXc0g5kMnk"
   },
   "source": [
    "#### The dataset class\n",
    "\n",
    "The dataset class summarizes the basic functionality of a dataset in a natural way. To define a dataset in PyTorch, we simply specify two functions: `__getitem__`, and `__len__`. The get-item function has to return the $i$-th data point in the dataset, while the len function returns the size of the dataset. For the XOR dataset, we can define the dataset class as follows:"
   ]
  },
  {
   "cell_type": "code",
   "execution_count": 37,
   "metadata": {
    "id": "E-LhzQTskMnk"
   },
   "outputs": [],
   "source": [
    "class XORDataset(data.Dataset):\n",
    "\n",
    "    def __init__(self, size, std=0.1):\n",
    "        \"\"\"\n",
    "        Inputs:\n",
    "            size - Number of data points we want to generate\n",
    "            std - Standard deviation of the noise (see generate_continuous_xor function)\n",
    "        \"\"\"\n",
    "        super().__init__()\n",
    "        self.size = size\n",
    "        self.std = std\n",
    "        self.generate_continuous_xor()\n",
    "\n",
    "    def generate_continuous_xor(self):\n",
    "        # Each data point in the XOR dataset has two variables, x and y, that can be either 0 or 1\n",
    "        # The label is their XOR combination, i.e. 1 if only x or only y is 1 while the other is 0.\n",
    "        # If x=y, the label is 0.\n",
    "        data = torch.randint(low=0, high=2, size=(self.size, 2), dtype=torch.float32)\n",
    "        label = (data.sum(dim=1) == 1).to(torch.long)\n",
    "        # To make it slightly more challenging, we add a bit of gaussian noise to the data points.\n",
    "        data += self.std * torch.randn(data.shape)\n",
    "\n",
    "        self.data = data\n",
    "        self.label = label\n",
    "\n",
    "    def __len__(self):\n",
    "        # Number of data point we have. Alternatively self.data.shape[0], or self.label.shape[0]\n",
    "        return self.size\n",
    "\n",
    "    def __getitem__(self, idx):\n",
    "        # Return the idx-th data point of the dataset\n",
    "        # If we have multiple things to return (data point and label), we can return them as tuple\n",
    "        data_point = self.data[idx]\n",
    "        data_label = self.label[idx]\n",
    "        return data_point, data_label"
   ]
  },
  {
   "cell_type": "markdown",
   "metadata": {
    "id": "RgQjMjl2kMnk"
   },
   "source": [
    "Let's try to create such a dataset and inspect it:"
   ]
  },
  {
   "cell_type": "code",
   "execution_count": 38,
   "metadata": {
    "id": "kqP-dDWEkMnk",
    "outputId": "06121d4a-2a46-4f90-e216-736c008edb56"
   },
   "outputs": [
    {
     "name": "stdout",
     "output_type": "stream",
     "text": [
      "Size of dataset: 200\n",
      "Data point 0: (tensor([0.9316, 1.0066]), tensor(0))\n"
     ]
    }
   ],
   "source": [
    "dataset = XORDataset(size=200)\n",
    "print(\"Size of dataset:\", len(dataset))\n",
    "print(\"Data point 0:\", dataset[0])"
   ]
  },
  {
   "cell_type": "markdown",
   "metadata": {
    "id": "OhhaMpszkMnk"
   },
   "source": [
    "To better relate to the dataset, we visualize the samples below."
   ]
  },
  {
   "cell_type": "code",
   "execution_count": 39,
   "metadata": {
    "id": "asJfSGsZkMnk"
   },
   "outputs": [],
   "source": [
    "def visualize_samples(data, label):\n",
    "    if isinstance(data, torch.Tensor):\n",
    "        data = data.cpu().numpy()\n",
    "    if isinstance(label, torch.Tensor):\n",
    "        label = label.cpu().numpy()\n",
    "    data_0 = data[label == 0]\n",
    "    data_1 = data[label == 1]\n",
    "\n",
    "    plt.figure(figsize=(4,4))\n",
    "    plt.scatter(data_0[:,0], data_0[:,1], edgecolor=\"#333\", label=\"Class 0\")\n",
    "    plt.scatter(data_1[:,0], data_1[:,1], edgecolor=\"#333\", label=\"Class 1\")\n",
    "    plt.title(\"Dataset samples\")\n",
    "    plt.ylabel(r\"$x_2$\")\n",
    "    plt.xlabel(r\"$x_1$\")\n",
    "    plt.legend()"
   ]
  },
  {
   "cell_type": "code",
   "execution_count": 40,
   "metadata": {
    "id": "aFRoMaHXkMnk",
    "outputId": "ea373e8e-1399-4dfb-a256-37731868d3ae"
   },
   "outputs": [
    {
     "data": {
      "application/pdf": "[encoded data removed]",
      "image/svg+xml": [
       "<?xml version=\"1.0\" encoding=\"utf-8\" standalone=\"no\"?>\n",
       "<!DOCTYPE svg PUBLIC \"-//W3C//DTD SVG 1.1//EN\"\n",
       "  \"http://www.w3.org/Graphics/SVG/1.1/DTD/svg11.dtd\">\n",
       "<svg xmlns:xlink=\"http://www.w3.org/1999/xlink\" width=\"283.789062pt\" height=\"285.283594pt\" viewBox=\"0 0 283.789062 285.283594\" xmlns=\"http://www.w3.org/2000/svg\" version=\"1.1\">\n",
       " <metadata>\n",
       "  <rdf:RDF xmlns:dc=\"http://purl.org/dc/elements/1.1/\" xmlns:cc=\"http://creativecommons.org/ns#\" xmlns:rdf=\"http://www.w3.org/1999/02/22-rdf-syntax-ns#\">\n",
       "   <cc:Work>\n",
       "    <dc:type rdf:resource=\"http://purl.org/dc/dcmitype/StillImage\"/>\n",
       "    <dc:date>2025-10-16T06:39:45.852224</dc:date>\n",
       "    <dc:format>image/svg+xml</dc:format>\n",
       "    <dc:creator>\n",
       "     <cc:Agent>\n",
       "      <dc:title>Matplotlib v3.9.2, https://matplotlib.org/</dc:title>\n",
       "     </cc:Agent>\n",
       "    </dc:creator>\n",
       "   </cc:Work>\n",
       "  </rdf:RDF>\n",
       " </metadata>\n",
       " <defs>\n",
       "  <style type=\"text/css\">*{stroke-linejoin: round; stroke-linecap: butt}</style>\n",
       " </defs>\n",
       " <g id=\"figure_1\">\n",
       "  <g id=\"patch_1\">\n",
       "   <path d=\"M 0 285.283594 \n",
       "L 283.789062 285.283594 \n",
       "L 283.789062 0 \n",
       "L 0 0 \n",
       "z\n",
       "\" style=\"fill: #ffffff\"/>\n",
       "  </g>\n",
       "  <g id=\"axes_1\">\n",
       "   <g id=\"patch_2\">\n",
       "    <path d=\"M 53.389062 243.549375 \n",
       "L 276.589063 243.549375 \n",
       "L 276.589063 21.789375 \n",
       "L 53.389062 21.789375 \n",
       "z\n",
       "\" style=\"fill: #eaeaf2\"/>\n",
       "   </g>\n",
       "   <g id=\"matplotlib.axis_1\">\n",
       "    <g id=\"xtick_1\">\n",
       "     <g id=\"line2d_1\">\n",
       "      <path d=\"M 104.804789 243.549375 \n",
       "L 104.804789 21.789375 \n",
       "\" clip-path=\"url(#p7796bc809b)\" style=\"fill: none; stroke: #ffffff; stroke-linecap: round\"/>\n",
       "     </g>\n",
       "     <g id=\"text_1\">\n",
       "      <!-- 0.0 -->\n",
       "      <g style=\"fill: #262626\" transform=\"translate(97.159789 260.922969) scale(0.11 -0.11)\">\n",
       "       <defs>\n",
       "        <path id=\"ArialMT-30\" d=\"M 266 2259 \n",
       "Q 266 3072 433 3567 \n",
       "Q 600 4063 929 4331 \n",
       "Q 1259 4600 1759 4600 \n",
       "Q 2128 4600 2406 4451 \n",
       "Q 2684 4303 2865 4023 \n",
       "Q 3047 3744 3150 3342 \n",
       "Q 3253 2941 3253 2259 \n",
       "Q 3253 1453 3087 958 \n",
       "Q 2922 463 2592 192 \n",
       "Q 2263 -78 1759 -78 \n",
       "Q 1097 -78 719 397 \n",
       "Q 266 969 266 2259 \n",
       "z\n",
       "M 844 2259 \n",
       "Q 844 1131 1108 757 \n",
       "Q 1372 384 1759 384 \n",
       "Q 2147 384 2411 759 \n",
       "Q 2675 1134 2675 2259 \n",
       "Q 2675 3391 2411 3762 \n",
       "Q 2147 4134 1753 4134 \n",
       "Q 1366 4134 1134 3806 \n",
       "Q 844 3388 844 2259 \n",
       "z\n",
       "\" transform=\"scale(0.015625)\"/>\n",
       "        <path id=\"ArialMT-2e\" d=\"M 581 0 \n",
       "L 581 641 \n",
       "L 1222 641 \n",
       "L 1222 0 \n",
       "L 581 0 \n",
       "z\n",
       "\" transform=\"scale(0.015625)\"/>\n",
       "       </defs>\n",
       "       <use xlink:href=\"#ArialMT-30\"/>\n",
       "       <use xlink:href=\"#ArialMT-2e\" x=\"55.615234\"/>\n",
       "       <use xlink:href=\"#ArialMT-30\" x=\"83.398438\"/>\n",
       "      </g>\n",
       "     </g>\n",
       "    </g>\n",
       "    <g id=\"xtick_2\">\n",
       "     <g id=\"line2d_2\">\n",
       "      <path d=\"M 171.335274 243.549375 \n",
       "L 171.335274 21.789375 \n",
       "\" clip-path=\"url(#p7796bc809b)\" style=\"fill: none; stroke: #ffffff; stroke-linecap: round\"/>\n",
       "     </g>\n",
       "     <g id=\"text_2\">\n",
       "      <!-- 0.5 -->\n",
       "      <g style=\"fill: #262626\" transform=\"translate(163.690274 260.922969) scale(0.11 -0.11)\">\n",
       "       <defs>\n",
       "        <path id=\"ArialMT-35\" d=\"M 266 1200 \n",
       "L 856 1250 \n",
       "Q 922 819 1161 601 \n",
       "Q 1400 384 1738 384 \n",
       "Q 2144 384 2425 690 \n",
       "Q 2706 997 2706 1503 \n",
       "Q 2706 1984 2436 2262 \n",
       "Q 2166 2541 1728 2541 \n",
       "Q 1456 2541 1237 2417 \n",
       "Q 1019 2294 894 2097 \n",
       "L 366 2166 \n",
       "L 809 4519 \n",
       "L 3088 4519 \n",
       "L 3088 3981 \n",
       "L 1259 3981 \n",
       "L 1013 2750 \n",
       "Q 1425 3038 1878 3038 \n",
       "Q 2478 3038 2890 2622 \n",
       "Q 3303 2206 3303 1553 \n",
       "Q 3303 931 2941 478 \n",
       "Q 2500 -78 1738 -78 \n",
       "Q 1113 -78 717 272 \n",
       "Q 322 622 266 1200 \n",
       "z\n",
       "\" transform=\"scale(0.015625)\"/>\n",
       "       </defs>\n",
       "       <use xlink:href=\"#ArialMT-30\"/>\n",
       "       <use xlink:href=\"#ArialMT-2e\" x=\"55.615234\"/>\n",
       "       <use xlink:href=\"#ArialMT-35\" x=\"83.398438\"/>\n",
       "      </g>\n",
       "     </g>\n",
       "    </g>\n",
       "    <g id=\"xtick_3\">\n",
       "     <g id=\"line2d_3\">\n",
       "      <path d=\"M 237.86576 243.549375 \n",
       "L 237.86576 21.789375 \n",
       "\" clip-path=\"url(#p7796bc809b)\" style=\"fill: none; stroke: #ffffff; stroke-linecap: round\"/>\n",
       "     </g>\n",
       "     <g id=\"text_3\">\n",
       "      <!-- 1.0 -->\n",
       "      <g style=\"fill: #262626\" transform=\"translate(230.22076 260.922969) scale(0.11 -0.11)\">\n",
       "       <defs>\n",
       "        <path id=\"ArialMT-31\" d=\"M 2384 0 \n",
       "L 1822 0 \n",
       "L 1822 3584 \n",
       "Q 1619 3391 1289 3197 \n",
       "Q 959 3003 697 2906 \n",
       "L 697 3450 \n",
       "Q 1169 3672 1522 3987 \n",
       "Q 1875 4303 2022 4600 \n",
       "L 2384 4600 \n",
       "L 2384 0 \n",
       "z\n",
       "\" transform=\"scale(0.015625)\"/>\n",
       "       </defs>\n",
       "       <use xlink:href=\"#ArialMT-31\"/>\n",
       "       <use xlink:href=\"#ArialMT-2e\" x=\"55.615234\"/>\n",
       "       <use xlink:href=\"#ArialMT-30\" x=\"83.398438\"/>\n",
       "      </g>\n",
       "     </g>\n",
       "    </g>\n",
       "    <g id=\"text_4\">\n",
       "     <!-- $x_1$ -->\n",
       "     <g style=\"fill: #262626\" transform=\"translate(158.569063 275.698594) scale(0.12 -0.12)\">\n",
       "      <defs>\n",
       "       <path id=\"DejaVuSans-Oblique-78\" d=\"M 3841 3500 \n",
       "L 2234 1784 \n",
       "L 3219 0 \n",
       "L 2559 0 \n",
       "L 1819 1388 \n",
       "L 531 0 \n",
       "L -166 0 \n",
       "L 1556 1844 \n",
       "L 641 3500 \n",
       "L 1300 3500 \n",
       "L 1972 2234 \n",
       "L 3144 3500 \n",
       "L 3841 3500 \n",
       "z\n",
       "\" transform=\"scale(0.015625)\"/>\n",
       "       <path id=\"DejaVuSans-31\" d=\"M 794 531 \n",
       "L 1825 531 \n",
       "L 1825 4091 \n",
       "L 703 3866 \n",
       "L 703 4441 \n",
       "L 1819 4666 \n",
       "L 2450 4666 \n",
       "L 2450 531 \n",
       "L 3481 531 \n",
       "L 3481 0 \n",
       "L 794 0 \n",
       "L 794 531 \n",
       "z\n",
       "\" transform=\"scale(0.015625)\"/>\n",
       "      </defs>\n",
       "      <use xlink:href=\"#DejaVuSans-Oblique-78\" transform=\"translate(0 0.3125)\"/>\n",
       "      <use xlink:href=\"#DejaVuSans-31\" transform=\"translate(59.179688 -16.09375) scale(0.7)\"/>\n",
       "     </g>\n",
       "    </g>\n",
       "   </g>\n",
       "   <g id=\"matplotlib.axis_2\">\n",
       "    <g id=\"ytick_1\">\n",
       "     <g id=\"line2d_4\">\n",
       "      <path d=\"M 53.389062 229.631656 \n",
       "L 276.589063 229.631656 \n",
       "\" clip-path=\"url(#p7796bc809b)\" style=\"fill: none; stroke: #ffffff; stroke-linecap: round\"/>\n",
       "     </g>\n",
       "     <g id=\"text_5\">\n",
       "      <!-- −0.2 -->\n",
       "      <g style=\"fill: #262626\" transform=\"translate(22.174375 233.568453) scale(0.11 -0.11)\">\n",
       "       <defs>\n",
       "        <path id=\"ArialMT-2212\" d=\"M 3381 1997 \n",
       "L 356 1997 \n",
       "L 356 2522 \n",
       "L 3381 2522 \n",
       "L 3381 1997 \n",
       "z\n",
       "\" transform=\"scale(0.015625)\"/>\n",
       "        <path id=\"ArialMT-32\" d=\"M 3222 541 \n",
       "L 3222 0 \n",
       "L 194 0 \n",
       "Q 188 203 259 391 \n",
       "Q 375 700 629 1000 \n",
       "Q 884 1300 1366 1694 \n",
       "Q 2113 2306 2375 2664 \n",
       "Q 2638 3022 2638 3341 \n",
       "Q 2638 3675 2398 3904 \n",
       "Q 2159 4134 1775 4134 \n",
       "Q 1369 4134 1125 3890 \n",
       "Q 881 3647 878 3216 \n",
       "L 300 3275 \n",
       "Q 359 3922 746 4261 \n",
       "Q 1134 4600 1788 4600 \n",
       "Q 2447 4600 2831 4234 \n",
       "Q 3216 3869 3216 3328 \n",
       "Q 3216 3053 3103 2787 \n",
       "Q 2991 2522 2730 2228 \n",
       "Q 2469 1934 1863 1422 \n",
       "Q 1356 997 1212 845 \n",
       "Q 1069 694 975 541 \n",
       "L 3222 541 \n",
       "z\n",
       "\" transform=\"scale(0.015625)\"/>\n",
       "       </defs>\n",
       "       <use xlink:href=\"#ArialMT-2212\"/>\n",
       "       <use xlink:href=\"#ArialMT-30\" x=\"58.398438\"/>\n",
       "       <use xlink:href=\"#ArialMT-2e\" x=\"114.013672\"/>\n",
       "       <use xlink:href=\"#ArialMT-32\" x=\"141.796875\"/>\n",
       "      </g>\n",
       "     </g>\n",
       "    </g>\n",
       "    <g id=\"ytick_2\">\n",
       "     <g id=\"line2d_5\">\n",
       "      <path d=\"M 53.389062 202.96822 \n",
       "L 276.589063 202.96822 \n",
       "\" clip-path=\"url(#p7796bc809b)\" style=\"fill: none; stroke: #ffffff; stroke-linecap: round\"/>\n",
       "     </g>\n",
       "     <g id=\"text_6\">\n",
       "      <!-- 0.0 -->\n",
       "      <g style=\"fill: #262626\" transform=\"translate(28.599062 206.905017) scale(0.11 -0.11)\">\n",
       "       <use xlink:href=\"#ArialMT-30\"/>\n",
       "       <use xlink:href=\"#ArialMT-2e\" x=\"55.615234\"/>\n",
       "       <use xlink:href=\"#ArialMT-30\" x=\"83.398438\"/>\n",
       "      </g>\n",
       "     </g>\n",
       "    </g>\n",
       "    <g id=\"ytick_3\">\n",
       "     <g id=\"line2d_6\">\n",
       "      <path d=\"M 53.389062 176.304785 \n",
       "L 276.589063 176.304785 \n",
       "\" clip-path=\"url(#p7796bc809b)\" style=\"fill: none; stroke: #ffffff; stroke-linecap: round\"/>\n",
       "     </g>\n",
       "     <g id=\"text_7\">\n",
       "      <!-- 0.2 -->\n",
       "      <g style=\"fill: #262626\" transform=\"translate(28.599062 180.241582) scale(0.11 -0.11)\">\n",
       "       <use xlink:href=\"#ArialMT-30\"/>\n",
       "       <use xlink:href=\"#ArialMT-2e\" x=\"55.615234\"/>\n",
       "       <use xlink:href=\"#ArialMT-32\" x=\"83.398438\"/>\n",
       "      </g>\n",
       "     </g>\n",
       "    </g>\n",
       "    <g id=\"ytick_4\">\n",
       "     <g id=\"line2d_7\">\n",
       "      <path d=\"M 53.389062 149.641349 \n",
       "L 276.589063 149.641349 \n",
       "\" clip-path=\"url(#p7796bc809b)\" style=\"fill: none; stroke: #ffffff; stroke-linecap: round\"/>\n",
       "     </g>\n",
       "     <g id=\"text_8\">\n",
       "      <!-- 0.4 -->\n",
       "      <g style=\"fill: #262626\" transform=\"translate(28.599062 153.578146) scale(0.11 -0.11)\">\n",
       "       <defs>\n",
       "        <path id=\"ArialMT-34\" d=\"M 2069 0 \n",
       "L 2069 1097 \n",
       "L 81 1097 \n",
       "L 81 1613 \n",
       "L 2172 4581 \n",
       "L 2631 4581 \n",
       "L 2631 1613 \n",
       "L 3250 1613 \n",
       "L 3250 1097 \n",
       "L 2631 1097 \n",
       "L 2631 0 \n",
       "L 2069 0 \n",
       "z\n",
       "M 2069 1613 \n",
       "L 2069 3678 \n",
       "L 634 1613 \n",
       "L 2069 1613 \n",
       "z\n",
       "\" transform=\"scale(0.015625)\"/>\n",
       "       </defs>\n",
       "       <use xlink:href=\"#ArialMT-30\"/>\n",
       "       <use xlink:href=\"#ArialMT-2e\" x=\"55.615234\"/>\n",
       "       <use xlink:href=\"#ArialMT-34\" x=\"83.398438\"/>\n",
       "      </g>\n",
       "     </g>\n",
       "    </g>\n",
       "    <g id=\"ytick_5\">\n",
       "     <g id=\"line2d_8\">\n",
       "      <path d=\"M 53.389062 122.977913 \n",
       "L 276.589063 122.977913 \n",
       "\" clip-path=\"url(#p7796bc809b)\" style=\"fill: none; stroke: #ffffff; stroke-linecap: round\"/>\n",
       "     </g>\n",
       "     <g id=\"text_9\">\n",
       "      <!-- 0.6 -->\n",
       "      <g style=\"fill: #262626\" transform=\"translate(28.599062 126.91471) scale(0.11 -0.11)\">\n",
       "       <defs>\n",
       "        <path id=\"ArialMT-36\" d=\"M 3184 3459 \n",
       "L 2625 3416 \n",
       "Q 2550 3747 2413 3897 \n",
       "Q 2184 4138 1850 4138 \n",
       "Q 1581 4138 1378 3988 \n",
       "Q 1113 3794 959 3422 \n",
       "Q 806 3050 800 2363 \n",
       "Q 1003 2672 1297 2822 \n",
       "Q 1591 2972 1913 2972 \n",
       "Q 2475 2972 2870 2558 \n",
       "Q 3266 2144 3266 1488 \n",
       "Q 3266 1056 3080 686 \n",
       "Q 2894 316 2569 119 \n",
       "Q 2244 -78 1831 -78 \n",
       "Q 1128 -78 684 439 \n",
       "Q 241 956 241 2144 \n",
       "Q 241 3472 731 4075 \n",
       "Q 1159 4600 1884 4600 \n",
       "Q 2425 4600 2770 4297 \n",
       "Q 3116 3994 3184 3459 \n",
       "z\n",
       "M 888 1484 \n",
       "Q 888 1194 1011 928 \n",
       "Q 1134 663 1356 523 \n",
       "Q 1578 384 1822 384 \n",
       "Q 2178 384 2434 671 \n",
       "Q 2691 959 2691 1453 \n",
       "Q 2691 1928 2437 2201 \n",
       "Q 2184 2475 1800 2475 \n",
       "Q 1419 2475 1153 2201 \n",
       "Q 888 1928 888 1484 \n",
       "z\n",
       "\" transform=\"scale(0.015625)\"/>\n",
       "       </defs>\n",
       "       <use xlink:href=\"#ArialMT-30\"/>\n",
       "       <use xlink:href=\"#ArialMT-2e\" x=\"55.615234\"/>\n",
       "       <use xlink:href=\"#ArialMT-36\" x=\"83.398438\"/>\n",
       "      </g>\n",
       "     </g>\n",
       "    </g>\n",
       "    <g id=\"ytick_6\">\n",
       "     <g id=\"line2d_9\">\n",
       "      <path d=\"M 53.389062 96.314478 \n",
       "L 276.589063 96.314478 \n",
       "\" clip-path=\"url(#p7796bc809b)\" style=\"fill: none; stroke: #ffffff; stroke-linecap: round\"/>\n",
       "     </g>\n",
       "     <g id=\"text_10\">\n",
       "      <!-- 0.8 -->\n",
       "      <g style=\"fill: #262626\" transform=\"translate(28.599062 100.251275) scale(0.11 -0.11)\">\n",
       "       <defs>\n",
       "        <path id=\"ArialMT-38\" d=\"M 1131 2484 \n",
       "Q 781 2613 612 2850 \n",
       "Q 444 3088 444 3419 \n",
       "Q 444 3919 803 4259 \n",
       "Q 1163 4600 1759 4600 \n",
       "Q 2359 4600 2725 4251 \n",
       "Q 3091 3903 3091 3403 \n",
       "Q 3091 3084 2923 2848 \n",
       "Q 2756 2613 2416 2484 \n",
       "Q 2838 2347 3058 2040 \n",
       "Q 3278 1734 3278 1309 \n",
       "Q 3278 722 2862 322 \n",
       "Q 2447 -78 1769 -78 \n",
       "Q 1091 -78 675 323 \n",
       "Q 259 725 259 1325 \n",
       "Q 259 1772 486 2073 \n",
       "Q 713 2375 1131 2484 \n",
       "z\n",
       "M 1019 3438 \n",
       "Q 1019 3113 1228 2906 \n",
       "Q 1438 2700 1772 2700 \n",
       "Q 2097 2700 2305 2904 \n",
       "Q 2513 3109 2513 3406 \n",
       "Q 2513 3716 2298 3927 \n",
       "Q 2084 4138 1766 4138 \n",
       "Q 1444 4138 1231 3931 \n",
       "Q 1019 3725 1019 3438 \n",
       "z\n",
       "M 838 1322 \n",
       "Q 838 1081 952 856 \n",
       "Q 1066 631 1291 507 \n",
       "Q 1516 384 1775 384 \n",
       "Q 2178 384 2440 643 \n",
       "Q 2703 903 2703 1303 \n",
       "Q 2703 1709 2433 1975 \n",
       "Q 2163 2241 1756 2241 \n",
       "Q 1359 2241 1098 1978 \n",
       "Q 838 1716 838 1322 \n",
       "z\n",
       "\" transform=\"scale(0.015625)\"/>\n",
       "       </defs>\n",
       "       <use xlink:href=\"#ArialMT-30\"/>\n",
       "       <use xlink:href=\"#ArialMT-2e\" x=\"55.615234\"/>\n",
       "       <use xlink:href=\"#ArialMT-38\" x=\"83.398438\"/>\n",
       "      </g>\n",
       "     </g>\n",
       "    </g>\n",
       "    <g id=\"ytick_7\">\n",
       "     <g id=\"line2d_10\">\n",
       "      <path d=\"M 53.389062 69.651042 \n",
       "L 276.589063 69.651042 \n",
       "\" clip-path=\"url(#p7796bc809b)\" style=\"fill: none; stroke: #ffffff; stroke-linecap: round\"/>\n",
       "     </g>\n",
       "     <g id=\"text_11\">\n",
       "      <!-- 1.0 -->\n",
       "      <g style=\"fill: #262626\" transform=\"translate(28.599062 73.587839) scale(0.11 -0.11)\">\n",
       "       <use xlink:href=\"#ArialMT-31\"/>\n",
       "       <use xlink:href=\"#ArialMT-2e\" x=\"55.615234\"/>\n",
       "       <use xlink:href=\"#ArialMT-30\" x=\"83.398438\"/>\n",
       "      </g>\n",
       "     </g>\n",
       "    </g>\n",
       "    <g id=\"ytick_8\">\n",
       "     <g id=\"line2d_11\">\n",
       "      <path d=\"M 53.389062 42.987606 \n",
       "L 276.589063 42.987606 \n",
       "\" clip-path=\"url(#p7796bc809b)\" style=\"fill: none; stroke: #ffffff; stroke-linecap: round\"/>\n",
       "     </g>\n",
       "     <g id=\"text_12\">\n",
       "      <!-- 1.2 -->\n",
       "      <g style=\"fill: #262626\" transform=\"translate(28.599062 46.924403) scale(0.11 -0.11)\">\n",
       "       <use xlink:href=\"#ArialMT-31\"/>\n",
       "       <use xlink:href=\"#ArialMT-2e\" x=\"55.615234\"/>\n",
       "       <use xlink:href=\"#ArialMT-32\" x=\"83.398438\"/>\n",
       "      </g>\n",
       "     </g>\n",
       "    </g>\n",
       "    <g id=\"text_13\">\n",
       "     <!-- $x_2$ -->\n",
       "     <g style=\"fill: #262626\" transform=\"translate(15.789375 139.089375) rotate(-90) scale(0.12 -0.12)\">\n",
       "      <defs>\n",
       "       <path id=\"DejaVuSans-32\" d=\"M 1228 531 \n",
       "L 3431 531 \n",
       "L 3431 0 \n",
       "L 469 0 \n",
       "L 469 531 \n",
       "Q 828 903 1448 1529 \n",
       "Q 2069 2156 2228 2338 \n",
       "Q 2531 2678 2651 2914 \n",
       "Q 2772 3150 2772 3378 \n",
       "Q 2772 3750 2511 3984 \n",
       "Q 2250 4219 1831 4219 \n",
       "Q 1534 4219 1204 4116 \n",
       "Q 875 4013 500 3803 \n",
       "L 500 4441 \n",
       "Q 881 4594 1212 4672 \n",
       "Q 1544 4750 1819 4750 \n",
       "Q 2544 4750 2975 4387 \n",
       "Q 3406 4025 3406 3419 \n",
       "Q 3406 3131 3298 2873 \n",
       "Q 3191 2616 2906 2266 \n",
       "Q 2828 2175 2409 1742 \n",
       "Q 1991 1309 1228 531 \n",
       "z\n",
       "\" transform=\"scale(0.015625)\"/>\n",
       "      </defs>\n",
       "      <use xlink:href=\"#DejaVuSans-Oblique-78\" transform=\"translate(0 0.3125)\"/>\n",
       "      <use xlink:href=\"#DejaVuSans-32\" transform=\"translate(59.179688 -16.09375) scale(0.7)\"/>\n",
       "     </g>\n",
       "    </g>\n",
       "   </g>\n",
       "   <g id=\"PathCollection_1\">\n",
       "    <defs>\n",
       "     <path id=\"m6b8a31e192\" d=\"M 0 3 \n",
       "C 0.795609 3 1.55874 2.683901 2.12132 2.12132 \n",
       "C 2.683901 1.55874 3 0.795609 3 0 \n",
       "C 3 -0.795609 2.683901 -1.55874 2.12132 -2.12132 \n",
       "C 1.55874 -2.683901 0.795609 -3 0 -3 \n",
       "C -0.795609 -3 -1.55874 -2.683901 -2.12132 -2.12132 \n",
       "C -2.683901 -1.55874 -3 -0.795609 -3 0 \n",
       "C -3 0.795609 -2.683901 1.55874 -2.12132 2.12132 \n",
       "C -1.55874 2.683901 -0.795609 3 0 3 \n",
       "z\n",
       "\" style=\"stroke: #333333\"/>\n",
       "    </defs>\n",
       "    <g clip-path=\"url(#p7796bc809b)\">\n",
       "     <use xlink:href=\"#m6b8a31e192\" x=\"228.76847\" y=\"68.770574\" style=\"fill: #4c72b0; stroke: #333333\"/>\n",
       "     <use xlink:href=\"#m6b8a31e192\" x=\"253.779288\" y=\"87.064312\" style=\"fill: #4c72b0; stroke: #333333\"/>\n",
       "     <use xlink:href=\"#m6b8a31e192\" x=\"228.319771\" y=\"31.869375\" style=\"fill: #4c72b0; stroke: #333333\"/>\n",
       "     <use xlink:href=\"#m6b8a31e192\" x=\"236.894864\" y=\"76.956224\" style=\"fill: #4c72b0; stroke: #333333\"/>\n",
       "     <use xlink:href=\"#m6b8a31e192\" x=\"222.662837\" y=\"75.633678\" style=\"fill: #4c72b0; stroke: #333333\"/>\n",
       "     <use xlink:href=\"#m6b8a31e192\" x=\"237.46053\" y=\"64.544576\" style=\"fill: #4c72b0; stroke: #333333\"/>\n",
       "     <use xlink:href=\"#m6b8a31e192\" x=\"237.27005\" y=\"100.473359\" style=\"fill: #4c72b0; stroke: #333333\"/>\n",
       "     <use xlink:href=\"#m6b8a31e192\" x=\"233.455746\" y=\"60.992029\" style=\"fill: #4c72b0; stroke: #333333\"/>\n",
       "     <use xlink:href=\"#m6b8a31e192\" x=\"106.068316\" y=\"213.001502\" style=\"fill: #4c72b0; stroke: #333333\"/>\n",
       "     <use xlink:href=\"#m6b8a31e192\" x=\"229.25366\" y=\"86.745792\" style=\"fill: #4c72b0; stroke: #333333\"/>\n",
       "     <use xlink:href=\"#m6b8a31e192\" x=\"264.016135\" y=\"85.336853\" style=\"fill: #4c72b0; stroke: #333333\"/>\n",
       "     <use xlink:href=\"#m6b8a31e192\" x=\"203.711747\" y=\"60.19069\" style=\"fill: #4c72b0; stroke: #333333\"/>\n",
       "     <use xlink:href=\"#m6b8a31e192\" x=\"248.774668\" y=\"61.366094\" style=\"fill: #4c72b0; stroke: #333333\"/>\n",
       "     <use xlink:href=\"#m6b8a31e192\" x=\"240.690705\" y=\"79.319222\" style=\"fill: #4c72b0; stroke: #333333\"/>\n",
       "     <use xlink:href=\"#m6b8a31e192\" x=\"99.659843\" y=\"226.841019\" style=\"fill: #4c72b0; stroke: #333333\"/>\n",
       "     <use xlink:href=\"#m6b8a31e192\" x=\"239.107128\" y=\"95.184708\" style=\"fill: #4c72b0; stroke: #333333\"/>\n",
       "     <use xlink:href=\"#m6b8a31e192\" x=\"220.671207\" y=\"59.435694\" style=\"fill: #4c72b0; stroke: #333333\"/>\n",
       "     <use xlink:href=\"#m6b8a31e192\" x=\"113.392546\" y=\"198.25791\" style=\"fill: #4c72b0; stroke: #333333\"/>\n",
       "     <use xlink:href=\"#m6b8a31e192\" x=\"69.577055\" y=\"222.399688\" style=\"fill: #4c72b0; stroke: #333333\"/>\n",
       "     <use xlink:href=\"#m6b8a31e192\" x=\"91.881402\" y=\"199.748601\" style=\"fill: #4c72b0; stroke: #333333\"/>\n",
       "     <use xlink:href=\"#m6b8a31e192\" x=\"102.422214\" y=\"186.979697\" style=\"fill: #4c72b0; stroke: #333333\"/>\n",
       "     <use xlink:href=\"#m6b8a31e192\" x=\"229.780385\" y=\"70.254454\" style=\"fill: #4c72b0; stroke: #333333\"/>\n",
       "     <use xlink:href=\"#m6b8a31e192\" x=\"103.13684\" y=\"221.176876\" style=\"fill: #4c72b0; stroke: #333333\"/>\n",
       "     <use xlink:href=\"#m6b8a31e192\" x=\"119.597792\" y=\"211.271169\" style=\"fill: #4c72b0; stroke: #333333\"/>\n",
       "     <use xlink:href=\"#m6b8a31e192\" x=\"126.670893\" y=\"196.085583\" style=\"fill: #4c72b0; stroke: #333333\"/>\n",
       "     <use xlink:href=\"#m6b8a31e192\" x=\"88.130894\" y=\"188.051765\" style=\"fill: #4c72b0; stroke: #333333\"/>\n",
       "     <use xlink:href=\"#m6b8a31e192\" x=\"242.926025\" y=\"66.998289\" style=\"fill: #4c72b0; stroke: #333333\"/>\n",
       "     <use xlink:href=\"#m6b8a31e192\" x=\"98.816024\" y=\"205.286225\" style=\"fill: #4c72b0; stroke: #333333\"/>\n",
       "     <use xlink:href=\"#m6b8a31e192\" x=\"246.519203\" y=\"54.103092\" style=\"fill: #4c72b0; stroke: #333333\"/>\n",
       "     <use xlink:href=\"#m6b8a31e192\" x=\"105.030141\" y=\"195.867923\" style=\"fill: #4c72b0; stroke: #333333\"/>\n",
       "     <use xlink:href=\"#m6b8a31e192\" x=\"229.835062\" y=\"71.974221\" style=\"fill: #4c72b0; stroke: #333333\"/>\n",
       "     <use xlink:href=\"#m6b8a31e192\" x=\"89.889973\" y=\"200.359993\" style=\"fill: #4c72b0; stroke: #333333\"/>\n",
       "     <use xlink:href=\"#m6b8a31e192\" x=\"94.405832\" y=\"226.830383\" style=\"fill: #4c72b0; stroke: #333333\"/>\n",
       "     <use xlink:href=\"#m6b8a31e192\" x=\"133.876343\" y=\"189.941111\" style=\"fill: #4c72b0; stroke: #333333\"/>\n",
       "     <use xlink:href=\"#m6b8a31e192\" x=\"105.255795\" y=\"207.131631\" style=\"fill: #4c72b0; stroke: #333333\"/>\n",
       "     <use xlink:href=\"#m6b8a31e192\" x=\"92.107973\" y=\"190.986621\" style=\"fill: #4c72b0; stroke: #333333\"/>\n",
       "     <use xlink:href=\"#m6b8a31e192\" x=\"105.93928\" y=\"192.994426\" style=\"fill: #4c72b0; stroke: #333333\"/>\n",
       "     <use xlink:href=\"#m6b8a31e192\" x=\"235.689392\" y=\"81.763662\" style=\"fill: #4c72b0; stroke: #333333\"/>\n",
       "     <use xlink:href=\"#m6b8a31e192\" x=\"89.990308\" y=\"195.958414\" style=\"fill: #4c72b0; stroke: #333333\"/>\n",
       "     <use xlink:href=\"#m6b8a31e192\" x=\"246.20626\" y=\"76.28507\" style=\"fill: #4c72b0; stroke: #333333\"/>\n",
       "     <use xlink:href=\"#m6b8a31e192\" x=\"135.75352\" y=\"215.238614\" style=\"fill: #4c72b0; stroke: #333333\"/>\n",
       "     <use xlink:href=\"#m6b8a31e192\" x=\"113.668178\" y=\"208.837708\" style=\"fill: #4c72b0; stroke: #333333\"/>\n",
       "     <use xlink:href=\"#m6b8a31e192\" x=\"73.961834\" y=\"185.709208\" style=\"fill: #4c72b0; stroke: #333333\"/>\n",
       "     <use xlink:href=\"#m6b8a31e192\" x=\"103.759072\" y=\"197.221639\" style=\"fill: #4c72b0; stroke: #333333\"/>\n",
       "     <use xlink:href=\"#m6b8a31e192\" x=\"253.5566\" y=\"68.544246\" style=\"fill: #4c72b0; stroke: #333333\"/>\n",
       "     <use xlink:href=\"#m6b8a31e192\" x=\"230.166374\" y=\"86.048129\" style=\"fill: #4c72b0; stroke: #333333\"/>\n",
       "     <use xlink:href=\"#m6b8a31e192\" x=\"232.690669\" y=\"58.81755\" style=\"fill: #4c72b0; stroke: #333333\"/>\n",
       "     <use xlink:href=\"#m6b8a31e192\" x=\"257.799872\" y=\"69.065827\" style=\"fill: #4c72b0; stroke: #333333\"/>\n",
       "     <use xlink:href=\"#m6b8a31e192\" x=\"244.605282\" y=\"81.886401\" style=\"fill: #4c72b0; stroke: #333333\"/>\n",
       "     <use xlink:href=\"#m6b8a31e192\" x=\"109.300182\" y=\"201.301008\" style=\"fill: #4c72b0; stroke: #333333\"/>\n",
       "     <use xlink:href=\"#m6b8a31e192\" x=\"115.125096\" y=\"215.549884\" style=\"fill: #4c72b0; stroke: #333333\"/>\n",
       "     <use xlink:href=\"#m6b8a31e192\" x=\"102.720503\" y=\"214.578085\" style=\"fill: #4c72b0; stroke: #333333\"/>\n",
       "     <use xlink:href=\"#m6b8a31e192\" x=\"96.274286\" y=\"195.804039\" style=\"fill: #4c72b0; stroke: #333333\"/>\n",
       "     <use xlink:href=\"#m6b8a31e192\" x=\"228.681387\" y=\"72.716757\" style=\"fill: #4c72b0; stroke: #333333\"/>\n",
       "     <use xlink:href=\"#m6b8a31e192\" x=\"75.900167\" y=\"201.799252\" style=\"fill: #4c72b0; stroke: #333333\"/>\n",
       "     <use xlink:href=\"#m6b8a31e192\" x=\"100.831013\" y=\"182.713319\" style=\"fill: #4c72b0; stroke: #333333\"/>\n",
       "     <use xlink:href=\"#m6b8a31e192\" x=\"236.635305\" y=\"83.204791\" style=\"fill: #4c72b0; stroke: #333333\"/>\n",
       "     <use xlink:href=\"#m6b8a31e192\" x=\"215.667887\" y=\"69.917244\" style=\"fill: #4c72b0; stroke: #333333\"/>\n",
       "     <use xlink:href=\"#m6b8a31e192\" x=\"230.257081\" y=\"43.666486\" style=\"fill: #4c72b0; stroke: #333333\"/>\n",
       "     <use xlink:href=\"#m6b8a31e192\" x=\"228.403071\" y=\"62.671596\" style=\"fill: #4c72b0; stroke: #333333\"/>\n",
       "     <use xlink:href=\"#m6b8a31e192\" x=\"101.2142\" y=\"201.327598\" style=\"fill: #4c72b0; stroke: #333333\"/>\n",
       "     <use xlink:href=\"#m6b8a31e192\" x=\"116.457618\" y=\"200.14688\" style=\"fill: #4c72b0; stroke: #333333\"/>\n",
       "     <use xlink:href=\"#m6b8a31e192\" x=\"141.146816\" y=\"197.208849\" style=\"fill: #4c72b0; stroke: #333333\"/>\n",
       "     <use xlink:href=\"#m6b8a31e192\" x=\"233.751756\" y=\"70.938632\" style=\"fill: #4c72b0; stroke: #333333\"/>\n",
       "     <use xlink:href=\"#m6b8a31e192\" x=\"258.382772\" y=\"89.845041\" style=\"fill: #4c72b0; stroke: #333333\"/>\n",
       "     <use xlink:href=\"#m6b8a31e192\" x=\"99.230802\" y=\"183.791365\" style=\"fill: #4c72b0; stroke: #333333\"/>\n",
       "     <use xlink:href=\"#m6b8a31e192\" x=\"145.05638\" y=\"185.020276\" style=\"fill: #4c72b0; stroke: #333333\"/>\n",
       "     <use xlink:href=\"#m6b8a31e192\" x=\"249.250547\" y=\"89.989863\" style=\"fill: #4c72b0; stroke: #333333\"/>\n",
       "     <use xlink:href=\"#m6b8a31e192\" x=\"254.904086\" y=\"71.199661\" style=\"fill: #4c72b0; stroke: #333333\"/>\n",
       "     <use xlink:href=\"#m6b8a31e192\" x=\"256.102246\" y=\"76.062771\" style=\"fill: #4c72b0; stroke: #333333\"/>\n",
       "     <use xlink:href=\"#m6b8a31e192\" x=\"104.913974\" y=\"208.379034\" style=\"fill: #4c72b0; stroke: #333333\"/>\n",
       "     <use xlink:href=\"#m6b8a31e192\" x=\"109.857763\" y=\"189.645783\" style=\"fill: #4c72b0; stroke: #333333\"/>\n",
       "     <use xlink:href=\"#m6b8a31e192\" x=\"254.8335\" y=\"52.714392\" style=\"fill: #4c72b0; stroke: #333333\"/>\n",
       "     <use xlink:href=\"#m6b8a31e192\" x=\"265.703831\" y=\"59.0482\" style=\"fill: #4c72b0; stroke: #333333\"/>\n",
       "     <use xlink:href=\"#m6b8a31e192\" x=\"111.869433\" y=\"221.119096\" style=\"fill: #4c72b0; stroke: #333333\"/>\n",
       "     <use xlink:href=\"#m6b8a31e192\" x=\"263.895805\" y=\"46.074031\" style=\"fill: #4c72b0; stroke: #333333\"/>\n",
       "     <use xlink:href=\"#m6b8a31e192\" x=\"74.175814\" y=\"194.873879\" style=\"fill: #4c72b0; stroke: #333333\"/>\n",
       "     <use xlink:href=\"#m6b8a31e192\" x=\"226.563218\" y=\"91.77359\" style=\"fill: #4c72b0; stroke: #333333\"/>\n",
       "     <use xlink:href=\"#m6b8a31e192\" x=\"115.427672\" y=\"177.784308\" style=\"fill: #4c72b0; stroke: #333333\"/>\n",
       "     <use xlink:href=\"#m6b8a31e192\" x=\"218.813747\" y=\"77.745087\" style=\"fill: #4c72b0; stroke: #333333\"/>\n",
       "     <use xlink:href=\"#m6b8a31e192\" x=\"232.731855\" y=\"68.99644\" style=\"fill: #4c72b0; stroke: #333333\"/>\n",
       "     <use xlink:href=\"#m6b8a31e192\" x=\"248.101718\" y=\"79.875036\" style=\"fill: #4c72b0; stroke: #333333\"/>\n",
       "     <use xlink:href=\"#m6b8a31e192\" x=\"92.170826\" y=\"195.193903\" style=\"fill: #4c72b0; stroke: #333333\"/>\n",
       "     <use xlink:href=\"#m6b8a31e192\" x=\"122.707943\" y=\"201.277467\" style=\"fill: #4c72b0; stroke: #333333\"/>\n",
       "     <use xlink:href=\"#m6b8a31e192\" x=\"72.177282\" y=\"197.422543\" style=\"fill: #4c72b0; stroke: #333333\"/>\n",
       "     <use xlink:href=\"#m6b8a31e192\" x=\"242.494115\" y=\"59.783203\" style=\"fill: #4c72b0; stroke: #333333\"/>\n",
       "     <use xlink:href=\"#m6b8a31e192\" x=\"256.709844\" y=\"60.540169\" style=\"fill: #4c72b0; stroke: #333333\"/>\n",
       "     <use xlink:href=\"#m6b8a31e192\" x=\"235.480702\" y=\"66.990597\" style=\"fill: #4c72b0; stroke: #333333\"/>\n",
       "     <use xlink:href=\"#m6b8a31e192\" x=\"221.28377\" y=\"64.271477\" style=\"fill: #4c72b0; stroke: #333333\"/>\n",
       "     <use xlink:href=\"#m6b8a31e192\" x=\"224.558327\" y=\"78.87596\" style=\"fill: #4c72b0; stroke: #333333\"/>\n",
       "     <use xlink:href=\"#m6b8a31e192\" x=\"98.524435\" y=\"220.158597\" style=\"fill: #4c72b0; stroke: #333333\"/>\n",
       "     <use xlink:href=\"#m6b8a31e192\" x=\"119.125889\" y=\"233.469375\" style=\"fill: #4c72b0; stroke: #333333\"/>\n",
       "     <use xlink:href=\"#m6b8a31e192\" x=\"211.395374\" y=\"65.687353\" style=\"fill: #4c72b0; stroke: #333333\"/>\n",
       "     <use xlink:href=\"#m6b8a31e192\" x=\"243.646703\" y=\"69.605796\" style=\"fill: #4c72b0; stroke: #333333\"/>\n",
       "     <use xlink:href=\"#m6b8a31e192\" x=\"224.240125\" y=\"66.664115\" style=\"fill: #4c72b0; stroke: #333333\"/>\n",
       "     <use xlink:href=\"#m6b8a31e192\" x=\"100.550353\" y=\"215.141311\" style=\"fill: #4c72b0; stroke: #333333\"/>\n",
       "     <use xlink:href=\"#m6b8a31e192\" x=\"247.337212\" y=\"65.0971\" style=\"fill: #4c72b0; stroke: #333333\"/>\n",
       "     <use xlink:href=\"#m6b8a31e192\" x=\"259.003694\" y=\"74.302184\" style=\"fill: #4c72b0; stroke: #333333\"/>\n",
       "     <use xlink:href=\"#m6b8a31e192\" x=\"96.846716\" y=\"204.767068\" style=\"fill: #4c72b0; stroke: #333333\"/>\n",
       "     <use xlink:href=\"#m6b8a31e192\" x=\"244.287057\" y=\"63.143385\" style=\"fill: #4c72b0; stroke: #333333\"/>\n",
       "     <use xlink:href=\"#m6b8a31e192\" x=\"118.22052\" y=\"210.900644\" style=\"fill: #4c72b0; stroke: #333333\"/>\n",
       "     <use xlink:href=\"#m6b8a31e192\" x=\"226.076132\" y=\"49.918717\" style=\"fill: #4c72b0; stroke: #333333\"/>\n",
       "     <use xlink:href=\"#m6b8a31e192\" x=\"249.031586\" y=\"72.318051\" style=\"fill: #4c72b0; stroke: #333333\"/>\n",
       "    </g>\n",
       "   </g>\n",
       "   <g id=\"PathCollection_2\">\n",
       "    <defs>\n",
       "     <path id=\"m44527bda55\" d=\"M 0 3 \n",
       "C 0.795609 3 1.55874 2.683901 2.12132 2.12132 \n",
       "C 2.683901 1.55874 3 0.795609 3 0 \n",
       "C 3 -0.795609 2.683901 -1.55874 2.12132 -2.12132 \n",
       "C 1.55874 -2.683901 0.795609 -3 0 -3 \n",
       "C -0.795609 -3 -1.55874 -2.683901 -2.12132 -2.12132 \n",
       "C -2.683901 -1.55874 -3 -0.795609 -3 0 \n",
       "C -3 0.795609 -2.683901 1.55874 -2.12132 2.12132 \n",
       "C -1.55874 2.683901 -0.795609 3 0 3 \n",
       "z\n",
       "\" style=\"stroke: #333333\"/>\n",
       "    </defs>\n",
       "    <g clip-path=\"url(#p7796bc809b)\">\n",
       "     <use xlink:href=\"#m44527bda55\" x=\"104.794488\" y=\"67.4905\" style=\"fill: #dd8452; stroke: #333333\"/>\n",
       "     <use xlink:href=\"#m44527bda55\" x=\"219.184373\" y=\"201.698173\" style=\"fill: #dd8452; stroke: #333333\"/>\n",
       "     <use xlink:href=\"#m44527bda55\" x=\"241.933834\" y=\"197.434783\" style=\"fill: #dd8452; stroke: #333333\"/>\n",
       "     <use xlink:href=\"#m44527bda55\" x=\"263.858878\" y=\"175.655776\" style=\"fill: #dd8452; stroke: #333333\"/>\n",
       "     <use xlink:href=\"#m44527bda55\" x=\"223.388219\" y=\"230.270217\" style=\"fill: #dd8452; stroke: #333333\"/>\n",
       "     <use xlink:href=\"#m44527bda55\" x=\"249.192777\" y=\"208.307174\" style=\"fill: #dd8452; stroke: #333333\"/>\n",
       "     <use xlink:href=\"#m44527bda55\" x=\"229.764642\" y=\"209.742006\" style=\"fill: #dd8452; stroke: #333333\"/>\n",
       "     <use xlink:href=\"#m44527bda55\" x=\"96.575097\" y=\"91.608926\" style=\"fill: #dd8452; stroke: #333333\"/>\n",
       "     <use xlink:href=\"#m44527bda55\" x=\"91.01688\" y=\"82.597136\" style=\"fill: #dd8452; stroke: #333333\"/>\n",
       "     <use xlink:href=\"#m44527bda55\" x=\"110.435743\" y=\"74.169139\" style=\"fill: #dd8452; stroke: #333333\"/>\n",
       "     <use xlink:href=\"#m44527bda55\" x=\"111.696992\" y=\"92.927284\" style=\"fill: #dd8452; stroke: #333333\"/>\n",
       "     <use xlink:href=\"#m44527bda55\" x=\"240.433279\" y=\"211.105025\" style=\"fill: #dd8452; stroke: #333333\"/>\n",
       "     <use xlink:href=\"#m44527bda55\" x=\"240.037773\" y=\"182.835037\" style=\"fill: #dd8452; stroke: #333333\"/>\n",
       "     <use xlink:href=\"#m44527bda55\" x=\"92.127094\" y=\"80.886857\" style=\"fill: #dd8452; stroke: #333333\"/>\n",
       "     <use xlink:href=\"#m44527bda55\" x=\"98.632523\" y=\"67.219642\" style=\"fill: #dd8452; stroke: #333333\"/>\n",
       "     <use xlink:href=\"#m44527bda55\" x=\"96.259942\" y=\"78.653304\" style=\"fill: #dd8452; stroke: #333333\"/>\n",
       "     <use xlink:href=\"#m44527bda55\" x=\"99.093579\" y=\"56.182215\" style=\"fill: #dd8452; stroke: #333333\"/>\n",
       "     <use xlink:href=\"#m44527bda55\" x=\"112.935348\" y=\"53.375161\" style=\"fill: #dd8452; stroke: #333333\"/>\n",
       "     <use xlink:href=\"#m44527bda55\" x=\"227.364841\" y=\"205.205608\" style=\"fill: #dd8452; stroke: #333333\"/>\n",
       "     <use xlink:href=\"#m44527bda55\" x=\"261.461163\" y=\"230.587011\" style=\"fill: #dd8452; stroke: #333333\"/>\n",
       "     <use xlink:href=\"#m44527bda55\" x=\"232.376655\" y=\"215.992716\" style=\"fill: #dd8452; stroke: #333333\"/>\n",
       "     <use xlink:href=\"#m44527bda55\" x=\"237.418226\" y=\"213.610447\" style=\"fill: #dd8452; stroke: #333333\"/>\n",
       "     <use xlink:href=\"#m44527bda55\" x=\"139.69533\" y=\"64.730933\" style=\"fill: #dd8452; stroke: #333333\"/>\n",
       "     <use xlink:href=\"#m44527bda55\" x=\"101.66334\" y=\"65.606078\" style=\"fill: #dd8452; stroke: #333333\"/>\n",
       "     <use xlink:href=\"#m44527bda55\" x=\"245.971913\" y=\"199.962771\" style=\"fill: #dd8452; stroke: #333333\"/>\n",
       "     <use xlink:href=\"#m44527bda55\" x=\"101.324266\" y=\"75.520339\" style=\"fill: #dd8452; stroke: #333333\"/>\n",
       "     <use xlink:href=\"#m44527bda55\" x=\"87.677537\" y=\"59.800462\" style=\"fill: #dd8452; stroke: #333333\"/>\n",
       "     <use xlink:href=\"#m44527bda55\" x=\"234.483674\" y=\"219.040088\" style=\"fill: #dd8452; stroke: #333333\"/>\n",
       "     <use xlink:href=\"#m44527bda55\" x=\"242.030514\" y=\"192.235552\" style=\"fill: #dd8452; stroke: #333333\"/>\n",
       "     <use xlink:href=\"#m44527bda55\" x=\"221.899037\" y=\"201.273584\" style=\"fill: #dd8452; stroke: #333333\"/>\n",
       "     <use xlink:href=\"#m44527bda55\" x=\"110.664342\" y=\"61.148445\" style=\"fill: #dd8452; stroke: #333333\"/>\n",
       "     <use xlink:href=\"#m44527bda55\" x=\"106.930954\" y=\"46.056613\" style=\"fill: #dd8452; stroke: #333333\"/>\n",
       "     <use xlink:href=\"#m44527bda55\" x=\"107.767699\" y=\"86.880562\" style=\"fill: #dd8452; stroke: #333333\"/>\n",
       "     <use xlink:href=\"#m44527bda55\" x=\"126.74577\" y=\"48.312717\" style=\"fill: #dd8452; stroke: #333333\"/>\n",
       "     <use xlink:href=\"#m44527bda55\" x=\"109.70613\" y=\"59.468306\" style=\"fill: #dd8452; stroke: #333333\"/>\n",
       "     <use xlink:href=\"#m44527bda55\" x=\"244.76376\" y=\"212.320911\" style=\"fill: #dd8452; stroke: #333333\"/>\n",
       "     <use xlink:href=\"#m44527bda55\" x=\"232.112987\" y=\"201.082088\" style=\"fill: #dd8452; stroke: #333333\"/>\n",
       "     <use xlink:href=\"#m44527bda55\" x=\"105.7509\" y=\"62.140575\" style=\"fill: #dd8452; stroke: #333333\"/>\n",
       "     <use xlink:href=\"#m44527bda55\" x=\"257.084063\" y=\"199.874876\" style=\"fill: #dd8452; stroke: #333333\"/>\n",
       "     <use xlink:href=\"#m44527bda55\" x=\"104.293469\" y=\"44.136781\" style=\"fill: #dd8452; stroke: #333333\"/>\n",
       "     <use xlink:href=\"#m44527bda55\" x=\"227.724498\" y=\"218.840436\" style=\"fill: #dd8452; stroke: #333333\"/>\n",
       "     <use xlink:href=\"#m44527bda55\" x=\"108.135708\" y=\"87.796805\" style=\"fill: #dd8452; stroke: #333333\"/>\n",
       "     <use xlink:href=\"#m44527bda55\" x=\"128.780168\" y=\"70.642147\" style=\"fill: #dd8452; stroke: #333333\"/>\n",
       "     <use xlink:href=\"#m44527bda55\" x=\"252.419763\" y=\"204.537638\" style=\"fill: #dd8452; stroke: #333333\"/>\n",
       "     <use xlink:href=\"#m44527bda55\" x=\"237.763624\" y=\"209.876995\" style=\"fill: #dd8452; stroke: #333333\"/>\n",
       "     <use xlink:href=\"#m44527bda55\" x=\"115.975824\" y=\"68.87084\" style=\"fill: #dd8452; stroke: #333333\"/>\n",
       "     <use xlink:href=\"#m44527bda55\" x=\"217.66514\" y=\"201.118734\" style=\"fill: #dd8452; stroke: #333333\"/>\n",
       "     <use xlink:href=\"#m44527bda55\" x=\"222.167797\" y=\"210.03058\" style=\"fill: #dd8452; stroke: #333333\"/>\n",
       "     <use xlink:href=\"#m44527bda55\" x=\"250.673092\" y=\"199.242829\" style=\"fill: #dd8452; stroke: #333333\"/>\n",
       "     <use xlink:href=\"#m44527bda55\" x=\"82.044044\" y=\"58.4726\" style=\"fill: #dd8452; stroke: #333333\"/>\n",
       "     <use xlink:href=\"#m44527bda55\" x=\"247.704198\" y=\"199.327287\" style=\"fill: #dd8452; stroke: #333333\"/>\n",
       "     <use xlink:href=\"#m44527bda55\" x=\"228.460444\" y=\"219.658884\" style=\"fill: #dd8452; stroke: #333333\"/>\n",
       "     <use xlink:href=\"#m44527bda55\" x=\"110.740062\" y=\"49.347376\" style=\"fill: #dd8452; stroke: #333333\"/>\n",
       "     <use xlink:href=\"#m44527bda55\" x=\"91.626932\" y=\"85.858903\" style=\"fill: #dd8452; stroke: #333333\"/>\n",
       "     <use xlink:href=\"#m44527bda55\" x=\"228.403983\" y=\"207.628714\" style=\"fill: #dd8452; stroke: #333333\"/>\n",
       "     <use xlink:href=\"#m44527bda55\" x=\"106.182103\" y=\"58.598597\" style=\"fill: #dd8452; stroke: #333333\"/>\n",
       "     <use xlink:href=\"#m44527bda55\" x=\"241.581933\" y=\"200.48255\" style=\"fill: #dd8452; stroke: #333333\"/>\n",
       "     <use xlink:href=\"#m44527bda55\" x=\"109.524637\" y=\"67.9874\" style=\"fill: #dd8452; stroke: #333333\"/>\n",
       "     <use xlink:href=\"#m44527bda55\" x=\"261.048383\" y=\"219.846197\" style=\"fill: #dd8452; stroke: #333333\"/>\n",
       "     <use xlink:href=\"#m44527bda55\" x=\"109.983\" y=\"65.079936\" style=\"fill: #dd8452; stroke: #333333\"/>\n",
       "     <use xlink:href=\"#m44527bda55\" x=\"85.390343\" y=\"89.564043\" style=\"fill: #dd8452; stroke: #333333\"/>\n",
       "     <use xlink:href=\"#m44527bda55\" x=\"234.919985\" y=\"201.355415\" style=\"fill: #dd8452; stroke: #333333\"/>\n",
       "     <use xlink:href=\"#m44527bda55\" x=\"103.776954\" y=\"56.510049\" style=\"fill: #dd8452; stroke: #333333\"/>\n",
       "     <use xlink:href=\"#m44527bda55\" x=\"254.875423\" y=\"199.126661\" style=\"fill: #dd8452; stroke: #333333\"/>\n",
       "     <use xlink:href=\"#m44527bda55\" x=\"249.429424\" y=\"213.762989\" style=\"fill: #dd8452; stroke: #333333\"/>\n",
       "     <use xlink:href=\"#m44527bda55\" x=\"218.839896\" y=\"204.942714\" style=\"fill: #dd8452; stroke: #333333\"/>\n",
       "     <use xlink:href=\"#m44527bda55\" x=\"91.687658\" y=\"86.143389\" style=\"fill: #dd8452; stroke: #333333\"/>\n",
       "     <use xlink:href=\"#m44527bda55\" x=\"108.880322\" y=\"53.892355\" style=\"fill: #dd8452; stroke: #333333\"/>\n",
       "     <use xlink:href=\"#m44527bda55\" x=\"242.203902\" y=\"208.160218\" style=\"fill: #dd8452; stroke: #333333\"/>\n",
       "     <use xlink:href=\"#m44527bda55\" x=\"142.785454\" y=\"65.239402\" style=\"fill: #dd8452; stroke: #333333\"/>\n",
       "     <use xlink:href=\"#m44527bda55\" x=\"245.762438\" y=\"202.039607\" style=\"fill: #dd8452; stroke: #333333\"/>\n",
       "     <use xlink:href=\"#m44527bda55\" x=\"83.469341\" y=\"75.381303\" style=\"fill: #dd8452; stroke: #333333\"/>\n",
       "     <use xlink:href=\"#m44527bda55\" x=\"245.532184\" y=\"193.863724\" style=\"fill: #dd8452; stroke: #333333\"/>\n",
       "     <use xlink:href=\"#m44527bda55\" x=\"63.534517\" y=\"89.098317\" style=\"fill: #dd8452; stroke: #333333\"/>\n",
       "     <use xlink:href=\"#m44527bda55\" x=\"234.409661\" y=\"212.553976\" style=\"fill: #dd8452; stroke: #333333\"/>\n",
       "     <use xlink:href=\"#m44527bda55\" x=\"93.87814\" y=\"75.928534\" style=\"fill: #dd8452; stroke: #333333\"/>\n",
       "     <use xlink:href=\"#m44527bda55\" x=\"112.8103\" y=\"73.417401\" style=\"fill: #dd8452; stroke: #333333\"/>\n",
       "     <use xlink:href=\"#m44527bda55\" x=\"238.933945\" y=\"193.038206\" style=\"fill: #dd8452; stroke: #333333\"/>\n",
       "     <use xlink:href=\"#m44527bda55\" x=\"130.120113\" y=\"87.681694\" style=\"fill: #dd8452; stroke: #333333\"/>\n",
       "     <use xlink:href=\"#m44527bda55\" x=\"238.45997\" y=\"223.247362\" style=\"fill: #dd8452; stroke: #333333\"/>\n",
       "     <use xlink:href=\"#m44527bda55\" x=\"102.965197\" y=\"56.500767\" style=\"fill: #dd8452; stroke: #333333\"/>\n",
       "     <use xlink:href=\"#m44527bda55\" x=\"244.894639\" y=\"203.077919\" style=\"fill: #dd8452; stroke: #333333\"/>\n",
       "     <use xlink:href=\"#m44527bda55\" x=\"85.519833\" y=\"77.719166\" style=\"fill: #dd8452; stroke: #333333\"/>\n",
       "     <use xlink:href=\"#m44527bda55\" x=\"257.237703\" y=\"198.546711\" style=\"fill: #dd8452; stroke: #333333\"/>\n",
       "     <use xlink:href=\"#m44527bda55\" x=\"94.752318\" y=\"58.091367\" style=\"fill: #dd8452; stroke: #333333\"/>\n",
       "     <use xlink:href=\"#m44527bda55\" x=\"263.402938\" y=\"224.98538\" style=\"fill: #dd8452; stroke: #333333\"/>\n",
       "     <use xlink:href=\"#m44527bda55\" x=\"266.443608\" y=\"211.772667\" style=\"fill: #dd8452; stroke: #333333\"/>\n",
       "     <use xlink:href=\"#m44527bda55\" x=\"239.37634\" y=\"198.226229\" style=\"fill: #dd8452; stroke: #333333\"/>\n",
       "     <use xlink:href=\"#m44527bda55\" x=\"231.772642\" y=\"219.395659\" style=\"fill: #dd8452; stroke: #333333\"/>\n",
       "     <use xlink:href=\"#m44527bda55\" x=\"238.568578\" y=\"197.30254\" style=\"fill: #dd8452; stroke: #333333\"/>\n",
       "     <use xlink:href=\"#m44527bda55\" x=\"243.090181\" y=\"222.05058\" style=\"fill: #dd8452; stroke: #333333\"/>\n",
       "     <use xlink:href=\"#m44527bda55\" x=\"251.104716\" y=\"193.366898\" style=\"fill: #dd8452; stroke: #333333\"/>\n",
       "     <use xlink:href=\"#m44527bda55\" x=\"103.020033\" y=\"71.843576\" style=\"fill: #dd8452; stroke: #333333\"/>\n",
       "     <use xlink:href=\"#m44527bda55\" x=\"206.450562\" y=\"206.841006\" style=\"fill: #dd8452; stroke: #333333\"/>\n",
       "     <use xlink:href=\"#m44527bda55\" x=\"103.028976\" y=\"71.743237\" style=\"fill: #dd8452; stroke: #333333\"/>\n",
       "     <use xlink:href=\"#m44527bda55\" x=\"119.951713\" y=\"72.990921\" style=\"fill: #dd8452; stroke: #333333\"/>\n",
       "     <use xlink:href=\"#m44527bda55\" x=\"127.032033\" y=\"44.470638\" style=\"fill: #dd8452; stroke: #333333\"/>\n",
       "    </g>\n",
       "   </g>\n",
       "   <g id=\"patch_3\">\n",
       "    <path d=\"M 53.389062 243.549375 \n",
       "L 53.389062 21.789375 \n",
       "\" style=\"fill: none; stroke: #ffffff; stroke-width: 1.25; stroke-linejoin: miter; stroke-linecap: square\"/>\n",
       "   </g>\n",
       "   <g id=\"patch_4\">\n",
       "    <path d=\"M 276.589063 243.549375 \n",
       "L 276.589063 21.789375 \n",
       "\" style=\"fill: none; stroke: #ffffff; stroke-width: 1.25; stroke-linejoin: miter; stroke-linecap: square\"/>\n",
       "   </g>\n",
       "   <g id=\"patch_5\">\n",
       "    <path d=\"M 53.389063 243.549375 \n",
       "L 276.589062 243.549375 \n",
       "\" style=\"fill: none; stroke: #ffffff; stroke-width: 1.25; stroke-linejoin: miter; stroke-linecap: square\"/>\n",
       "   </g>\n",
       "   <g id=\"patch_6\">\n",
       "    <path d=\"M 53.389063 21.789375 \n",
       "L 276.589062 21.789375 \n",
       "\" style=\"fill: none; stroke: #ffffff; stroke-width: 1.25; stroke-linejoin: miter; stroke-linecap: square\"/>\n",
       "   </g>\n",
       "   <g id=\"text_14\">\n",
       "    <!-- Dataset samples -->\n",
       "    <g style=\"fill: #262626\" transform=\"translate(120.305 15.789375) scale(0.12 -0.12)\">\n",
       "     <defs>\n",
       "      <path id=\"ArialMT-44\" d=\"M 494 0 \n",
       "L 494 4581 \n",
       "L 2072 4581 \n",
       "Q 2606 4581 2888 4516 \n",
       "Q 3281 4425 3559 4188 \n",
       "Q 3922 3881 4101 3404 \n",
       "Q 4281 2928 4281 2316 \n",
       "Q 4281 1794 4159 1391 \n",
       "Q 4038 988 3847 723 \n",
       "Q 3656 459 3429 307 \n",
       "Q 3203 156 2883 78 \n",
       "Q 2563 0 2147 0 \n",
       "L 494 0 \n",
       "z\n",
       "M 1100 541 \n",
       "L 2078 541 \n",
       "Q 2531 541 2789 625 \n",
       "Q 3047 709 3200 863 \n",
       "Q 3416 1078 3536 1442 \n",
       "Q 3656 1806 3656 2325 \n",
       "Q 3656 3044 3420 3430 \n",
       "Q 3184 3816 2847 3947 \n",
       "Q 2603 4041 2063 4041 \n",
       "L 1100 4041 \n",
       "L 1100 541 \n",
       "z\n",
       "\" transform=\"scale(0.015625)\"/>\n",
       "      <path id=\"ArialMT-61\" d=\"M 2588 409 \n",
       "Q 2275 144 1986 34 \n",
       "Q 1697 -75 1366 -75 \n",
       "Q 819 -75 525 192 \n",
       "Q 231 459 231 875 \n",
       "Q 231 1119 342 1320 \n",
       "Q 453 1522 633 1644 \n",
       "Q 813 1766 1038 1828 \n",
       "Q 1203 1872 1538 1913 \n",
       "Q 2219 1994 2541 2106 \n",
       "Q 2544 2222 2544 2253 \n",
       "Q 2544 2597 2384 2738 \n",
       "Q 2169 2928 1744 2928 \n",
       "Q 1347 2928 1158 2789 \n",
       "Q 969 2650 878 2297 \n",
       "L 328 2372 \n",
       "Q 403 2725 575 2942 \n",
       "Q 747 3159 1072 3276 \n",
       "Q 1397 3394 1825 3394 \n",
       "Q 2250 3394 2515 3294 \n",
       "Q 2781 3194 2906 3042 \n",
       "Q 3031 2891 3081 2659 \n",
       "Q 3109 2516 3109 2141 \n",
       "L 3109 1391 \n",
       "Q 3109 606 3145 398 \n",
       "Q 3181 191 3288 0 \n",
       "L 2700 0 \n",
       "Q 2613 175 2588 409 \n",
       "z\n",
       "M 2541 1666 \n",
       "Q 2234 1541 1622 1453 \n",
       "Q 1275 1403 1131 1340 \n",
       "Q 988 1278 909 1158 \n",
       "Q 831 1038 831 891 \n",
       "Q 831 666 1001 516 \n",
       "Q 1172 366 1500 366 \n",
       "Q 1825 366 2078 508 \n",
       "Q 2331 650 2450 897 \n",
       "Q 2541 1088 2541 1459 \n",
       "L 2541 1666 \n",
       "z\n",
       "\" transform=\"scale(0.015625)\"/>\n",
       "      <path id=\"ArialMT-74\" d=\"M 1650 503 \n",
       "L 1731 6 \n",
       "Q 1494 -44 1306 -44 \n",
       "Q 1000 -44 831 53 \n",
       "Q 663 150 594 308 \n",
       "Q 525 466 525 972 \n",
       "L 525 2881 \n",
       "L 113 2881 \n",
       "L 113 3319 \n",
       "L 525 3319 \n",
       "L 525 4141 \n",
       "L 1084 4478 \n",
       "L 1084 3319 \n",
       "L 1650 3319 \n",
       "L 1650 2881 \n",
       "L 1084 2881 \n",
       "L 1084 941 \n",
       "Q 1084 700 1114 631 \n",
       "Q 1144 563 1211 522 \n",
       "Q 1278 481 1403 481 \n",
       "Q 1497 481 1650 503 \n",
       "z\n",
       "\" transform=\"scale(0.015625)\"/>\n",
       "      <path id=\"ArialMT-73\" d=\"M 197 991 \n",
       "L 753 1078 \n",
       "Q 800 744 1014 566 \n",
       "Q 1228 388 1613 388 \n",
       "Q 2000 388 2187 545 \n",
       "Q 2375 703 2375 916 \n",
       "Q 2375 1106 2209 1216 \n",
       "Q 2094 1291 1634 1406 \n",
       "Q 1016 1563 777 1677 \n",
       "Q 538 1791 414 1992 \n",
       "Q 291 2194 291 2438 \n",
       "Q 291 2659 392 2848 \n",
       "Q 494 3038 669 3163 \n",
       "Q 800 3259 1026 3326 \n",
       "Q 1253 3394 1513 3394 \n",
       "Q 1903 3394 2198 3281 \n",
       "Q 2494 3169 2634 2976 \n",
       "Q 2775 2784 2828 2463 \n",
       "L 2278 2388 \n",
       "Q 2241 2644 2061 2787 \n",
       "Q 1881 2931 1553 2931 \n",
       "Q 1166 2931 1000 2803 \n",
       "Q 834 2675 834 2503 \n",
       "Q 834 2394 903 2306 \n",
       "Q 972 2216 1119 2156 \n",
       "Q 1203 2125 1616 2013 \n",
       "Q 2213 1853 2448 1751 \n",
       "Q 2684 1650 2818 1456 \n",
       "Q 2953 1263 2953 975 \n",
       "Q 2953 694 2789 445 \n",
       "Q 2625 197 2315 61 \n",
       "Q 2006 -75 1616 -75 \n",
       "Q 969 -75 630 194 \n",
       "Q 291 463 197 991 \n",
       "z\n",
       "\" transform=\"scale(0.015625)\"/>\n",
       "      <path id=\"ArialMT-65\" d=\"M 2694 1069 \n",
       "L 3275 997 \n",
       "Q 3138 488 2766 206 \n",
       "Q 2394 -75 1816 -75 \n",
       "Q 1088 -75 661 373 \n",
       "Q 234 822 234 1631 \n",
       "Q 234 2469 665 2931 \n",
       "Q 1097 3394 1784 3394 \n",
       "Q 2450 3394 2872 2941 \n",
       "Q 3294 2488 3294 1666 \n",
       "Q 3294 1616 3291 1516 \n",
       "L 816 1516 \n",
       "Q 847 969 1125 678 \n",
       "Q 1403 388 1819 388 \n",
       "Q 2128 388 2347 550 \n",
       "Q 2566 713 2694 1069 \n",
       "z\n",
       "M 847 1978 \n",
       "L 2700 1978 \n",
       "Q 2663 2397 2488 2606 \n",
       "Q 2219 2931 1791 2931 \n",
       "Q 1403 2931 1139 2672 \n",
       "Q 875 2413 847 1978 \n",
       "z\n",
       "\" transform=\"scale(0.015625)\"/>\n",
       "      <path id=\"ArialMT-20\" transform=\"scale(0.015625)\"/>\n",
       "      <path id=\"ArialMT-6d\" d=\"M 422 0 \n",
       "L 422 3319 \n",
       "L 925 3319 \n",
       "L 925 2853 \n",
       "Q 1081 3097 1340 3245 \n",
       "Q 1600 3394 1931 3394 \n",
       "Q 2300 3394 2536 3241 \n",
       "Q 2772 3088 2869 2813 \n",
       "Q 3263 3394 3894 3394 \n",
       "Q 4388 3394 4653 3120 \n",
       "Q 4919 2847 4919 2278 \n",
       "L 4919 0 \n",
       "L 4359 0 \n",
       "L 4359 2091 \n",
       "Q 4359 2428 4304 2576 \n",
       "Q 4250 2725 4106 2815 \n",
       "Q 3963 2906 3769 2906 \n",
       "Q 3419 2906 3187 2673 \n",
       "Q 2956 2441 2956 1928 \n",
       "L 2956 0 \n",
       "L 2394 0 \n",
       "L 2394 2156 \n",
       "Q 2394 2531 2256 2718 \n",
       "Q 2119 2906 1806 2906 \n",
       "Q 1569 2906 1367 2781 \n",
       "Q 1166 2656 1075 2415 \n",
       "Q 984 2175 984 1722 \n",
       "L 984 0 \n",
       "L 422 0 \n",
       "z\n",
       "\" transform=\"scale(0.015625)\"/>\n",
       "      <path id=\"ArialMT-70\" d=\"M 422 -1272 \n",
       "L 422 3319 \n",
       "L 934 3319 \n",
       "L 934 2888 \n",
       "Q 1116 3141 1344 3267 \n",
       "Q 1572 3394 1897 3394 \n",
       "Q 2322 3394 2647 3175 \n",
       "Q 2972 2956 3137 2557 \n",
       "Q 3303 2159 3303 1684 \n",
       "Q 3303 1175 3120 767 \n",
       "Q 2938 359 2589 142 \n",
       "Q 2241 -75 1856 -75 \n",
       "Q 1575 -75 1351 44 \n",
       "Q 1128 163 984 344 \n",
       "L 984 -1272 \n",
       "L 422 -1272 \n",
       "z\n",
       "M 931 1641 \n",
       "Q 931 1000 1190 694 \n",
       "Q 1450 388 1819 388 \n",
       "Q 2194 388 2461 705 \n",
       "Q 2728 1022 2728 1688 \n",
       "Q 2728 2322 2467 2637 \n",
       "Q 2206 2953 1844 2953 \n",
       "Q 1484 2953 1207 2617 \n",
       "Q 931 2281 931 1641 \n",
       "z\n",
       "\" transform=\"scale(0.015625)\"/>\n",
       "      <path id=\"ArialMT-6c\" d=\"M 409 0 \n",
       "L 409 4581 \n",
       "L 972 4581 \n",
       "L 972 0 \n",
       "L 409 0 \n",
       "z\n",
       "\" transform=\"scale(0.015625)\"/>\n",
       "     </defs>\n",
       "     <use xlink:href=\"#ArialMT-44\"/>\n",
       "     <use xlink:href=\"#ArialMT-61\" x=\"72.216797\"/>\n",
       "     <use xlink:href=\"#ArialMT-74\" x=\"127.832031\"/>\n",
       "     <use xlink:href=\"#ArialMT-61\" x=\"155.615234\"/>\n",
       "     <use xlink:href=\"#ArialMT-73\" x=\"211.230469\"/>\n",
       "     <use xlink:href=\"#ArialMT-65\" x=\"261.230469\"/>\n",
       "     <use xlink:href=\"#ArialMT-74\" x=\"316.845703\"/>\n",
       "     <use xlink:href=\"#ArialMT-20\" x=\"344.628906\"/>\n",
       "     <use xlink:href=\"#ArialMT-73\" x=\"372.412109\"/>\n",
       "     <use xlink:href=\"#ArialMT-61\" x=\"422.412109\"/>\n",
       "     <use xlink:href=\"#ArialMT-6d\" x=\"478.027344\"/>\n",
       "     <use xlink:href=\"#ArialMT-70\" x=\"561.328125\"/>\n",
       "     <use xlink:href=\"#ArialMT-6c\" x=\"616.943359\"/>\n",
       "     <use xlink:href=\"#ArialMT-65\" x=\"639.160156\"/>\n",
       "     <use xlink:href=\"#ArialMT-73\" x=\"694.775391\"/>\n",
       "    </g>\n",
       "   </g>\n",
       "   <g id=\"legend_1\">\n",
       "    <g id=\"patch_7\">\n",
       "     <path d=\"M 197.010937 149.879219 \n",
       "L 268.889063 149.879219 \n",
       "Q 271.089063 149.879219 271.089063 147.679219 \n",
       "L 271.089063 117.659531 \n",
       "Q 271.089063 115.459531 268.889063 115.459531 \n",
       "L 197.010937 115.459531 \n",
       "Q 194.810937 115.459531 194.810937 117.659531 \n",
       "L 194.810937 147.679219 \n",
       "Q 194.810937 149.879219 197.010937 149.879219 \n",
       "z\n",
       "\" style=\"fill: #eaeaf2; opacity: 0.8; stroke: #cccccc; stroke-linejoin: miter\"/>\n",
       "    </g>\n",
       "    <g id=\"PathCollection_3\">\n",
       "     <g>\n",
       "      <use xlink:href=\"#m6b8a31e192\" x=\"210.210938\" y=\"124.845625\" style=\"fill: #4c72b0; stroke: #333333\"/>\n",
       "     </g>\n",
       "    </g>\n",
       "    <g id=\"text_15\">\n",
       "     <!-- Class 0 -->\n",
       "     <g style=\"fill: #262626\" transform=\"translate(230.010938 127.733125) scale(0.11 -0.11)\">\n",
       "      <defs>\n",
       "       <path id=\"ArialMT-43\" d=\"M 3763 1606 \n",
       "L 4369 1453 \n",
       "Q 4178 706 3683 314 \n",
       "Q 3188 -78 2472 -78 \n",
       "Q 1731 -78 1267 223 \n",
       "Q 803 525 561 1097 \n",
       "Q 319 1669 319 2325 \n",
       "Q 319 3041 592 3573 \n",
       "Q 866 4106 1370 4382 \n",
       "Q 1875 4659 2481 4659 \n",
       "Q 3169 4659 3637 4309 \n",
       "Q 4106 3959 4291 3325 \n",
       "L 3694 3184 \n",
       "Q 3534 3684 3231 3912 \n",
       "Q 2928 4141 2469 4141 \n",
       "Q 1941 4141 1586 3887 \n",
       "Q 1231 3634 1087 3207 \n",
       "Q 944 2781 944 2328 \n",
       "Q 944 1744 1114 1308 \n",
       "Q 1284 872 1643 656 \n",
       "Q 2003 441 2422 441 \n",
       "Q 2931 441 3284 734 \n",
       "Q 3638 1028 3763 1606 \n",
       "z\n",
       "\" transform=\"scale(0.015625)\"/>\n",
       "      </defs>\n",
       "      <use xlink:href=\"#ArialMT-43\"/>\n",
       "      <use xlink:href=\"#ArialMT-6c\" x=\"72.216797\"/>\n",
       "      <use xlink:href=\"#ArialMT-61\" x=\"94.433594\"/>\n",
       "      <use xlink:href=\"#ArialMT-73\" x=\"150.048828\"/>\n",
       "      <use xlink:href=\"#ArialMT-73\" x=\"200.048828\"/>\n",
       "      <use xlink:href=\"#ArialMT-20\" x=\"250.048828\"/>\n",
       "      <use xlink:href=\"#ArialMT-30\" x=\"277.832031\"/>\n",
       "     </g>\n",
       "    </g>\n",
       "    <g id=\"PathCollection_4\">\n",
       "     <g>\n",
       "      <use xlink:href=\"#m44527bda55\" x=\"210.210938\" y=\"140.405469\" style=\"fill: #dd8452; stroke: #333333\"/>\n",
       "     </g>\n",
       "    </g>\n",
       "    <g id=\"text_16\">\n",
       "     <!-- Class 1 -->\n",
       "     <g style=\"fill: #262626\" transform=\"translate(230.010938 143.292969) scale(0.11 -0.11)\">\n",
       "      <use xlink:href=\"#ArialMT-43\"/>\n",
       "      <use xlink:href=\"#ArialMT-6c\" x=\"72.216797\"/>\n",
       "      <use xlink:href=\"#ArialMT-61\" x=\"94.433594\"/>\n",
       "      <use xlink:href=\"#ArialMT-73\" x=\"150.048828\"/>\n",
       "      <use xlink:href=\"#ArialMT-73\" x=\"200.048828\"/>\n",
       "      <use xlink:href=\"#ArialMT-20\" x=\"250.048828\"/>\n",
       "      <use xlink:href=\"#ArialMT-31\" x=\"277.832031\"/>\n",
       "     </g>\n",
       "    </g>\n",
       "   </g>\n",
       "  </g>\n",
       " </g>\n",
       " <defs>\n",
       "  <clipPath id=\"p7796bc809b\">\n",
       "   <rect x=\"53.389062\" y=\"21.789375\" width=\"223.2\" height=\"221.76\"/>\n",
       "  </clipPath>\n",
       " </defs>\n",
       "</svg>\n"
      ],
      "text/plain": [
       "<Figure size 400x400 with 1 Axes>"
      ]
     },
     "metadata": {},
     "output_type": "display_data"
    }
   ],
   "source": [
    "visualize_samples(dataset.data, dataset.label)\n",
    "plt.show()"
   ]
  },
  {
   "cell_type": "markdown",
   "metadata": {
    "id": "-h2vdrrikMnk"
   },
   "source": [
    "#### The data loader class\n",
    "\n",
    "The class `torch.utils.data.DataLoader` represents a Python iterable over a dataset with support for automatic batching, multi-process data loading and many more features. The data loader communicates with the dataset using the function `__getitem__`, and stacks its outputs as tensors over the first dimension to form a batch.\n",
    "In contrast to the dataset class, we usually don't have to define our own data loader class, but can just create an object of it with the dataset as input. Additionally, we can configure our data loader with the following input arguments (only a selection, see full list [here](https://pytorch.org/docs/stable/data.html#torch.utils.data.DataLoader)):\n",
    "\n",
    "* `batch_size`: Number of samples to stack per batch\n",
    "* `shuffle`: If True, the data is returned in a random order. This is important during training for introducing stochasticity.\n",
    "* `num_workers`: Number of subprocesses to use for data loading. The default, 0, means that the data will be loaded in the main process which can slow down training for datasets where loading a data point takes a considerable amount of time (e.g. large images). More workers are recommended for those, but can cause issues on Windows computers. For tiny datasets as ours, 0 workers are usually faster.\n",
    "* `pin_memory`: If True, the data loader will copy Tensors into CUDA pinned memory before returning them. This can save some time for large data points on GPUs. Usually a good practice to use for a training set, but not necessarily for validation and test to save memory on the GPU.\n",
    "* `drop_last`: If True, the last batch is dropped in case it is smaller than the specified batch size. This occurs when the dataset size is not a multiple of the batch size. Only potentially helpful during training to keep a consistent batch size.\n",
    "\n",
    "Let's create a simple data loader below:"
   ]
  },
  {
   "cell_type": "code",
   "execution_count": 41,
   "metadata": {
    "id": "fgwEjm5XkMnl"
   },
   "outputs": [],
   "source": [
    "data_loader = data.DataLoader(dataset, batch_size=8, shuffle=True)"
   ]
  },
  {
   "cell_type": "code",
   "execution_count": 42,
   "metadata": {
    "id": "E0SENfLckMnl",
    "outputId": "10e32f00-5f03-4328-f7b3-f1f9f394bd72"
   },
   "outputs": [
    {
     "name": "stdout",
     "output_type": "stream",
     "text": [
      "Data inputs torch.Size([8, 2]) \n",
      " tensor([[ 1.0483,  1.0488],\n",
      "        [ 1.1919, -0.1651],\n",
      "        [-0.0419,  0.1438],\n",
      "        [ 0.9428,  1.1949],\n",
      "        [-0.3102,  0.8541],\n",
      "        [-0.0642,  0.9325],\n",
      "        [ 0.9614,  1.0049],\n",
      "        [ 1.0212,  0.9275]])\n",
      "Data labels torch.Size([8]) \n",
      " tensor([0, 1, 0, 0, 1, 1, 0, 0])\n"
     ]
    }
   ],
   "source": [
    "# next(iter(...)) catches the first batch of the data loader\n",
    "# If shuffle is True, this will return a different batch every time we run this cell\n",
    "# For iterating over the whole dataset, we can simple use \"for batch in data_loader: ...\"\n",
    "data_inputs, data_labels = next(iter(data_loader))\n",
    "\n",
    "# The shape of the outputs are [batch_size, d_1,...,d_N] where d_1,...,d_N are the\n",
    "# dimensions of the data point returned from the dataset class\n",
    "print(\"Data inputs\", data_inputs.shape, \"\\n\", data_inputs)\n",
    "print(\"Data labels\", data_labels.shape, \"\\n\", data_labels)"
   ]
  },
  {
   "cell_type": "markdown",
   "metadata": {
    "id": "1gDU1o_PkMnl"
   },
   "source": [
    "### Optimization\n",
    "\n",
    "After defining the model and the dataset, it is time to prepare the optimization of the model. During training, we will perform the following steps:\n",
    "\n",
    "1. Get a batch from the data loader\n",
    "2. Obtain the predictions from the model for the batch\n",
    "3. Calculate the loss based on the difference between predictions and labels\n",
    "4. Backpropagation: calculate the gradients for every parameter with respect to the loss\n",
    "5. Update the parameters of the model in the direction of the gradients\n",
    "\n",
    "We have seen how we can do step 1, 2 and 4 in PyTorch. Now, we will look at step 3 and 5."
   ]
  },
  {
   "cell_type": "markdown",
   "metadata": {
    "id": "OW0GRjr1kMnl"
   },
   "source": [
    "#### Loss modules\n",
    "\n",
    "We can calculate the loss for a batch by simply performing a few tensor operations as those are automatically added to the computation graph. For instance, for binary classification, we can use Binary Cross Entropy (BCE) which is defined as follows:\n",
    "\n",
    "$$\\mathcal{L}_{BCE} = -\\sum_i \\left[ y_i \\log x_i + (1 - y_i) \\log (1 - x_i) \\right]$$\n",
    "\n",
    "where $y$ are our labels, and $x$ our predictions, both in the range of $[0,1]$. However, PyTorch already provides a list of predefined loss functions which we can use (see [here](https://pytorch.org/docs/stable/nn.html#loss-functions) for a full list). For instance, for BCE, PyTorch has two modules: `nn.BCELoss()`, `nn.BCEWithLogitsLoss()`. While `nn.BCELoss` expects the inputs $x$ to be in the range $[0,1]$, i.e. the output of a sigmoid, `nn.BCEWithLogitsLoss` combines a sigmoid layer and the BCE loss in a single class. This version is numerically more stable than using a plain Sigmoid followed by a BCE loss because of the logarithms applied in the loss function. Hence, it is adviced to use loss functions applied on \"logits\" where possible (remember to not apply a sigmoid on the output of the model in this case!). For our model defined above, we therefore use the module `nn.BCEWithLogitsLoss`."
   ]
  },
  {
   "cell_type": "code",
   "execution_count": 43,
   "metadata": {
    "id": "lZwMPwrHkMnl"
   },
   "outputs": [],
   "source": [
    "loss_module = nn.BCEWithLogitsLoss()"
   ]
  },
  {
   "cell_type": "markdown",
   "metadata": {
    "id": "-scZqq5MkMnl"
   },
   "source": [
    "#### Stochastic Gradient Descent\n",
    "\n",
    "For updating the parameters, PyTorch provides the package `torch.optim` that has most popular optimizers implemented. We will discuss the specific optimizers and their differences later in the course, but will for now use the simplest of them: `torch.optim.SGD`. Stochastic Gradient Descent updates parameters by multiplying the gradients with a small constant, called learning rate, and subtracting those from the parameters (hence minimizing the loss). Therefore, we slowly move towards the direction of minimizing the loss. A good default value of the learning rate for a small network as ours is 0.1."
   ]
  },
  {
   "cell_type": "code",
   "execution_count": 44,
   "metadata": {
    "id": "xUJiSx1KkMnl"
   },
   "outputs": [],
   "source": [
    "# Input to the optimizer are the parameters of the model: model.parameters()\n",
    "optimizer = torch.optim.SGD(model.parameters(), lr=0.1)"
   ]
  },
  {
   "cell_type": "markdown",
   "metadata": {
    "id": "NXBEmK9CkMnl"
   },
   "source": [
    "The optimizer provides two useful functions: `optimizer.step()`, and `optimizer.zero_grad()`. The step function updates the parameters based on the gradients as explained above. The function `optimizer.zero_grad()` sets the gradients of all parameters to zero. While this function seems less relevant at first, it is a crucial pre-step before performing backpropagation. If we call the `backward` function on the loss while the parameter gradients are non-zero from the previous batch, the new gradients would actually be added to the previous ones instead of overwriting them. This is done because a parameter might occur multiple times in a computation graph, and we need to sum the gradients in this case instead of replacing them. Hence, remember to call `optimizer.zero_grad()` before calculating the gradients of a batch."
   ]
  },
  {
   "cell_type": "markdown",
   "metadata": {
    "id": "W6O7qpsukMnl"
   },
   "source": [
    "### Training\n",
    "\n",
    "Finally, we are ready to train our model. As a first step, we create a slightly larger dataset and specify a data loader with a larger batch size."
   ]
  },
  {
   "cell_type": "code",
   "execution_count": 45,
   "metadata": {
    "id": "g1TmTFw_kMnl"
   },
   "outputs": [],
   "source": [
    "train_dataset = XORDataset(size=2500)\n",
    "train_data_loader = data.DataLoader(train_dataset, batch_size=128, shuffle=True)"
   ]
  },
  {
   "cell_type": "markdown",
   "metadata": {
    "id": "Jusq-qQKkMnl"
   },
   "source": [
    "Now, we can write a small training function. Remember our five steps: load a batch, obtain the predictions, calculate the loss, backpropagate, and update. Additionally, we have to push all data and model parameters to the device of our choice (GPU if available). For the tiny neural network we have, communicating the data to the GPU actually takes much more time than we could save from running the operation on CPU. For large networks, the communication time is significantly smaller than the actual runtime making a GPU crucial in these cases. Still, to practice, we will push the data to GPU here."
   ]
  },
  {
   "cell_type": "code",
   "execution_count": 46,
   "metadata": {
    "id": "Rzmm_GWEkMnl",
    "outputId": "cea9642b-e533-4369-a5da-2b7f750212af"
   },
   "outputs": [
    {
     "name": "stdout",
     "output_type": "stream",
     "text": [
      "Device cpu\n"
     ]
    },
    {
     "data": {
      "text/plain": [
       "SimpleClassifier(\n",
       "  (linear1): Linear(in_features=2, out_features=4, bias=True)\n",
       "  (act_fn): Tanh()\n",
       "  (linear2): Linear(in_features=4, out_features=1, bias=True)\n",
       ")"
      ]
     },
     "execution_count": 46,
     "metadata": {},
     "output_type": "execute_result"
    }
   ],
   "source": [
    "# Push model to device. Has to be only done once\n",
    "device = torch.device(\"cuda\") if torch.cuda.is_available() else torch.device(\"cpu\")\n",
    "print(\"Device\", device)\n",
    "model.to(device)"
   ]
  },
  {
   "cell_type": "markdown",
   "metadata": {
    "id": "V0zLQ7gxkMnl"
   },
   "source": [
    "In addition, we set our model to training mode. This is done by calling `model.train()`. There exist certain modules that need to perform a different forward step during training than during testing (e.g. BatchNorm and Dropout), and we can switch between them using `model.train()` and `model.eval()`."
   ]
  },
  {
   "cell_type": "code",
   "execution_count": 47,
   "metadata": {
    "id": "cdfy2R8ekMnl"
   },
   "outputs": [],
   "source": [
    "def train_model(model, optimizer, data_loader, loss_module, num_epochs=100):\n",
    "    # Set model to train mode\n",
    "    model.train()\n",
    "\n",
    "    # Training loop\n",
    "    for epoch in tqdm(range(num_epochs)):\n",
    "        for data_inputs, data_labels in data_loader:\n",
    "\n",
    "            ## Step 1: Move input data to device (only strictly necessary if we use GPU)\n",
    "            data_inputs = data_inputs.to(device)\n",
    "            data_labels = data_labels.to(device)\n",
    "\n",
    "            ## Step 2: Run the model on the input data\n",
    "            preds = model(data_inputs)\n",
    "            preds = preds.squeeze(dim=1) # Output is [Batch size, 1], but we want [Batch size]\n",
    "\n",
    "            ## Step 3: Calculate the loss\n",
    "            loss = loss_module(preds, data_labels.float())\n",
    "\n",
    "            ## Step 4: Perform backpropagation\n",
    "            # Before calculating the gradients, we need to ensure that they are all zero.\n",
    "            # The gradients would not be overwritten, but actually added to the existing ones.\n",
    "            optimizer.zero_grad()\n",
    "            # Perform backpropagation\n",
    "            loss.backward()\n",
    "\n",
    "            ## Step 5: Update the parameters\n",
    "            optimizer.step()"
   ]
  },
  {
   "cell_type": "code",
   "execution_count": 48,
   "metadata": {
    "colab": {
     "referenced_widgets": [
      "eb0f1646f5f4459c86c22f0845150144"
     ]
    },
    "id": "Dxb8hU4jkMnl",
    "outputId": "d2b73c39-0c74-4d6b-f2fb-aff845a3affd"
   },
   "outputs": [
    {
     "name": "stderr",
     "output_type": "stream",
     "text": [
      "100%|█████████████████████████████████████████████████████████████████████████████████████████████████████████████████████████| 100/100 [00:01<00:00, 82.52it/s]\n"
     ]
    }
   ],
   "source": [
    "train_model(model, optimizer, train_data_loader, loss_module)"
   ]
  },
  {
   "cell_type": "markdown",
   "metadata": {
    "id": "HH41ZASHkMnm"
   },
   "source": [
    "### Evaluation\n",
    "\n",
    "Once we have trained a model, it is time to evaluate it on a held-out test set. As our dataset consist of randomly generated data points, we need to first create a test set with a corresponding data loader."
   ]
  },
  {
   "cell_type": "code",
   "execution_count": 49,
   "metadata": {
    "id": "UMdoTJBwkMnm"
   },
   "outputs": [],
   "source": [
    "test_dataset = XORDataset(size=500)\n",
    "# drop_last -> Don't drop the last batch although it is smaller than 128\n",
    "test_data_loader = data.DataLoader(test_dataset, batch_size=128, shuffle=False, drop_last=False)"
   ]
  },
  {
   "cell_type": "markdown",
   "metadata": {
    "id": "3TpU1a2fkMnm"
   },
   "source": [
    "As metric, we will use accuracy which is calculated as follows:\n",
    "\n",
    "$$acc = \\frac{\\#\\text{correct predictions}}{\\#\\text{all predictions}} = \\frac{TP+TN}{TP+TN+FP+FN}$$\n",
    "\n",
    "where TP are the true positives, TN true negatives, FP false positives, and FN the fale negatives.\n",
    "\n",
    "When evaluating the model, we don't need to keep track of the computation graph as we don't intend to calculate the gradients. This reduces the required memory and speed up the model. In PyTorch, we can deactivate the computation graph using `with torch.no_grad(): ...`. Remember to additionally set the model to eval mode."
   ]
  },
  {
   "cell_type": "code",
   "execution_count": 50,
   "metadata": {
    "id": "OUq-RaofkMnm"
   },
   "outputs": [],
   "source": [
    "def eval_model(model, data_loader):\n",
    "    model.eval() # Set model to eval mode\n",
    "    true_preds, num_preds = 0., 0.\n",
    "\n",
    "    with torch.no_grad(): # Deactivate gradients for the following code\n",
    "        for data_inputs, data_labels in data_loader:\n",
    "\n",
    "            # Determine prediction of model on dev set\n",
    "            data_inputs, data_labels = data_inputs.to(device), data_labels.to(device)\n",
    "            preds = model(data_inputs)\n",
    "            preds = preds.squeeze(dim=1)\n",
    "            preds = torch.sigmoid(preds) # Sigmoid to map predictions between 0 and 1\n",
    "            pred_labels = (preds >= 0.5).long() # Binarize predictions to 0 and 1\n",
    "\n",
    "            # Keep records of predictions for the accuracy metric (true_preds=TP+TN, num_preds=TP+TN+FP+FN)\n",
    "            true_preds += (pred_labels == data_labels).sum()\n",
    "            num_preds += data_labels.shape[0]\n",
    "\n",
    "    acc = true_preds / num_preds\n",
    "    print(f\"Accuracy of the model: {100.0*acc:4.2f}%\")"
   ]
  },
  {
   "cell_type": "code",
   "execution_count": 51,
   "metadata": {
    "id": "1Tl0N2nNkMnm",
    "outputId": "9bbb6206-4c9f-4c46-ffae-fad8d709e09e"
   },
   "outputs": [
    {
     "name": "stdout",
     "output_type": "stream",
     "text": [
      "Accuracy of the model: 100.00%\n"
     ]
    }
   ],
   "source": [
    "eval_model(model, test_data_loader)"
   ]
  },
  {
   "cell_type": "markdown",
   "metadata": {
    "id": "P7NGgkfskMnm"
   },
   "source": [
    "If we trained our model correctly, we should see a score close to 100% accuracy. However, this is only possible because of our simple task, and unfortunately, we usually don't get such high scores on test sets of more complex tasks."
   ]
  },
  {
   "cell_type": "markdown",
   "metadata": {
    "id": "g3A55CfRkMnm"
   },
   "source": [
    "#### Visualizing classification boundaries\n",
    "\n",
    "To visualize what our model has learned, we can perform a prediction for every data point in a range of $[-0.5, 1.5]$, and visualize the predicted class as in the sample figure at the beginning of this section. This shows where the model has created decision boundaries, and which points would be classified as $0$, and which as $1$. We therefore get a background image out of blue (class 0) and orange (class 1). The spots where the model is uncertain we will see a blurry overlap. The specific code is less relevant compared to the output figure which should hopefully show us a clear separation of classes:"
   ]
  },
  {
   "cell_type": "code",
   "execution_count": 52,
   "metadata": {
    "id": "YvpLabjWkMnm",
    "outputId": "fe55361c-7db8-46ce-ac05-d97c84576c99"
   },
   "outputs": [
    {
     "data": {
      "application/pdf": "[encoded data removed]",
      "image/svg+xml": [
       "<?xml version=\"1.0\" encoding=\"utf-8\" standalone=\"no\"?>\n",
       "<!DOCTYPE svg PUBLIC \"-//W3C//DTD SVG 1.1//EN\"\n",
       "  \"http://www.w3.org/Graphics/SVG/1.1/DTD/svg11.dtd\">\n",
       "<svg xmlns:xlink=\"http://www.w3.org/1999/xlink\" width=\"296.111094pt\" height=\"285.283594pt\" viewBox=\"0 0 296.111094 285.283594\" xmlns=\"http://www.w3.org/2000/svg\" version=\"1.1\">\n",
       " <metadata>\n",
       "  <rdf:RDF xmlns:dc=\"http://purl.org/dc/elements/1.1/\" xmlns:cc=\"http://creativecommons.org/ns#\" xmlns:rdf=\"http://www.w3.org/1999/02/22-rdf-syntax-ns#\">\n",
       "   <cc:Work>\n",
       "    <dc:type rdf:resource=\"http://purl.org/dc/dcmitype/StillImage\"/>\n",
       "    <dc:date>2025-10-16T06:39:51.696995</dc:date>\n",
       "    <dc:format>image/svg+xml</dc:format>\n",
       "    <dc:creator>\n",
       "     <cc:Agent>\n",
       "      <dc:title>Matplotlib v3.9.2, https://matplotlib.org/</dc:title>\n",
       "     </cc:Agent>\n",
       "    </dc:creator>\n",
       "   </cc:Work>\n",
       "  </rdf:RDF>\n",
       " </metadata>\n",
       " <defs>\n",
       "  <style type=\"text/css\">*{stroke-linejoin: round; stroke-linecap: butt}</style>\n",
       " </defs>\n",
       " <g id=\"figure_1\">\n",
       "  <g id=\"patch_1\">\n",
       "   <path d=\"M 0 285.283594 \n",
       "L 296.111094 285.283594 \n",
       "L 296.111094 0 \n",
       "L 0 0 \n",
       "z\n",
       "\" style=\"fill: #ffffff\"/>\n",
       "  </g>\n",
       "  <g id=\"axes_1\">\n",
       "   <g id=\"patch_2\">\n",
       "    <path d=\"M 59.506094 243.549375 \n",
       "L 281.266094 243.549375 \n",
       "L 281.266094 21.789375 \n",
       "L 59.506094 21.789375 \n",
       "z\n",
       "\" style=\"fill: #eaeaf2\"/>\n",
       "   </g>\n",
       "   <g clip-path=\"url(#pc152bcd043)\">\n",
       "    <image xlink:href=\"data:image/png;base64,\n",
       "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\" id=\"image2f7788274a\" transform=\"scale(1 -1) translate(0 -221.904)\" x=\"59.506094\" y=\"-21.645375\" width=\"221.904\" height=\"221.904\"/>\n",
       "   </g>\n",
       "   <g id=\"matplotlib.axis_1\">\n",
       "    <g id=\"xtick_1\">\n",
       "     <g id=\"text_1\">\n",
       "      <!-- −0.5 -->\n",
       "      <g style=\"fill: #262626\" transform=\"translate(48.64875 260.922969) scale(0.11 -0.11)\">\n",
       "       <defs>\n",
       "        <path id=\"ArialMT-2212\" d=\"M 3381 1997 \n",
       "L 356 1997 \n",
       "L 356 2522 \n",
       "L 3381 2522 \n",
       "L 3381 1997 \n",
       "z\n",
       "\" transform=\"scale(0.015625)\"/>\n",
       "        <path id=\"ArialMT-30\" d=\"M 266 2259 \n",
       "Q 266 3072 433 3567 \n",
       "Q 600 4063 929 4331 \n",
       "Q 1259 4600 1759 4600 \n",
       "Q 2128 4600 2406 4451 \n",
       "Q 2684 4303 2865 4023 \n",
       "Q 3047 3744 3150 3342 \n",
       "Q 3253 2941 3253 2259 \n",
       "Q 3253 1453 3087 958 \n",
       "Q 2922 463 2592 192 \n",
       "Q 2263 -78 1759 -78 \n",
       "Q 1097 -78 719 397 \n",
       "Q 266 969 266 2259 \n",
       "z\n",
       "M 844 2259 \n",
       "Q 844 1131 1108 757 \n",
       "Q 1372 384 1759 384 \n",
       "Q 2147 384 2411 759 \n",
       "Q 2675 1134 2675 2259 \n",
       "Q 2675 3391 2411 3762 \n",
       "Q 2147 4134 1753 4134 \n",
       "Q 1366 4134 1134 3806 \n",
       "Q 844 3388 844 2259 \n",
       "z\n",
       "\" transform=\"scale(0.015625)\"/>\n",
       "        <path id=\"ArialMT-2e\" d=\"M 581 0 \n",
       "L 581 641 \n",
       "L 1222 641 \n",
       "L 1222 0 \n",
       "L 581 0 \n",
       "z\n",
       "\" transform=\"scale(0.015625)\"/>\n",
       "        <path id=\"ArialMT-35\" d=\"M 266 1200 \n",
       "L 856 1250 \n",
       "Q 922 819 1161 601 \n",
       "Q 1400 384 1738 384 \n",
       "Q 2144 384 2425 690 \n",
       "Q 2706 997 2706 1503 \n",
       "Q 2706 1984 2436 2262 \n",
       "Q 2166 2541 1728 2541 \n",
       "Q 1456 2541 1237 2417 \n",
       "Q 1019 2294 894 2097 \n",
       "L 366 2166 \n",
       "L 809 4519 \n",
       "L 3088 4519 \n",
       "L 3088 3981 \n",
       "L 1259 3981 \n",
       "L 1013 2750 \n",
       "Q 1425 3038 1878 3038 \n",
       "Q 2478 3038 2890 2622 \n",
       "Q 3303 2206 3303 1553 \n",
       "Q 3303 931 2941 478 \n",
       "Q 2500 -78 1738 -78 \n",
       "Q 1113 -78 717 272 \n",
       "Q 322 622 266 1200 \n",
       "z\n",
       "\" transform=\"scale(0.015625)\"/>\n",
       "       </defs>\n",
       "       <use xlink:href=\"#ArialMT-2212\"/>\n",
       "       <use xlink:href=\"#ArialMT-30\" x=\"58.398438\"/>\n",
       "       <use xlink:href=\"#ArialMT-2e\" x=\"114.013672\"/>\n",
       "       <use xlink:href=\"#ArialMT-35\" x=\"141.796875\"/>\n",
       "      </g>\n",
       "     </g>\n",
       "    </g>\n",
       "    <g id=\"xtick_2\">\n",
       "     <g id=\"text_2\">\n",
       "      <!-- 0.0 -->\n",
       "      <g style=\"fill: #262626\" transform=\"translate(107.301094 260.922969) scale(0.11 -0.11)\">\n",
       "       <use xlink:href=\"#ArialMT-30\"/>\n",
       "       <use xlink:href=\"#ArialMT-2e\" x=\"55.615234\"/>\n",
       "       <use xlink:href=\"#ArialMT-30\" x=\"83.398438\"/>\n",
       "      </g>\n",
       "     </g>\n",
       "    </g>\n",
       "    <g id=\"xtick_3\">\n",
       "     <g id=\"text_3\">\n",
       "      <!-- 0.5 -->\n",
       "      <g style=\"fill: #262626\" transform=\"translate(162.741094 260.922969) scale(0.11 -0.11)\">\n",
       "       <use xlink:href=\"#ArialMT-30\"/>\n",
       "       <use xlink:href=\"#ArialMT-2e\" x=\"55.615234\"/>\n",
       "       <use xlink:href=\"#ArialMT-35\" x=\"83.398438\"/>\n",
       "      </g>\n",
       "     </g>\n",
       "    </g>\n",
       "    <g id=\"xtick_4\">\n",
       "     <g id=\"text_4\">\n",
       "      <!-- 1.0 -->\n",
       "      <g style=\"fill: #262626\" transform=\"translate(218.181094 260.922969) scale(0.11 -0.11)\">\n",
       "       <defs>\n",
       "        <path id=\"ArialMT-31\" d=\"M 2384 0 \n",
       "L 1822 0 \n",
       "L 1822 3584 \n",
       "Q 1619 3391 1289 3197 \n",
       "Q 959 3003 697 2906 \n",
       "L 697 3450 \n",
       "Q 1169 3672 1522 3987 \n",
       "Q 1875 4303 2022 4600 \n",
       "L 2384 4600 \n",
       "L 2384 0 \n",
       "z\n",
       "\" transform=\"scale(0.015625)\"/>\n",
       "       </defs>\n",
       "       <use xlink:href=\"#ArialMT-31\"/>\n",
       "       <use xlink:href=\"#ArialMT-2e\" x=\"55.615234\"/>\n",
       "       <use xlink:href=\"#ArialMT-30\" x=\"83.398438\"/>\n",
       "      </g>\n",
       "     </g>\n",
       "    </g>\n",
       "    <g id=\"xtick_5\">\n",
       "     <g id=\"text_5\">\n",
       "      <!-- 1.5 -->\n",
       "      <g style=\"fill: #262626\" transform=\"translate(273.621094 260.922969) scale(0.11 -0.11)\">\n",
       "       <use xlink:href=\"#ArialMT-31\"/>\n",
       "       <use xlink:href=\"#ArialMT-2e\" x=\"55.615234\"/>\n",
       "       <use xlink:href=\"#ArialMT-35\" x=\"83.398438\"/>\n",
       "      </g>\n",
       "     </g>\n",
       "    </g>\n",
       "    <g id=\"text_6\">\n",
       "     <!-- $x_1$ -->\n",
       "     <g style=\"fill: #262626\" transform=\"translate(163.966094 275.698594) scale(0.12 -0.12)\">\n",
       "      <defs>\n",
       "       <path id=\"DejaVuSans-Oblique-78\" d=\"M 3841 3500 \n",
       "L 2234 1784 \n",
       "L 3219 0 \n",
       "L 2559 0 \n",
       "L 1819 1388 \n",
       "L 531 0 \n",
       "L -166 0 \n",
       "L 1556 1844 \n",
       "L 641 3500 \n",
       "L 1300 3500 \n",
       "L 1972 2234 \n",
       "L 3144 3500 \n",
       "L 3841 3500 \n",
       "z\n",
       "\" transform=\"scale(0.015625)\"/>\n",
       "       <path id=\"DejaVuSans-31\" d=\"M 794 531 \n",
       "L 1825 531 \n",
       "L 1825 4091 \n",
       "L 703 3866 \n",
       "L 703 4441 \n",
       "L 1819 4666 \n",
       "L 2450 4666 \n",
       "L 2450 531 \n",
       "L 3481 531 \n",
       "L 3481 0 \n",
       "L 794 0 \n",
       "L 794 531 \n",
       "z\n",
       "\" transform=\"scale(0.015625)\"/>\n",
       "      </defs>\n",
       "      <use xlink:href=\"#DejaVuSans-Oblique-78\" transform=\"translate(0 0.3125)\"/>\n",
       "      <use xlink:href=\"#DejaVuSans-31\" transform=\"translate(59.179688 -16.09375) scale(0.7)\"/>\n",
       "     </g>\n",
       "    </g>\n",
       "   </g>\n",
       "   <g id=\"matplotlib.axis_2\">\n",
       "    <g id=\"ytick_1\">\n",
       "     <g id=\"text_7\">\n",
       "      <!-- −0.50 -->\n",
       "      <g style=\"fill: #262626\" transform=\"translate(22.174375 247.486172) scale(0.11 -0.11)\">\n",
       "       <use xlink:href=\"#ArialMT-2212\"/>\n",
       "       <use xlink:href=\"#ArialMT-30\" x=\"58.398438\"/>\n",
       "       <use xlink:href=\"#ArialMT-2e\" x=\"114.013672\"/>\n",
       "       <use xlink:href=\"#ArialMT-35\" x=\"141.796875\"/>\n",
       "       <use xlink:href=\"#ArialMT-30\" x=\"197.412109\"/>\n",
       "      </g>\n",
       "     </g>\n",
       "    </g>\n",
       "    <g id=\"ytick_2\">\n",
       "     <g id=\"text_8\">\n",
       "      <!-- −0.25 -->\n",
       "      <g style=\"fill: #262626\" transform=\"translate(22.174375 219.766172) scale(0.11 -0.11)\">\n",
       "       <defs>\n",
       "        <path id=\"ArialMT-32\" d=\"M 3222 541 \n",
       "L 3222 0 \n",
       "L 194 0 \n",
       "Q 188 203 259 391 \n",
       "Q 375 700 629 1000 \n",
       "Q 884 1300 1366 1694 \n",
       "Q 2113 2306 2375 2664 \n",
       "Q 2638 3022 2638 3341 \n",
       "Q 2638 3675 2398 3904 \n",
       "Q 2159 4134 1775 4134 \n",
       "Q 1369 4134 1125 3890 \n",
       "Q 881 3647 878 3216 \n",
       "L 300 3275 \n",
       "Q 359 3922 746 4261 \n",
       "Q 1134 4600 1788 4600 \n",
       "Q 2447 4600 2831 4234 \n",
       "Q 3216 3869 3216 3328 \n",
       "Q 3216 3053 3103 2787 \n",
       "Q 2991 2522 2730 2228 \n",
       "Q 2469 1934 1863 1422 \n",
       "Q 1356 997 1212 845 \n",
       "Q 1069 694 975 541 \n",
       "L 3222 541 \n",
       "z\n",
       "\" transform=\"scale(0.015625)\"/>\n",
       "       </defs>\n",
       "       <use xlink:href=\"#ArialMT-2212\"/>\n",
       "       <use xlink:href=\"#ArialMT-30\" x=\"58.398438\"/>\n",
       "       <use xlink:href=\"#ArialMT-2e\" x=\"114.013672\"/>\n",
       "       <use xlink:href=\"#ArialMT-32\" x=\"141.796875\"/>\n",
       "       <use xlink:href=\"#ArialMT-35\" x=\"197.412109\"/>\n",
       "      </g>\n",
       "     </g>\n",
       "    </g>\n",
       "    <g id=\"ytick_3\">\n",
       "     <g id=\"text_9\">\n",
       "      <!-- 0.00 -->\n",
       "      <g style=\"fill: #262626\" transform=\"translate(28.599062 192.046172) scale(0.11 -0.11)\">\n",
       "       <use xlink:href=\"#ArialMT-30\"/>\n",
       "       <use xlink:href=\"#ArialMT-2e\" x=\"55.615234\"/>\n",
       "       <use xlink:href=\"#ArialMT-30\" x=\"83.398438\"/>\n",
       "       <use xlink:href=\"#ArialMT-30\" x=\"139.013672\"/>\n",
       "      </g>\n",
       "     </g>\n",
       "    </g>\n",
       "    <g id=\"ytick_4\">\n",
       "     <g id=\"text_10\">\n",
       "      <!-- 0.25 -->\n",
       "      <g style=\"fill: #262626\" transform=\"translate(28.599062 164.326172) scale(0.11 -0.11)\">\n",
       "       <use xlink:href=\"#ArialMT-30\"/>\n",
       "       <use xlink:href=\"#ArialMT-2e\" x=\"55.615234\"/>\n",
       "       <use xlink:href=\"#ArialMT-32\" x=\"83.398438\"/>\n",
       "       <use xlink:href=\"#ArialMT-35\" x=\"139.013672\"/>\n",
       "      </g>\n",
       "     </g>\n",
       "    </g>\n",
       "    <g id=\"ytick_5\">\n",
       "     <g id=\"text_11\">\n",
       "      <!-- 0.50 -->\n",
       "      <g style=\"fill: #262626\" transform=\"translate(28.599062 136.606172) scale(0.11 -0.11)\">\n",
       "       <use xlink:href=\"#ArialMT-30\"/>\n",
       "       <use xlink:href=\"#ArialMT-2e\" x=\"55.615234\"/>\n",
       "       <use xlink:href=\"#ArialMT-35\" x=\"83.398438\"/>\n",
       "       <use xlink:href=\"#ArialMT-30\" x=\"139.013672\"/>\n",
       "      </g>\n",
       "     </g>\n",
       "    </g>\n",
       "    <g id=\"ytick_6\">\n",
       "     <g id=\"text_12\">\n",
       "      <!-- 0.75 -->\n",
       "      <g style=\"fill: #262626\" transform=\"translate(28.599062 108.886172) scale(0.11 -0.11)\">\n",
       "       <defs>\n",
       "        <path id=\"ArialMT-37\" d=\"M 303 3981 \n",
       "L 303 4522 \n",
       "L 3269 4522 \n",
       "L 3269 4084 \n",
       "Q 2831 3619 2401 2847 \n",
       "Q 1972 2075 1738 1259 \n",
       "Q 1569 684 1522 0 \n",
       "L 944 0 \n",
       "Q 953 541 1156 1306 \n",
       "Q 1359 2072 1739 2783 \n",
       "Q 2119 3494 2547 3981 \n",
       "L 303 3981 \n",
       "z\n",
       "\" transform=\"scale(0.015625)\"/>\n",
       "       </defs>\n",
       "       <use xlink:href=\"#ArialMT-30\"/>\n",
       "       <use xlink:href=\"#ArialMT-2e\" x=\"55.615234\"/>\n",
       "       <use xlink:href=\"#ArialMT-37\" x=\"83.398438\"/>\n",
       "       <use xlink:href=\"#ArialMT-35\" x=\"139.013672\"/>\n",
       "      </g>\n",
       "     </g>\n",
       "    </g>\n",
       "    <g id=\"ytick_7\">\n",
       "     <g id=\"text_13\">\n",
       "      <!-- 1.00 -->\n",
       "      <g style=\"fill: #262626\" transform=\"translate(28.599062 81.166172) scale(0.11 -0.11)\">\n",
       "       <use xlink:href=\"#ArialMT-31\"/>\n",
       "       <use xlink:href=\"#ArialMT-2e\" x=\"55.615234\"/>\n",
       "       <use xlink:href=\"#ArialMT-30\" x=\"83.398438\"/>\n",
       "       <use xlink:href=\"#ArialMT-30\" x=\"139.013672\"/>\n",
       "      </g>\n",
       "     </g>\n",
       "    </g>\n",
       "    <g id=\"ytick_8\">\n",
       "     <g id=\"text_14\">\n",
       "      <!-- 1.25 -->\n",
       "      <g style=\"fill: #262626\" transform=\"translate(28.599062 53.446172) scale(0.11 -0.11)\">\n",
       "       <use xlink:href=\"#ArialMT-31\"/>\n",
       "       <use xlink:href=\"#ArialMT-2e\" x=\"55.615234\"/>\n",
       "       <use xlink:href=\"#ArialMT-32\" x=\"83.398438\"/>\n",
       "       <use xlink:href=\"#ArialMT-35\" x=\"139.013672\"/>\n",
       "      </g>\n",
       "     </g>\n",
       "    </g>\n",
       "    <g id=\"ytick_9\">\n",
       "     <g id=\"text_15\">\n",
       "      <!-- 1.50 -->\n",
       "      <g style=\"fill: #262626\" transform=\"translate(28.599062 25.726172) scale(0.11 -0.11)\">\n",
       "       <use xlink:href=\"#ArialMT-31\"/>\n",
       "       <use xlink:href=\"#ArialMT-2e\" x=\"55.615234\"/>\n",
       "       <use xlink:href=\"#ArialMT-35\" x=\"83.398438\"/>\n",
       "       <use xlink:href=\"#ArialMT-30\" x=\"139.013672\"/>\n",
       "      </g>\n",
       "     </g>\n",
       "    </g>\n",
       "    <g id=\"text_16\">\n",
       "     <!-- $x_2$ -->\n",
       "     <g style=\"fill: #262626\" transform=\"translate(15.789375 139.089375) rotate(-90) scale(0.12 -0.12)\">\n",
       "      <defs>\n",
       "       <path id=\"DejaVuSans-32\" d=\"M 1228 531 \n",
       "L 3431 531 \n",
       "L 3431 0 \n",
       "L 469 0 \n",
       "L 469 531 \n",
       "Q 828 903 1448 1529 \n",
       "Q 2069 2156 2228 2338 \n",
       "Q 2531 2678 2651 2914 \n",
       "Q 2772 3150 2772 3378 \n",
       "Q 2772 3750 2511 3984 \n",
       "Q 2250 4219 1831 4219 \n",
       "Q 1534 4219 1204 4116 \n",
       "Q 875 4013 500 3803 \n",
       "L 500 4441 \n",
       "Q 881 4594 1212 4672 \n",
       "Q 1544 4750 1819 4750 \n",
       "Q 2544 4750 2975 4387 \n",
       "Q 3406 4025 3406 3419 \n",
       "Q 3406 3131 3298 2873 \n",
       "Q 3191 2616 2906 2266 \n",
       "Q 2828 2175 2409 1742 \n",
       "Q 1991 1309 1228 531 \n",
       "z\n",
       "\" transform=\"scale(0.015625)\"/>\n",
       "      </defs>\n",
       "      <use xlink:href=\"#DejaVuSans-Oblique-78\" transform=\"translate(0 0.3125)\"/>\n",
       "      <use xlink:href=\"#DejaVuSans-32\" transform=\"translate(59.179688 -16.09375) scale(0.7)\"/>\n",
       "     </g>\n",
       "    </g>\n",
       "   </g>\n",
       "   <g id=\"PathCollection_1\">\n",
       "    <defs>\n",
       "     <path id=\"m27adb2b6ec\" d=\"M 0 3 \n",
       "C 0.795609 3 1.55874 2.683901 2.12132 2.12132 \n",
       "C 2.683901 1.55874 3 0.795609 3 0 \n",
       "C 3 -0.795609 2.683901 -1.55874 2.12132 -2.12132 \n",
       "C 1.55874 -2.683901 0.795609 -3 0 -3 \n",
       "C -0.795609 -3 -1.55874 -2.683901 -2.12132 -2.12132 \n",
       "C -2.683901 -1.55874 -3 -0.795609 -3 0 \n",
       "C -3 0.795609 -2.683901 1.55874 -2.12132 2.12132 \n",
       "C -1.55874 2.683901 -0.795609 3 0 3 \n",
       "z\n",
       "\" style=\"stroke: #333333\"/>\n",
       "    </defs>\n",
       "    <g clip-path=\"url(#pc152bcd043)\">\n",
       "     <use xlink:href=\"#m27adb2b6ec\" x=\"218.245303\" y=\"76.497089\" style=\"fill: #4c72b0; stroke: #333333\"/>\n",
       "     <use xlink:href=\"#m27adb2b6ec\" x=\"239.086872\" y=\"91.712005\" style=\"fill: #4c72b0; stroke: #333333\"/>\n",
       "     <use xlink:href=\"#m27adb2b6ec\" x=\"217.8714\" y=\"45.806333\" style=\"fill: #4c72b0; stroke: #333333\"/>\n",
       "     <use xlink:href=\"#m27adb2b6ec\" x=\"225.017044\" y=\"83.3051\" style=\"fill: #4c72b0; stroke: #333333\"/>\n",
       "     <use xlink:href=\"#m27adb2b6ec\" x=\"213.157465\" y=\"82.205138\" style=\"fill: #4c72b0; stroke: #333333\"/>\n",
       "     <use xlink:href=\"#m27adb2b6ec\" x=\"225.488415\" y=\"72.982323\" style=\"fill: #4c72b0; stroke: #333333\"/>\n",
       "     <use xlink:href=\"#m27adb2b6ec\" x=\"225.329688\" y=\"102.86432\" style=\"fill: #4c72b0; stroke: #333333\"/>\n",
       "     <use xlink:href=\"#m27adb2b6ec\" x=\"222.15122\" y=\"70.027667\" style=\"fill: #4c72b0; stroke: #333333\"/>\n",
       "     <use xlink:href=\"#m27adb2b6ec\" x=\"115.998994\" y=\"196.454063\" style=\"fill: #4c72b0; stroke: #333333\"/>\n",
       "     <use xlink:href=\"#m27adb2b6ec\" x=\"218.649612\" y=\"91.447092\" style=\"fill: #4c72b0; stroke: #333333\"/>\n",
       "     <use xlink:href=\"#m27adb2b6ec\" x=\"247.617259\" y=\"90.275276\" style=\"fill: #4c72b0; stroke: #333333\"/>\n",
       "     <use xlink:href=\"#m27adb2b6ec\" x=\"197.36548\" y=\"69.361193\" style=\"fill: #4c72b0; stroke: #333333\"/>\n",
       "     <use xlink:href=\"#m27adb2b6ec\" x=\"234.916511\" y=\"70.338778\" style=\"fill: #4c72b0; stroke: #333333\"/>\n",
       "     <use xlink:href=\"#m27adb2b6ec\" x=\"228.180127\" y=\"85.270408\" style=\"fill: #4c72b0; stroke: #333333\"/>\n",
       "     <use xlink:href=\"#m27adb2b6ec\" x=\"110.658799\" y=\"207.9644\" style=\"fill: #4c72b0; stroke: #333333\"/>\n",
       "     <use xlink:href=\"#m27adb2b6ec\" x=\"226.860529\" y=\"98.465744\" style=\"fill: #4c72b0; stroke: #333333\"/>\n",
       "     <use xlink:href=\"#m27adb2b6ec\" x=\"211.497836\" y=\"68.733262\" style=\"fill: #4c72b0; stroke: #333333\"/>\n",
       "     <use xlink:href=\"#m27adb2b6ec\" x=\"122.102291\" y=\"184.191806\" style=\"fill: #4c72b0; stroke: #333333\"/>\n",
       "     <use xlink:href=\"#m27adb2b6ec\" x=\"85.590746\" y=\"204.270542\" style=\"fill: #4c72b0; stroke: #333333\"/>\n",
       "     <use xlink:href=\"#m27adb2b6ec\" x=\"104.177007\" y=\"185.431615\" style=\"fill: #4c72b0; stroke: #333333\"/>\n",
       "     <use xlink:href=\"#m27adb2b6ec\" x=\"112.960689\" y=\"174.811708\" style=\"fill: #4c72b0; stroke: #333333\"/>\n",
       "     <use xlink:href=\"#m27adb2b6ec\" x=\"219.088534\" y=\"77.731233\" style=\"fill: #4c72b0; stroke: #333333\"/>\n",
       "     <use xlink:href=\"#m27adb2b6ec\" x=\"113.556188\" y=\"203.253528\" style=\"fill: #4c72b0; stroke: #333333\"/>\n",
       "     <use xlink:href=\"#m27adb2b6ec\" x=\"127.273136\" y=\"195.014944\" style=\"fill: #4c72b0; stroke: #333333\"/>\n",
       "     <use xlink:href=\"#m27adb2b6ec\" x=\"133.167167\" y=\"182.38508\" style=\"fill: #4c72b0; stroke: #333333\"/>\n",
       "     <use xlink:href=\"#m27adb2b6ec\" x=\"101.051701\" y=\"175.703348\" style=\"fill: #4c72b0; stroke: #333333\"/>\n",
       "     <use xlink:href=\"#m27adb2b6ec\" x=\"230.042824\" y=\"75.023078\" style=\"fill: #4c72b0; stroke: #333333\"/>\n",
       "     <use xlink:href=\"#m27adb2b6ec\" x=\"109.955643\" y=\"190.037261\" style=\"fill: #4c72b0; stroke: #333333\"/>\n",
       "     <use xlink:href=\"#m27adb2b6ec\" x=\"233.037028\" y=\"64.298133\" style=\"fill: #4c72b0; stroke: #333333\"/>\n",
       "     <use xlink:href=\"#m27adb2b6ec\" x=\"115.13388\" y=\"182.204052\" style=\"fill: #4c72b0; stroke: #333333\"/>\n",
       "     <use xlink:href=\"#m27adb2b6ec\" x=\"219.134096\" y=\"79.161565\" style=\"fill: #4c72b0; stroke: #333333\"/>\n",
       "     <use xlink:href=\"#m27adb2b6ec\" x=\"102.517545\" y=\"185.940111\" style=\"fill: #4c72b0; stroke: #333333\"/>\n",
       "     <use xlink:href=\"#m27adb2b6ec\" x=\"106.280621\" y=\"207.955554\" style=\"fill: #4c72b0; stroke: #333333\"/>\n",
       "     <use xlink:href=\"#m27adb2b6ec\" x=\"139.171484\" y=\"177.274718\" style=\"fill: #4c72b0; stroke: #333333\"/>\n",
       "     <use xlink:href=\"#m27adb2b6ec\" x=\"115.321919\" y=\"191.572087\" style=\"fill: #4c72b0; stroke: #333333\"/>\n",
       "     <use xlink:href=\"#m27adb2b6ec\" x=\"104.365809\" y=\"178.14427\" style=\"fill: #4c72b0; stroke: #333333\"/>\n",
       "     <use xlink:href=\"#m27adb2b6ec\" x=\"115.891468\" y=\"179.814162\" style=\"fill: #4c72b0; stroke: #333333\"/>\n",
       "     <use xlink:href=\"#m27adb2b6ec\" x=\"224.012522\" y=\"87.30345\" style=\"fill: #4c72b0; stroke: #333333\"/>\n",
       "     <use xlink:href=\"#m27adb2b6ec\" x=\"102.601155\" y=\"182.279314\" style=\"fill: #4c72b0; stroke: #333333\"/>\n",
       "     <use xlink:href=\"#m27adb2b6ec\" x=\"232.776251\" y=\"82.746901\" style=\"fill: #4c72b0; stroke: #333333\"/>\n",
       "     <use xlink:href=\"#m27adb2b6ec\" x=\"140.73574\" y=\"198.31467\" style=\"fill: #4c72b0; stroke: #333333\"/>\n",
       "     <use xlink:href=\"#m27adb2b6ec\" x=\"122.331976\" y=\"192.991032\" style=\"fill: #4c72b0; stroke: #333333\"/>\n",
       "     <use xlink:href=\"#m27adb2b6ec\" x=\"89.244592\" y=\"173.755041\" style=\"fill: #4c72b0; stroke: #333333\"/>\n",
       "     <use xlink:href=\"#m27adb2b6ec\" x=\"114.074696\" y=\"183.329939\" style=\"fill: #4c72b0; stroke: #333333\"/>\n",
       "     <use xlink:href=\"#m27adb2b6ec\" x=\"238.901306\" y=\"76.308852\" style=\"fill: #4c72b0; stroke: #333333\"/>\n",
       "     <use xlink:href=\"#m27adb2b6ec\" x=\"219.410179\" y=\"90.866845\" style=\"fill: #4c72b0; stroke: #333333\"/>\n",
       "     <use xlink:href=\"#m27adb2b6ec\" x=\"221.513679\" y=\"68.219151\" style=\"fill: #4c72b0; stroke: #333333\"/>\n",
       "     <use xlink:href=\"#m27adb2b6ec\" x=\"242.437233\" y=\"76.742651\" style=\"fill: #4c72b0; stroke: #333333\"/>\n",
       "     <use xlink:href=\"#m27adb2b6ec\" x=\"231.442153\" y=\"87.405532\" style=\"fill: #4c72b0; stroke: #333333\"/>\n",
       "     <use xlink:href=\"#m27adb2b6ec\" x=\"118.692115\" y=\"186.722753\" style=\"fill: #4c72b0; stroke: #333333\"/>\n",
       "     <use xlink:href=\"#m27adb2b6ec\" x=\"123.546028\" y=\"198.573554\" style=\"fill: #4c72b0; stroke: #333333\"/>\n",
       "     <use xlink:href=\"#m27adb2b6ec\" x=\"113.209254\" y=\"197.765308\" style=\"fill: #4c72b0; stroke: #333333\"/>\n",
       "     <use xlink:href=\"#m27adb2b6ec\" x=\"107.837607\" y=\"182.150919\" style=\"fill: #4c72b0; stroke: #333333\"/>\n",
       "     <use xlink:href=\"#m27adb2b6ec\" x=\"218.172736\" y=\"79.779133\" style=\"fill: #4c72b0; stroke: #333333\"/>\n",
       "     <use xlink:href=\"#m27adb2b6ec\" x=\"90.859809\" y=\"187.137143\" style=\"fill: #4c72b0; stroke: #333333\"/>\n",
       "     <use xlink:href=\"#m27adb2b6ec\" x=\"111.634737\" y=\"171.263358\" style=\"fill: #4c72b0; stroke: #333333\"/>\n",
       "     <use xlink:href=\"#m27adb2b6ec\" x=\"224.800753\" y=\"88.502039\" style=\"fill: #4c72b0; stroke: #333333\"/>\n",
       "     <use xlink:href=\"#m27adb2b6ec\" x=\"207.328558\" y=\"77.450775\" style=\"fill: #4c72b0; stroke: #333333\"/>\n",
       "     <use xlink:href=\"#m27adb2b6ec\" x=\"219.485765\" y=\"55.618\" style=\"fill: #4c72b0; stroke: #333333\"/>\n",
       "     <use xlink:href=\"#m27adb2b6ec\" x=\"217.940814\" y=\"71.424564\" style=\"fill: #4c72b0; stroke: #333333\"/>\n",
       "     <use xlink:href=\"#m27adb2b6ec\" x=\"111.954048\" y=\"186.744868\" style=\"fill: #4c72b0; stroke: #333333\"/>\n",
       "     <use xlink:href=\"#m27adb2b6ec\" x=\"124.656423\" y=\"185.762864\" style=\"fill: #4c72b0; stroke: #333333\"/>\n",
       "     <use xlink:href=\"#m27adb2b6ec\" x=\"145.229985\" y=\"183.319301\" style=\"fill: #4c72b0; stroke: #333333\"/>\n",
       "     <use xlink:href=\"#m27adb2b6ec\" x=\"222.397886\" y=\"78.300265\" style=\"fill: #4c72b0; stroke: #333333\"/>\n",
       "     <use xlink:href=\"#m27adb2b6ec\" x=\"242.922966\" y=\"94.024739\" style=\"fill: #4c72b0; stroke: #333333\"/>\n",
       "     <use xlink:href=\"#m27adb2b6ec\" x=\"110.301279\" y=\"172.15997\" style=\"fill: #4c72b0; stroke: #333333\"/>\n",
       "     <use xlink:href=\"#m27adb2b6ec\" x=\"148.487833\" y=\"173.182056\" style=\"fill: #4c72b0; stroke: #333333\"/>\n",
       "     <use xlink:href=\"#m27adb2b6ec\" x=\"235.313062\" y=\"94.145188\" style=\"fill: #4c72b0; stroke: #333333\"/>\n",
       "     <use xlink:href=\"#m27adb2b6ec\" x=\"240.024169\" y=\"78.517363\" style=\"fill: #4c72b0; stroke: #333333\"/>\n",
       "     <use xlink:href=\"#m27adb2b6ec\" x=\"241.022598\" y=\"82.562015\" style=\"fill: #4c72b0; stroke: #333333\"/>\n",
       "     <use xlink:href=\"#m27adb2b6ec\" x=\"115.037078\" y=\"192.609553\" style=\"fill: #4c72b0; stroke: #333333\"/>\n",
       "     <use xlink:href=\"#m27adb2b6ec\" x=\"119.156749\" y=\"177.029093\" style=\"fill: #4c72b0; stroke: #333333\"/>\n",
       "     <use xlink:href=\"#m27adb2b6ec\" x=\"239.965349\" y=\"63.14315\" style=\"fill: #4c72b0; stroke: #333333\"/>\n",
       "     <use xlink:href=\"#m27adb2b6ec\" x=\"249.02362\" y=\"68.410983\" style=\"fill: #4c72b0; stroke: #333333\"/>\n",
       "     <use xlink:href=\"#m27adb2b6ec\" x=\"120.833077\" y=\"203.205472\" style=\"fill: #4c72b0; stroke: #333333\"/>\n",
       "     <use xlink:href=\"#m27adb2b6ec\" x=\"247.516988\" y=\"57.620357\" style=\"fill: #4c72b0; stroke: #333333\"/>\n",
       "     <use xlink:href=\"#m27adb2b6ec\" x=\"89.422901\" y=\"181.377305\" style=\"fill: #4c72b0; stroke: #333333\"/>\n",
       "     <use xlink:href=\"#m27adb2b6ec\" x=\"216.407661\" y=\"95.628715\" style=\"fill: #4c72b0; stroke: #333333\"/>\n",
       "     <use xlink:href=\"#m27adb2b6ec\" x=\"123.798166\" y=\"167.163896\" style=\"fill: #4c72b0; stroke: #333333\"/>\n",
       "     <use xlink:href=\"#m27adb2b6ec\" x=\"209.95001\" y=\"83.961199\" style=\"fill: #4c72b0; stroke: #333333\"/>\n",
       "     <use xlink:href=\"#m27adb2b6ec\" x=\"221.548\" y=\"76.684942\" style=\"fill: #4c72b0; stroke: #333333\"/>\n",
       "     <use xlink:href=\"#m27adb2b6ec\" x=\"234.35574\" y=\"85.732678\" style=\"fill: #4c72b0; stroke: #333333\"/>\n",
       "     <use xlink:href=\"#m27adb2b6ec\" x=\"104.418185\" y=\"181.643469\" style=\"fill: #4c72b0; stroke: #333333\"/>\n",
       "     <use xlink:href=\"#m27adb2b6ec\" x=\"129.864831\" y=\"186.703174\" style=\"fill: #4c72b0; stroke: #333333\"/>\n",
       "     <use xlink:href=\"#m27adb2b6ec\" x=\"87.75752\" y=\"183.497031\" style=\"fill: #4c72b0; stroke: #333333\"/>\n",
       "     <use xlink:href=\"#m27adb2b6ec\" x=\"229.682913\" y=\"69.022285\" style=\"fill: #4c72b0; stroke: #333333\"/>\n",
       "     <use xlink:href=\"#m27adb2b6ec\" x=\"241.528911\" y=\"69.651855\" style=\"fill: #4c72b0; stroke: #333333\"/>\n",
       "     <use xlink:href=\"#m27adb2b6ec\" x=\"223.83862\" y=\"75.016681\" style=\"fill: #4c72b0; stroke: #333333\"/>\n",
       "     <use xlink:href=\"#m27adb2b6ec\" x=\"212.008285\" y=\"72.755186\" style=\"fill: #4c72b0; stroke: #333333\"/>\n",
       "     <use xlink:href=\"#m27adb2b6ec\" x=\"214.736981\" y=\"84.901747\" style=\"fill: #4c72b0; stroke: #333333\"/>\n",
       "     <use xlink:href=\"#m27adb2b6ec\" x=\"109.712661\" y=\"202.406624\" style=\"fill: #4c72b0; stroke: #333333\"/>\n",
       "     <use xlink:href=\"#m27adb2b6ec\" x=\"126.879898\" y=\"213.477209\" style=\"fill: #4c72b0; stroke: #333333\"/>\n",
       "     <use xlink:href=\"#m27adb2b6ec\" x=\"203.768263\" y=\"73.932771\" style=\"fill: #4c72b0; stroke: #333333\"/>\n",
       "     <use xlink:href=\"#m27adb2b6ec\" x=\"230.643367\" y=\"77.191744\" style=\"fill: #4c72b0; stroke: #333333\"/>\n",
       "     <use xlink:href=\"#m27adb2b6ec\" x=\"214.471823\" y=\"74.745145\" style=\"fill: #4c72b0; stroke: #333333\"/>\n",
       "     <use xlink:href=\"#m27adb2b6ec\" x=\"111.400863\" y=\"198.233744\" style=\"fill: #4c72b0; stroke: #333333\"/>\n",
       "     <use xlink:href=\"#m27adb2b6ec\" x=\"233.718676\" y=\"73.441858\" style=\"fill: #4c72b0; stroke: #333333\"/>\n",
       "     <use xlink:href=\"#m27adb2b6ec\" x=\"243.440381\" y=\"81.097733\" style=\"fill: #4c72b0; stroke: #333333\"/>\n",
       "     <use xlink:href=\"#m27adb2b6ec\" x=\"108.314614\" y=\"189.605478\" style=\"fill: #4c72b0; stroke: #333333\"/>\n",
       "     <use xlink:href=\"#m27adb2b6ec\" x=\"231.176975\" y=\"71.816952\" style=\"fill: #4c72b0; stroke: #333333\"/>\n",
       "     <use xlink:href=\"#m27adb2b6ec\" x=\"126.125452\" y=\"194.706778\" style=\"fill: #4c72b0; stroke: #333333\"/>\n",
       "     <use xlink:href=\"#m27adb2b6ec\" x=\"216.001771\" y=\"60.817985\" style=\"fill: #4c72b0; stroke: #333333\"/>\n",
       "     <use xlink:href=\"#m27adb2b6ec\" x=\"235.130602\" y=\"79.447528\" style=\"fill: #4c72b0; stroke: #333333\"/>\n",
       "    </g>\n",
       "   </g>\n",
       "   <g id=\"PathCollection_2\">\n",
       "    <defs>\n",
       "     <path id=\"m2d0cadd94e\" d=\"M 0 3 \n",
       "C 0.795609 3 1.55874 2.683901 2.12132 2.12132 \n",
       "C 2.683901 1.55874 3 0.795609 3 0 \n",
       "C 3 -0.795609 2.683901 -1.55874 2.12132 -2.12132 \n",
       "C 1.55874 -2.683901 0.795609 -3 0 -3 \n",
       "C -0.795609 -3 -1.55874 -2.683901 -2.12132 -2.12132 \n",
       "C -2.683901 -1.55874 -3 -0.795609 -3 0 \n",
       "C -3 0.795609 -2.683901 1.55874 -2.12132 2.12132 \n",
       "C -1.55874 2.683901 -0.795609 3 0 3 \n",
       "z\n",
       "\" style=\"stroke: #333333\"/>\n",
       "    </defs>\n",
       "    <g clip-path=\"url(#pc152bcd043)\">\n",
       "     <use xlink:href=\"#m2d0cadd94e\" x=\"114.93751\" y=\"75.432451\" style=\"fill: #dd8452; stroke: #333333\"/>\n",
       "     <use xlink:href=\"#m2d0cadd94e\" x=\"210.258853\" y=\"187.053076\" style=\"fill: #dd8452; stroke: #333333\"/>\n",
       "     <use xlink:href=\"#m2d0cadd94e\" x=\"229.216029\" y=\"183.50721\" style=\"fill: #dd8452; stroke: #333333\"/>\n",
       "     <use xlink:href=\"#m2d0cadd94e\" x=\"247.486217\" y=\"165.393594\" style=\"fill: #dd8452; stroke: #333333\"/>\n",
       "     <use xlink:href=\"#m2d0cadd94e\" x=\"213.761927\" y=\"210.816467\" style=\"fill: #dd8452; stroke: #333333\"/>\n",
       "     <use xlink:href=\"#m2d0cadd94e\" x=\"235.264922\" y=\"192.549786\" style=\"fill: #dd8452; stroke: #333333\"/>\n",
       "     <use xlink:href=\"#m2d0cadd94e\" x=\"219.075415\" y=\"193.743138\" style=\"fill: #dd8452; stroke: #333333\"/>\n",
       "     <use xlink:href=\"#m2d0cadd94e\" x=\"108.088274\" y=\"95.491764\" style=\"fill: #dd8452; stroke: #333333\"/>\n",
       "     <use xlink:href=\"#m2d0cadd94e\" x=\"103.456599\" y=\"87.996651\" style=\"fill: #dd8452; stroke: #333333\"/>\n",
       "     <use xlink:href=\"#m2d0cadd94e\" x=\"119.638381\" y=\"80.987079\" style=\"fill: #dd8452; stroke: #333333\"/>\n",
       "     <use xlink:href=\"#m2d0cadd94e\" x=\"120.689382\" y=\"96.588244\" style=\"fill: #dd8452; stroke: #333333\"/>\n",
       "     <use xlink:href=\"#m2d0cadd94e\" x=\"227.965613\" y=\"194.876761\" style=\"fill: #dd8452; stroke: #333333\"/>\n",
       "     <use xlink:href=\"#m2d0cadd94e\" x=\"227.636038\" y=\"171.364591\" style=\"fill: #dd8452; stroke: #333333\"/>\n",
       "     <use xlink:href=\"#m2d0cadd94e\" x=\"104.381743\" y=\"86.574211\" style=\"fill: #dd8452; stroke: #333333\"/>\n",
       "     <use xlink:href=\"#m2d0cadd94e\" x=\"109.802731\" y=\"75.207178\" style=\"fill: #dd8452; stroke: #333333\"/>\n",
       "     <use xlink:href=\"#m2d0cadd94e\" x=\"107.825654\" y=\"84.716563\" style=\"fill: #dd8452; stroke: #333333\"/>\n",
       "     <use xlink:href=\"#m2d0cadd94e\" x=\"110.18693\" y=\"66.027341\" style=\"fill: #dd8452; stroke: #333333\"/>\n",
       "     <use xlink:href=\"#m2d0cadd94e\" x=\"121.721306\" y=\"63.692712\" style=\"fill: #dd8452; stroke: #333333\"/>\n",
       "     <use xlink:href=\"#m2d0cadd94e\" x=\"217.075655\" y=\"189.970212\" style=\"fill: #dd8452; stroke: #333333\"/>\n",
       "     <use xlink:href=\"#m2d0cadd94e\" x=\"245.488195\" y=\"211.079945\" style=\"fill: #dd8452; stroke: #333333\"/>\n",
       "     <use xlink:href=\"#m2d0cadd94e\" x=\"221.252011\" y=\"198.941858\" style=\"fill: #dd8452; stroke: #333333\"/>\n",
       "     <use xlink:href=\"#m2d0cadd94e\" x=\"225.453163\" y=\"196.960523\" style=\"fill: #dd8452; stroke: #333333\"/>\n",
       "     <use xlink:href=\"#m2d0cadd94e\" x=\"144.020459\" y=\"73.137317\" style=\"fill: #dd8452; stroke: #333333\"/>\n",
       "     <use xlink:href=\"#m2d0cadd94e\" x=\"112.328318\" y=\"73.865175\" style=\"fill: #dd8452; stroke: #333333\"/>\n",
       "     <use xlink:href=\"#m2d0cadd94e\" x=\"232.580969\" y=\"185.60974\" style=\"fill: #dd8452; stroke: #333333\"/>\n",
       "     <use xlink:href=\"#m2d0cadd94e\" x=\"112.045766\" y=\"82.110874\" style=\"fill: #dd8452; stroke: #333333\"/>\n",
       "     <use xlink:href=\"#m2d0cadd94e\" x=\"100.673918\" y=\"69.03664\" style=\"fill: #dd8452; stroke: #333333\"/>\n",
       "     <use xlink:href=\"#m2d0cadd94e\" x=\"223.007794\" y=\"201.47636\" style=\"fill: #dd8452; stroke: #333333\"/>\n",
       "     <use xlink:href=\"#m2d0cadd94e\" x=\"229.296592\" y=\"179.183006\" style=\"fill: #dd8452; stroke: #333333\"/>\n",
       "     <use xlink:href=\"#m2d0cadd94e\" x=\"212.520989\" y=\"186.699945\" style=\"fill: #dd8452; stroke: #333333\"/>\n",
       "     <use xlink:href=\"#m2d0cadd94e\" x=\"119.828872\" y=\"70.157758\" style=\"fill: #dd8452; stroke: #333333\"/>\n",
       "     <use xlink:href=\"#m2d0cadd94e\" x=\"116.717832\" y=\"57.60587\" style=\"fill: #dd8452; stroke: #333333\"/>\n",
       "     <use xlink:href=\"#m2d0cadd94e\" x=\"117.415093\" y=\"91.55918\" style=\"fill: #dd8452; stroke: #333333\"/>\n",
       "     <use xlink:href=\"#m2d0cadd94e\" x=\"133.229562\" y=\"59.482274\" style=\"fill: #dd8452; stroke: #333333\"/>\n",
       "     <use xlink:href=\"#m2d0cadd94e\" x=\"119.030392\" y=\"68.760385\" style=\"fill: #dd8452; stroke: #333333\"/>\n",
       "     <use xlink:href=\"#m2d0cadd94e\" x=\"231.574213\" y=\"195.888015\" style=\"fill: #dd8452; stroke: #333333\"/>\n",
       "     <use xlink:href=\"#m2d0cadd94e\" x=\"221.032296\" y=\"186.540677\" style=\"fill: #dd8452; stroke: #333333\"/>\n",
       "     <use xlink:href=\"#m2d0cadd94e\" x=\"115.734491\" y=\"70.982914\" style=\"fill: #dd8452; stroke: #333333\"/>\n",
       "     <use xlink:href=\"#m2d0cadd94e\" x=\"241.840748\" y=\"185.536638\" style=\"fill: #dd8452; stroke: #333333\"/>\n",
       "     <use xlink:href=\"#m2d0cadd94e\" x=\"114.52001\" y=\"56.009145\" style=\"fill: #dd8452; stroke: #333333\"/>\n",
       "     <use xlink:href=\"#m2d0cadd94e\" x=\"217.375358\" y=\"201.310309\" style=\"fill: #dd8452; stroke: #333333\"/>\n",
       "     <use xlink:href=\"#m2d0cadd94e\" x=\"117.721756\" y=\"92.32122\" style=\"fill: #dd8452; stroke: #333333\"/>\n",
       "     <use xlink:href=\"#m2d0cadd94e\" x=\"134.92483\" y=\"78.053678\" style=\"fill: #dd8452; stroke: #333333\"/>\n",
       "     <use xlink:href=\"#m2d0cadd94e\" x=\"237.953977\" y=\"189.414661\" style=\"fill: #dd8452; stroke: #333333\"/>\n",
       "     <use xlink:href=\"#m2d0cadd94e\" x=\"225.740984\" y=\"193.855408\" style=\"fill: #dd8452; stroke: #333333\"/>\n",
       "     <use xlink:href=\"#m2d0cadd94e\" x=\"124.254942\" y=\"76.580481\" style=\"fill: #dd8452; stroke: #333333\"/>\n",
       "     <use xlink:href=\"#m2d0cadd94e\" x=\"208.992873\" y=\"186.571156\" style=\"fill: #dd8452; stroke: #333333\"/>\n",
       "     <use xlink:href=\"#m2d0cadd94e\" x=\"212.744947\" y=\"193.983145\" style=\"fill: #dd8452; stroke: #333333\"/>\n",
       "     <use xlink:href=\"#m2d0cadd94e\" x=\"236.498472\" y=\"185.010964\" style=\"fill: #dd8452; stroke: #333333\"/>\n",
       "     <use xlink:href=\"#m2d0cadd94e\" x=\"95.979515\" y=\"67.932256\" style=\"fill: #dd8452; stroke: #333333\"/>\n",
       "     <use xlink:href=\"#m2d0cadd94e\" x=\"234.024486\" y=\"185.081208\" style=\"fill: #dd8452; stroke: #333333\"/>\n",
       "     <use xlink:href=\"#m2d0cadd94e\" x=\"217.988624\" y=\"201.991013\" style=\"fill: #dd8452; stroke: #333333\"/>\n",
       "     <use xlink:href=\"#m2d0cadd94e\" x=\"119.89197\" y=\"60.3428\" style=\"fill: #dd8452; stroke: #333333\"/>\n",
       "     <use xlink:href=\"#m2d0cadd94e\" x=\"103.964957\" y=\"90.709465\" style=\"fill: #dd8452; stroke: #333333\"/>\n",
       "     <use xlink:href=\"#m2d0cadd94e\" x=\"217.941574\" y=\"191.985511\" style=\"fill: #dd8452; stroke: #333333\"/>\n",
       "     <use xlink:href=\"#m2d0cadd94e\" x=\"116.093813\" y=\"68.037048\" style=\"fill: #dd8452; stroke: #333333\"/>\n",
       "     <use xlink:href=\"#m2d0cadd94e\" x=\"228.922789\" y=\"186.042041\" style=\"fill: #dd8452; stroke: #333333\"/>\n",
       "     <use xlink:href=\"#m2d0cadd94e\" x=\"118.879154\" y=\"75.845723\" style=\"fill: #dd8452; stroke: #333333\"/>\n",
       "     <use xlink:href=\"#m2d0cadd94e\" x=\"245.144225\" y=\"202.146801\" style=\"fill: #dd8452; stroke: #333333\"/>\n",
       "     <use xlink:href=\"#m2d0cadd94e\" x=\"119.261109\" y=\"73.427582\" style=\"fill: #dd8452; stroke: #333333\"/>\n",
       "     <use xlink:href=\"#m2d0cadd94e\" x=\"98.767993\" y=\"93.791033\" style=\"fill: #dd8452; stroke: #333333\"/>\n",
       "     <use xlink:href=\"#m2d0cadd94e\" x=\"223.371373\" y=\"186.768003\" style=\"fill: #dd8452; stroke: #333333\"/>\n",
       "     <use xlink:href=\"#m2d0cadd94e\" x=\"114.089597\" y=\"66.300001\" style=\"fill: #dd8452; stroke: #333333\"/>\n",
       "     <use xlink:href=\"#m2d0cadd94e\" x=\"240.000284\" y=\"184.914347\" style=\"fill: #dd8452; stroke: #333333\"/>\n",
       "     <use xlink:href=\"#m2d0cadd94e\" x=\"235.46212\" y=\"197.087393\" style=\"fill: #dd8452; stroke: #333333\"/>\n",
       "     <use xlink:href=\"#m2d0cadd94e\" x=\"209.9718\" y=\"189.751563\" style=\"fill: #dd8452; stroke: #333333\"/>\n",
       "     <use xlink:href=\"#m2d0cadd94e\" x=\"104.01556\" y=\"90.946073\" style=\"fill: #dd8452; stroke: #333333\"/>\n",
       "     <use xlink:href=\"#m2d0cadd94e\" x=\"118.342245\" y=\"64.122863\" style=\"fill: #dd8452; stroke: #333333\"/>\n",
       "     <use xlink:href=\"#m2d0cadd94e\" x=\"229.441078\" y=\"192.427563\" style=\"fill: #dd8452; stroke: #333333\"/>\n",
       "     <use xlink:href=\"#m2d0cadd94e\" x=\"146.595466\" y=\"73.560211\" style=\"fill: #dd8452; stroke: #333333\"/>\n",
       "     <use xlink:href=\"#m2d0cadd94e\" x=\"232.406414\" y=\"187.337047\" style=\"fill: #dd8452; stroke: #333333\"/>\n",
       "     <use xlink:href=\"#m2d0cadd94e\" x=\"97.167218\" y=\"81.995237\" style=\"fill: #dd8452; stroke: #333333\"/>\n",
       "     <use xlink:href=\"#m2d0cadd94e\" x=\"232.214542\" y=\"180.537158\" style=\"fill: #dd8452; stroke: #333333\"/>\n",
       "     <use xlink:href=\"#m2d0cadd94e\" x=\"80.555486\" y=\"93.403688\" style=\"fill: #dd8452; stroke: #333333\"/>\n",
       "     <use xlink:href=\"#m2d0cadd94e\" x=\"222.946119\" y=\"196.081855\" style=\"fill: #dd8452; stroke: #333333\"/>\n",
       "     <use xlink:href=\"#m2d0cadd94e\" x=\"105.840893\" y=\"82.45037\" style=\"fill: #dd8452; stroke: #333333\"/>\n",
       "     <use xlink:href=\"#m2d0cadd94e\" x=\"121.617104\" y=\"80.361858\" style=\"fill: #dd8452; stroke: #333333\"/>\n",
       "     <use xlink:href=\"#m2d0cadd94e\" x=\"226.716215\" y=\"179.850574\" style=\"fill: #dd8452; stroke: #333333\"/>\n",
       "     <use xlink:href=\"#m2d0cadd94e\" x=\"136.04141\" y=\"92.225482\" style=\"fill: #dd8452; stroke: #333333\"/>\n",
       "     <use xlink:href=\"#m2d0cadd94e\" x=\"226.32125\" y=\"204.975553\" style=\"fill: #dd8452; stroke: #333333\"/>\n",
       "     <use xlink:href=\"#m2d0cadd94e\" x=\"113.413158\" y=\"66.292281\" style=\"fill: #dd8452; stroke: #333333\"/>\n",
       "     <use xlink:href=\"#m2d0cadd94e\" x=\"231.683274\" y=\"188.200611\" style=\"fill: #dd8452; stroke: #333333\"/>\n",
       "     <use xlink:href=\"#m2d0cadd94e\" x=\"98.875898\" y=\"83.93964\" style=\"fill: #dd8452; stroke: #333333\"/>\n",
       "     <use xlink:href=\"#m2d0cadd94e\" x=\"241.968777\" y=\"184.432002\" style=\"fill: #dd8452; stroke: #333333\"/>\n",
       "     <use xlink:href=\"#m2d0cadd94e\" x=\"106.569348\" y=\"67.615184\" style=\"fill: #dd8452; stroke: #333333\"/>\n",
       "     <use xlink:href=\"#m2d0cadd94e\" x=\"247.106281\" y=\"206.421063\" style=\"fill: #dd8452; stroke: #333333\"/>\n",
       "     <use xlink:href=\"#m2d0cadd94e\" x=\"249.640078\" y=\"195.43204\" style=\"fill: #dd8452; stroke: #333333\"/>\n",
       "     <use xlink:href=\"#m2d0cadd94e\" x=\"227.084863\" y=\"184.165457\" style=\"fill: #dd8452; stroke: #333333\"/>\n",
       "     <use xlink:href=\"#m2d0cadd94e\" x=\"220.748685\" y=\"201.772088\" style=\"fill: #dd8452; stroke: #333333\"/>\n",
       "     <use xlink:href=\"#m2d0cadd94e\" x=\"226.411754\" y=\"183.397224\" style=\"fill: #dd8452; stroke: #333333\"/>\n",
       "     <use xlink:href=\"#m2d0cadd94e\" x=\"230.179616\" y=\"203.980188\" style=\"fill: #dd8452; stroke: #333333\"/>\n",
       "     <use xlink:href=\"#m2d0cadd94e\" x=\"236.858145\" y=\"180.123948\" style=\"fill: #dd8452; stroke: #333333\"/>\n",
       "     <use xlink:href=\"#m2d0cadd94e\" x=\"113.458853\" y=\"79.052907\" style=\"fill: #dd8452; stroke: #333333\"/>\n",
       "     <use xlink:href=\"#m2d0cadd94e\" x=\"199.64774\" y=\"191.330374\" style=\"fill: #dd8452; stroke: #333333\"/>\n",
       "     <use xlink:href=\"#m2d0cadd94e\" x=\"113.466305\" y=\"78.969455\" style=\"fill: #dd8452; stroke: #333333\"/>\n",
       "     <use xlink:href=\"#m2d0cadd94e\" x=\"127.568059\" y=\"80.007155\" style=\"fill: #dd8452; stroke: #333333\"/>\n",
       "     <use xlink:href=\"#m2d0cadd94e\" x=\"133.468106\" y=\"56.286814\" style=\"fill: #dd8452; stroke: #333333\"/>\n",
       "    </g>\n",
       "   </g>\n",
       "   <g id=\"patch_3\">\n",
       "    <path d=\"M 59.506094 243.549375 \n",
       "L 59.506094 21.789375 \n",
       "\" style=\"fill: none; stroke: #ffffff; stroke-width: 1.25; stroke-linejoin: miter; stroke-linecap: square\"/>\n",
       "   </g>\n",
       "   <g id=\"patch_4\">\n",
       "    <path d=\"M 281.266094 243.549375 \n",
       "L 281.266094 21.789375 \n",
       "\" style=\"fill: none; stroke: #ffffff; stroke-width: 1.25; stroke-linejoin: miter; stroke-linecap: square\"/>\n",
       "   </g>\n",
       "   <g id=\"patch_5\">\n",
       "    <path d=\"M 59.506094 243.549375 \n",
       "L 281.266094 243.549375 \n",
       "\" style=\"fill: none; stroke: #ffffff; stroke-width: 1.25; stroke-linejoin: miter; stroke-linecap: square\"/>\n",
       "   </g>\n",
       "   <g id=\"patch_6\">\n",
       "    <path d=\"M 59.506094 21.789375 \n",
       "L 281.266094 21.789375 \n",
       "\" style=\"fill: none; stroke: #ffffff; stroke-width: 1.25; stroke-linejoin: miter; stroke-linecap: square\"/>\n",
       "   </g>\n",
       "   <g id=\"text_17\">\n",
       "    <!-- Dataset samples -->\n",
       "    <g style=\"fill: #262626\" transform=\"translate(125.702031 15.789375) scale(0.12 -0.12)\">\n",
       "     <defs>\n",
       "      <path id=\"ArialMT-44\" d=\"M 494 0 \n",
       "L 494 4581 \n",
       "L 2072 4581 \n",
       "Q 2606 4581 2888 4516 \n",
       "Q 3281 4425 3559 4188 \n",
       "Q 3922 3881 4101 3404 \n",
       "Q 4281 2928 4281 2316 \n",
       "Q 4281 1794 4159 1391 \n",
       "Q 4038 988 3847 723 \n",
       "Q 3656 459 3429 307 \n",
       "Q 3203 156 2883 78 \n",
       "Q 2563 0 2147 0 \n",
       "L 494 0 \n",
       "z\n",
       "M 1100 541 \n",
       "L 2078 541 \n",
       "Q 2531 541 2789 625 \n",
       "Q 3047 709 3200 863 \n",
       "Q 3416 1078 3536 1442 \n",
       "Q 3656 1806 3656 2325 \n",
       "Q 3656 3044 3420 3430 \n",
       "Q 3184 3816 2847 3947 \n",
       "Q 2603 4041 2063 4041 \n",
       "L 1100 4041 \n",
       "L 1100 541 \n",
       "z\n",
       "\" transform=\"scale(0.015625)\"/>\n",
       "      <path id=\"ArialMT-61\" d=\"M 2588 409 \n",
       "Q 2275 144 1986 34 \n",
       "Q 1697 -75 1366 -75 \n",
       "Q 819 -75 525 192 \n",
       "Q 231 459 231 875 \n",
       "Q 231 1119 342 1320 \n",
       "Q 453 1522 633 1644 \n",
       "Q 813 1766 1038 1828 \n",
       "Q 1203 1872 1538 1913 \n",
       "Q 2219 1994 2541 2106 \n",
       "Q 2544 2222 2544 2253 \n",
       "Q 2544 2597 2384 2738 \n",
       "Q 2169 2928 1744 2928 \n",
       "Q 1347 2928 1158 2789 \n",
       "Q 969 2650 878 2297 \n",
       "L 328 2372 \n",
       "Q 403 2725 575 2942 \n",
       "Q 747 3159 1072 3276 \n",
       "Q 1397 3394 1825 3394 \n",
       "Q 2250 3394 2515 3294 \n",
       "Q 2781 3194 2906 3042 \n",
       "Q 3031 2891 3081 2659 \n",
       "Q 3109 2516 3109 2141 \n",
       "L 3109 1391 \n",
       "Q 3109 606 3145 398 \n",
       "Q 3181 191 3288 0 \n",
       "L 2700 0 \n",
       "Q 2613 175 2588 409 \n",
       "z\n",
       "M 2541 1666 \n",
       "Q 2234 1541 1622 1453 \n",
       "Q 1275 1403 1131 1340 \n",
       "Q 988 1278 909 1158 \n",
       "Q 831 1038 831 891 \n",
       "Q 831 666 1001 516 \n",
       "Q 1172 366 1500 366 \n",
       "Q 1825 366 2078 508 \n",
       "Q 2331 650 2450 897 \n",
       "Q 2541 1088 2541 1459 \n",
       "L 2541 1666 \n",
       "z\n",
       "\" transform=\"scale(0.015625)\"/>\n",
       "      <path id=\"ArialMT-74\" d=\"M 1650 503 \n",
       "L 1731 6 \n",
       "Q 1494 -44 1306 -44 \n",
       "Q 1000 -44 831 53 \n",
       "Q 663 150 594 308 \n",
       "Q 525 466 525 972 \n",
       "L 525 2881 \n",
       "L 113 2881 \n",
       "L 113 3319 \n",
       "L 525 3319 \n",
       "L 525 4141 \n",
       "L 1084 4478 \n",
       "L 1084 3319 \n",
       "L 1650 3319 \n",
       "L 1650 2881 \n",
       "L 1084 2881 \n",
       "L 1084 941 \n",
       "Q 1084 700 1114 631 \n",
       "Q 1144 563 1211 522 \n",
       "Q 1278 481 1403 481 \n",
       "Q 1497 481 1650 503 \n",
       "z\n",
       "\" transform=\"scale(0.015625)\"/>\n",
       "      <path id=\"ArialMT-73\" d=\"M 197 991 \n",
       "L 753 1078 \n",
       "Q 800 744 1014 566 \n",
       "Q 1228 388 1613 388 \n",
       "Q 2000 388 2187 545 \n",
       "Q 2375 703 2375 916 \n",
       "Q 2375 1106 2209 1216 \n",
       "Q 2094 1291 1634 1406 \n",
       "Q 1016 1563 777 1677 \n",
       "Q 538 1791 414 1992 \n",
       "Q 291 2194 291 2438 \n",
       "Q 291 2659 392 2848 \n",
       "Q 494 3038 669 3163 \n",
       "Q 800 3259 1026 3326 \n",
       "Q 1253 3394 1513 3394 \n",
       "Q 1903 3394 2198 3281 \n",
       "Q 2494 3169 2634 2976 \n",
       "Q 2775 2784 2828 2463 \n",
       "L 2278 2388 \n",
       "Q 2241 2644 2061 2787 \n",
       "Q 1881 2931 1553 2931 \n",
       "Q 1166 2931 1000 2803 \n",
       "Q 834 2675 834 2503 \n",
       "Q 834 2394 903 2306 \n",
       "Q 972 2216 1119 2156 \n",
       "Q 1203 2125 1616 2013 \n",
       "Q 2213 1853 2448 1751 \n",
       "Q 2684 1650 2818 1456 \n",
       "Q 2953 1263 2953 975 \n",
       "Q 2953 694 2789 445 \n",
       "Q 2625 197 2315 61 \n",
       "Q 2006 -75 1616 -75 \n",
       "Q 969 -75 630 194 \n",
       "Q 291 463 197 991 \n",
       "z\n",
       "\" transform=\"scale(0.015625)\"/>\n",
       "      <path id=\"ArialMT-65\" d=\"M 2694 1069 \n",
       "L 3275 997 \n",
       "Q 3138 488 2766 206 \n",
       "Q 2394 -75 1816 -75 \n",
       "Q 1088 -75 661 373 \n",
       "Q 234 822 234 1631 \n",
       "Q 234 2469 665 2931 \n",
       "Q 1097 3394 1784 3394 \n",
       "Q 2450 3394 2872 2941 \n",
       "Q 3294 2488 3294 1666 \n",
       "Q 3294 1616 3291 1516 \n",
       "L 816 1516 \n",
       "Q 847 969 1125 678 \n",
       "Q 1403 388 1819 388 \n",
       "Q 2128 388 2347 550 \n",
       "Q 2566 713 2694 1069 \n",
       "z\n",
       "M 847 1978 \n",
       "L 2700 1978 \n",
       "Q 2663 2397 2488 2606 \n",
       "Q 2219 2931 1791 2931 \n",
       "Q 1403 2931 1139 2672 \n",
       "Q 875 2413 847 1978 \n",
       "z\n",
       "\" transform=\"scale(0.015625)\"/>\n",
       "      <path id=\"ArialMT-20\" transform=\"scale(0.015625)\"/>\n",
       "      <path id=\"ArialMT-6d\" d=\"M 422 0 \n",
       "L 422 3319 \n",
       "L 925 3319 \n",
       "L 925 2853 \n",
       "Q 1081 3097 1340 3245 \n",
       "Q 1600 3394 1931 3394 \n",
       "Q 2300 3394 2536 3241 \n",
       "Q 2772 3088 2869 2813 \n",
       "Q 3263 3394 3894 3394 \n",
       "Q 4388 3394 4653 3120 \n",
       "Q 4919 2847 4919 2278 \n",
       "L 4919 0 \n",
       "L 4359 0 \n",
       "L 4359 2091 \n",
       "Q 4359 2428 4304 2576 \n",
       "Q 4250 2725 4106 2815 \n",
       "Q 3963 2906 3769 2906 \n",
       "Q 3419 2906 3187 2673 \n",
       "Q 2956 2441 2956 1928 \n",
       "L 2956 0 \n",
       "L 2394 0 \n",
       "L 2394 2156 \n",
       "Q 2394 2531 2256 2718 \n",
       "Q 2119 2906 1806 2906 \n",
       "Q 1569 2906 1367 2781 \n",
       "Q 1166 2656 1075 2415 \n",
       "Q 984 2175 984 1722 \n",
       "L 984 0 \n",
       "L 422 0 \n",
       "z\n",
       "\" transform=\"scale(0.015625)\"/>\n",
       "      <path id=\"ArialMT-70\" d=\"M 422 -1272 \n",
       "L 422 3319 \n",
       "L 934 3319 \n",
       "L 934 2888 \n",
       "Q 1116 3141 1344 3267 \n",
       "Q 1572 3394 1897 3394 \n",
       "Q 2322 3394 2647 3175 \n",
       "Q 2972 2956 3137 2557 \n",
       "Q 3303 2159 3303 1684 \n",
       "Q 3303 1175 3120 767 \n",
       "Q 2938 359 2589 142 \n",
       "Q 2241 -75 1856 -75 \n",
       "Q 1575 -75 1351 44 \n",
       "Q 1128 163 984 344 \n",
       "L 984 -1272 \n",
       "L 422 -1272 \n",
       "z\n",
       "M 931 1641 \n",
       "Q 931 1000 1190 694 \n",
       "Q 1450 388 1819 388 \n",
       "Q 2194 388 2461 705 \n",
       "Q 2728 1022 2728 1688 \n",
       "Q 2728 2322 2467 2637 \n",
       "Q 2206 2953 1844 2953 \n",
       "Q 1484 2953 1207 2617 \n",
       "Q 931 2281 931 1641 \n",
       "z\n",
       "\" transform=\"scale(0.015625)\"/>\n",
       "      <path id=\"ArialMT-6c\" d=\"M 409 0 \n",
       "L 409 4581 \n",
       "L 972 4581 \n",
       "L 972 0 \n",
       "L 409 0 \n",
       "z\n",
       "\" transform=\"scale(0.015625)\"/>\n",
       "     </defs>\n",
       "     <use xlink:href=\"#ArialMT-44\"/>\n",
       "     <use xlink:href=\"#ArialMT-61\" x=\"72.216797\"/>\n",
       "     <use xlink:href=\"#ArialMT-74\" x=\"127.832031\"/>\n",
       "     <use xlink:href=\"#ArialMT-61\" x=\"155.615234\"/>\n",
       "     <use xlink:href=\"#ArialMT-73\" x=\"211.230469\"/>\n",
       "     <use xlink:href=\"#ArialMT-65\" x=\"261.230469\"/>\n",
       "     <use xlink:href=\"#ArialMT-74\" x=\"316.845703\"/>\n",
       "     <use xlink:href=\"#ArialMT-20\" x=\"344.628906\"/>\n",
       "     <use xlink:href=\"#ArialMT-73\" x=\"372.412109\"/>\n",
       "     <use xlink:href=\"#ArialMT-61\" x=\"422.412109\"/>\n",
       "     <use xlink:href=\"#ArialMT-6d\" x=\"478.027344\"/>\n",
       "     <use xlink:href=\"#ArialMT-70\" x=\"561.328125\"/>\n",
       "     <use xlink:href=\"#ArialMT-6c\" x=\"616.943359\"/>\n",
       "     <use xlink:href=\"#ArialMT-65\" x=\"639.160156\"/>\n",
       "     <use xlink:href=\"#ArialMT-73\" x=\"694.775391\"/>\n",
       "    </g>\n",
       "   </g>\n",
       "   <g id=\"legend_1\">\n",
       "    <g id=\"patch_7\">\n",
       "     <path d=\"M 201.687969 149.879219 \n",
       "L 273.566094 149.879219 \n",
       "Q 275.766094 149.879219 275.766094 147.679219 \n",
       "L 275.766094 117.659531 \n",
       "Q 275.766094 115.459531 273.566094 115.459531 \n",
       "L 201.687969 115.459531 \n",
       "Q 199.487969 115.459531 199.487969 117.659531 \n",
       "L 199.487969 147.679219 \n",
       "Q 199.487969 149.879219 201.687969 149.879219 \n",
       "z\n",
       "\" style=\"fill: #eaeaf2; opacity: 0.8; stroke: #cccccc; stroke-linejoin: miter\"/>\n",
       "    </g>\n",
       "    <g id=\"PathCollection_3\">\n",
       "     <g>\n",
       "      <use xlink:href=\"#m27adb2b6ec\" x=\"214.887969\" y=\"124.845625\" style=\"fill: #4c72b0; stroke: #333333\"/>\n",
       "     </g>\n",
       "    </g>\n",
       "    <g id=\"text_18\">\n",
       "     <!-- Class 0 -->\n",
       "     <g style=\"fill: #262626\" transform=\"translate(234.687969 127.733125) scale(0.11 -0.11)\">\n",
       "      <defs>\n",
       "       <path id=\"ArialMT-43\" d=\"M 3763 1606 \n",
       "L 4369 1453 \n",
       "Q 4178 706 3683 314 \n",
       "Q 3188 -78 2472 -78 \n",
       "Q 1731 -78 1267 223 \n",
       "Q 803 525 561 1097 \n",
       "Q 319 1669 319 2325 \n",
       "Q 319 3041 592 3573 \n",
       "Q 866 4106 1370 4382 \n",
       "Q 1875 4659 2481 4659 \n",
       "Q 3169 4659 3637 4309 \n",
       "Q 4106 3959 4291 3325 \n",
       "L 3694 3184 \n",
       "Q 3534 3684 3231 3912 \n",
       "Q 2928 4141 2469 4141 \n",
       "Q 1941 4141 1586 3887 \n",
       "Q 1231 3634 1087 3207 \n",
       "Q 944 2781 944 2328 \n",
       "Q 944 1744 1114 1308 \n",
       "Q 1284 872 1643 656 \n",
       "Q 2003 441 2422 441 \n",
       "Q 2931 441 3284 734 \n",
       "Q 3638 1028 3763 1606 \n",
       "z\n",
       "\" transform=\"scale(0.015625)\"/>\n",
       "      </defs>\n",
       "      <use xlink:href=\"#ArialMT-43\"/>\n",
       "      <use xlink:href=\"#ArialMT-6c\" x=\"72.216797\"/>\n",
       "      <use xlink:href=\"#ArialMT-61\" x=\"94.433594\"/>\n",
       "      <use xlink:href=\"#ArialMT-73\" x=\"150.048828\"/>\n",
       "      <use xlink:href=\"#ArialMT-73\" x=\"200.048828\"/>\n",
       "      <use xlink:href=\"#ArialMT-20\" x=\"250.048828\"/>\n",
       "      <use xlink:href=\"#ArialMT-30\" x=\"277.832031\"/>\n",
       "     </g>\n",
       "    </g>\n",
       "    <g id=\"PathCollection_4\">\n",
       "     <g>\n",
       "      <use xlink:href=\"#m2d0cadd94e\" x=\"214.887969\" y=\"140.405469\" style=\"fill: #dd8452; stroke: #333333\"/>\n",
       "     </g>\n",
       "    </g>\n",
       "    <g id=\"text_19\">\n",
       "     <!-- Class 1 -->\n",
       "     <g style=\"fill: #262626\" transform=\"translate(234.687969 143.292969) scale(0.11 -0.11)\">\n",
       "      <use xlink:href=\"#ArialMT-43\"/>\n",
       "      <use xlink:href=\"#ArialMT-6c\" x=\"72.216797\"/>\n",
       "      <use xlink:href=\"#ArialMT-61\" x=\"94.433594\"/>\n",
       "      <use xlink:href=\"#ArialMT-73\" x=\"150.048828\"/>\n",
       "      <use xlink:href=\"#ArialMT-73\" x=\"200.048828\"/>\n",
       "      <use xlink:href=\"#ArialMT-20\" x=\"250.048828\"/>\n",
       "      <use xlink:href=\"#ArialMT-31\" x=\"277.832031\"/>\n",
       "     </g>\n",
       "    </g>\n",
       "   </g>\n",
       "  </g>\n",
       " </g>\n",
       " <defs>\n",
       "  <clipPath id=\"pc152bcd043\">\n",
       "   <rect x=\"59.506094\" y=\"21.789375\" width=\"221.76\" height=\"221.76\"/>\n",
       "  </clipPath>\n",
       " </defs>\n",
       "</svg>\n"
      ],
      "text/plain": [
       "<Figure size 2000x2000 with 1 Axes>"
      ]
     },
     "metadata": {},
     "output_type": "display_data"
    }
   ],
   "source": [
    "@torch.no_grad() # Decorator, same effect as \"with torch.no_grad(): ...\" over the whole function.\n",
    "def visualize_classification(model, data, label):\n",
    "    if isinstance(data, torch.Tensor):\n",
    "        data = data.cpu().numpy()\n",
    "    if isinstance(label, torch.Tensor):\n",
    "        label = label.cpu().numpy()\n",
    "    data_0 = data[label == 0]\n",
    "    data_1 = data[label == 1]\n",
    "\n",
    "    fig = plt.figure(figsize=(4,4), dpi=500)\n",
    "    plt.scatter(data_0[:,0], data_0[:,1], edgecolor=\"#333\", label=\"Class 0\")\n",
    "    plt.scatter(data_1[:,0], data_1[:,1], edgecolor=\"#333\", label=\"Class 1\")\n",
    "    plt.title(\"Dataset samples\")\n",
    "    plt.ylabel(r\"$x_2$\")\n",
    "    plt.xlabel(r\"$x_1$\")\n",
    "    plt.legend()\n",
    "\n",
    "    # Let's make use of a lot of operations we have learned above\n",
    "    model.to(device)\n",
    "    c0 = torch.Tensor(to_rgba(\"C0\")).to(device)\n",
    "    c1 = torch.Tensor(to_rgba(\"C1\")).to(device)\n",
    "    x1 = torch.arange(-0.5, 1.5, step=0.01, device=device)\n",
    "    x2 = torch.arange(-0.5, 1.5, step=0.01, device=device)\n",
    "    xx1, xx2 = torch.meshgrid(x1, x2, indexing='ij')  # Meshgrid function as in numpy\n",
    "    model_inputs = torch.stack([xx1, xx2], dim=-1)\n",
    "    preds = model(model_inputs)\n",
    "    preds = torch.sigmoid(preds)\n",
    "    output_image = (1 - preds) * c0[None,None] + preds * c1[None,None]  # Specifying \"None\" in a dimension creates a new one\n",
    "    output_image = output_image.cpu().numpy()  # Convert to numpy array. This only works for tensors on CPU, hence first push to CPU\n",
    "    plt.imshow(output_image, origin='lower', extent=(-0.5, 1.5, -0.5, 1.5))\n",
    "    plt.grid(False)\n",
    "    return fig\n",
    "\n",
    "_ = visualize_classification(model, dataset.data, dataset.label)\n",
    "plt.show()"
   ]
  },
  {
   "cell_type": "markdown",
   "metadata": {
    "id": "CaoBEMN7kMnm"
   },
   "source": [
    "The decision boundaries might not look exactly as in the figure in the preamble of this section which can be caused by running it on CPU or a different GPU architecture. Nevertheless, the result on the accuracy metric should be the approximately the same."
   ]
  }
 ],
 "metadata": {
  "colab": {
   "provenance": []
  },
  "kernelspec": {
   "display_name": "Python 3 (ipykernel)",
   "language": "python",
   "name": "python3"
  },
  "language_info": {
   "codemirror_mode": {
    "name": "ipython",
    "version": 3
   },
   "file_extension": ".py",
   "mimetype": "text/x-python",
   "name": "python",
   "nbconvert_exporter": "python",
   "pygments_lexer": "ipython3",
   "version": "3.12.7"
  }
 },
 "nbformat": 4,
 "nbformat_minor": 4
}
